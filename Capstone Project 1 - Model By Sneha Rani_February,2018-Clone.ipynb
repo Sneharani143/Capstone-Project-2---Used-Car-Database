{
 "cells": [
  {
   "cell_type": "code",
   "execution_count": 50,
   "metadata": {},
   "outputs": [
    {
     "name": "stdout",
     "output_type": "stream",
     "text": [
      "Populating the interactive namespace from numpy and matplotlib\n"
     ]
    },
    {
     "name": "stderr",
     "output_type": "stream",
     "text": [
      "F:\\Anaconda3\\lib\\site-packages\\IPython\\core\\magics\\pylab.py:161: UserWarning: pylab import has clobbered these variables: ['negative', 'number', 'grid']\n",
      "`%matplotlib` prevents importing * from pylab and numpy\n",
      "  \"\\n`%matplotlib` prevents importing * from pylab and numpy\"\n",
      "F:\\Anaconda3\\lib\\site-packages\\ipykernel\\__main__.py:22: SettingWithCopyWarning: \n",
      "A value is trying to be set on a copy of a slice from a DataFrame.\n",
      "Try using .loc[row_indexer,col_indexer] = value instead\n",
      "\n",
      "See the caveats in the documentation: http://pandas.pydata.org/pandas-docs/stable/indexing.html#indexing-view-versus-copy\n"
     ]
    },
    {
     "data": {
      "text/html": [
       "<div>\n",
       "<style>\n",
       "    .dataframe thead tr:only-child th {\n",
       "        text-align: right;\n",
       "    }\n",
       "\n",
       "    .dataframe thead th {\n",
       "        text-align: left;\n",
       "    }\n",
       "\n",
       "    .dataframe tbody tr th {\n",
       "        vertical-align: top;\n",
       "    }\n",
       "</style>\n",
       "<table border=\"1\" class=\"dataframe\">\n",
       "  <thead>\n",
       "    <tr style=\"text-align: right;\">\n",
       "      <th></th>\n",
       "      <th>Age</th>\n",
       "      <th>Attrition</th>\n",
       "      <th>BusinessTravel</th>\n",
       "      <th>Department</th>\n",
       "      <th>DistanceFromHome</th>\n",
       "      <th>Education</th>\n",
       "      <th>EducationField</th>\n",
       "      <th>EnvironmentSatisfaction</th>\n",
       "      <th>Gender</th>\n",
       "      <th>HourlyRate</th>\n",
       "      <th>...</th>\n",
       "      <th>NumCompaniesWorked</th>\n",
       "      <th>OverTime</th>\n",
       "      <th>PercentSalaryHike</th>\n",
       "      <th>RelationshipSatisfaction</th>\n",
       "      <th>TotalWorkingYears</th>\n",
       "      <th>WorkLifeBalance</th>\n",
       "      <th>YearsAtCompany</th>\n",
       "      <th>YearsInCurrentRole</th>\n",
       "      <th>YearsSinceLastPromotion</th>\n",
       "      <th>YearsWithCurrManager</th>\n",
       "    </tr>\n",
       "  </thead>\n",
       "  <tbody>\n",
       "    <tr>\n",
       "      <th>0</th>\n",
       "      <td>41</td>\n",
       "      <td>1</td>\n",
       "      <td>Travel_Rarely</td>\n",
       "      <td>Sales</td>\n",
       "      <td>1</td>\n",
       "      <td>2</td>\n",
       "      <td>Life Sciences</td>\n",
       "      <td>2</td>\n",
       "      <td>Female</td>\n",
       "      <td>94</td>\n",
       "      <td>...</td>\n",
       "      <td>8</td>\n",
       "      <td>Yes</td>\n",
       "      <td>11</td>\n",
       "      <td>1</td>\n",
       "      <td>8</td>\n",
       "      <td>1</td>\n",
       "      <td>6</td>\n",
       "      <td>4</td>\n",
       "      <td>0</td>\n",
       "      <td>5</td>\n",
       "    </tr>\n",
       "    <tr>\n",
       "      <th>1</th>\n",
       "      <td>49</td>\n",
       "      <td>0</td>\n",
       "      <td>Travel_Frequently</td>\n",
       "      <td>Research &amp; Development</td>\n",
       "      <td>8</td>\n",
       "      <td>1</td>\n",
       "      <td>Life Sciences</td>\n",
       "      <td>3</td>\n",
       "      <td>Male</td>\n",
       "      <td>61</td>\n",
       "      <td>...</td>\n",
       "      <td>1</td>\n",
       "      <td>No</td>\n",
       "      <td>23</td>\n",
       "      <td>4</td>\n",
       "      <td>10</td>\n",
       "      <td>3</td>\n",
       "      <td>10</td>\n",
       "      <td>7</td>\n",
       "      <td>1</td>\n",
       "      <td>7</td>\n",
       "    </tr>\n",
       "    <tr>\n",
       "      <th>2</th>\n",
       "      <td>37</td>\n",
       "      <td>1</td>\n",
       "      <td>Travel_Rarely</td>\n",
       "      <td>Research &amp; Development</td>\n",
       "      <td>2</td>\n",
       "      <td>2</td>\n",
       "      <td>Other</td>\n",
       "      <td>4</td>\n",
       "      <td>Male</td>\n",
       "      <td>92</td>\n",
       "      <td>...</td>\n",
       "      <td>6</td>\n",
       "      <td>Yes</td>\n",
       "      <td>15</td>\n",
       "      <td>2</td>\n",
       "      <td>7</td>\n",
       "      <td>3</td>\n",
       "      <td>0</td>\n",
       "      <td>0</td>\n",
       "      <td>0</td>\n",
       "      <td>0</td>\n",
       "    </tr>\n",
       "    <tr>\n",
       "      <th>3</th>\n",
       "      <td>33</td>\n",
       "      <td>0</td>\n",
       "      <td>Travel_Frequently</td>\n",
       "      <td>Research &amp; Development</td>\n",
       "      <td>3</td>\n",
       "      <td>4</td>\n",
       "      <td>Life Sciences</td>\n",
       "      <td>4</td>\n",
       "      <td>Female</td>\n",
       "      <td>56</td>\n",
       "      <td>...</td>\n",
       "      <td>1</td>\n",
       "      <td>Yes</td>\n",
       "      <td>11</td>\n",
       "      <td>3</td>\n",
       "      <td>8</td>\n",
       "      <td>3</td>\n",
       "      <td>8</td>\n",
       "      <td>7</td>\n",
       "      <td>3</td>\n",
       "      <td>0</td>\n",
       "    </tr>\n",
       "    <tr>\n",
       "      <th>4</th>\n",
       "      <td>27</td>\n",
       "      <td>0</td>\n",
       "      <td>Travel_Rarely</td>\n",
       "      <td>Research &amp; Development</td>\n",
       "      <td>2</td>\n",
       "      <td>1</td>\n",
       "      <td>Medical</td>\n",
       "      <td>1</td>\n",
       "      <td>Male</td>\n",
       "      <td>40</td>\n",
       "      <td>...</td>\n",
       "      <td>9</td>\n",
       "      <td>No</td>\n",
       "      <td>12</td>\n",
       "      <td>4</td>\n",
       "      <td>6</td>\n",
       "      <td>3</td>\n",
       "      <td>2</td>\n",
       "      <td>2</td>\n",
       "      <td>2</td>\n",
       "      <td>2</td>\n",
       "    </tr>\n",
       "  </tbody>\n",
       "</table>\n",
       "<p>5 rows × 25 columns</p>\n",
       "</div>"
      ],
      "text/plain": [
       "   Age  Attrition     BusinessTravel              Department  \\\n",
       "0   41          1      Travel_Rarely                   Sales   \n",
       "1   49          0  Travel_Frequently  Research & Development   \n",
       "2   37          1      Travel_Rarely  Research & Development   \n",
       "3   33          0  Travel_Frequently  Research & Development   \n",
       "4   27          0      Travel_Rarely  Research & Development   \n",
       "\n",
       "   DistanceFromHome  Education EducationField  EnvironmentSatisfaction  \\\n",
       "0                 1          2  Life Sciences                        2   \n",
       "1                 8          1  Life Sciences                        3   \n",
       "2                 2          2          Other                        4   \n",
       "3                 3          4  Life Sciences                        4   \n",
       "4                 2          1        Medical                        1   \n",
       "\n",
       "   Gender  HourlyRate          ...           NumCompaniesWorked OverTime  \\\n",
       "0  Female          94          ...                            8      Yes   \n",
       "1    Male          61          ...                            1       No   \n",
       "2    Male          92          ...                            6      Yes   \n",
       "3  Female          56          ...                            1      Yes   \n",
       "4    Male          40          ...                            9       No   \n",
       "\n",
       "   PercentSalaryHike RelationshipSatisfaction  TotalWorkingYears  \\\n",
       "0                 11                        1                  8   \n",
       "1                 23                        4                 10   \n",
       "2                 15                        2                  7   \n",
       "3                 11                        3                  8   \n",
       "4                 12                        4                  6   \n",
       "\n",
       "   WorkLifeBalance YearsAtCompany  YearsInCurrentRole  \\\n",
       "0                1              6                   4   \n",
       "1                3             10                   7   \n",
       "2                3              0                   0   \n",
       "3                3              8                   7   \n",
       "4                3              2                   2   \n",
       "\n",
       "   YearsSinceLastPromotion  YearsWithCurrManager  \n",
       "0                        0                     5  \n",
       "1                        1                     7  \n",
       "2                        0                     0  \n",
       "3                        3                     0  \n",
       "4                        2                     2  \n",
       "\n",
       "[5 rows x 25 columns]"
      ]
     },
     "execution_count": 50,
     "metadata": {},
     "output_type": "execute_result"
    }
   ],
   "source": [
    "%pylab inline\n",
    "import pandas as pd\n",
    "import numpy as np\n",
    "import matplotlib.pyplot as plt\n",
    "import seaborn as sns\n",
    "import scipy.stats as stats\n",
    "import csv\n",
    "\n",
    "# Importing and reading CSV file\n",
    "file_input = 'C:\\\\Users\\\\Sneha Rani\\\\CapstoneProject-LR\\\\ibm-hr-attrition.csv'\n",
    "df1 = pd.read_csv(file_input, index_col=None)\n",
    "\n",
    "# Pre cleaned the dataset by selecting significant columns\n",
    "df2 = df1[['Age','Attrition','BusinessTravel','Department','DistanceFromHome','Education','EducationField',\n",
    "           'EnvironmentSatisfaction','Gender','HourlyRate','JobInvolvement','JobRole','JobSatisfaction','MaritalStatus','MonthlyIncome',\n",
    "           'NumCompaniesWorked','OverTime','PercentSalaryHike','RelationshipSatisfaction','TotalWorkingYears',\n",
    "           'WorkLifeBalance','YearsAtCompany','YearsInCurrentRole','YearsSinceLastPromotion','YearsWithCurrManager']]\n",
    "\n",
    "# Converting strings to categorical values\n",
    "from sklearn.preprocessing import LabelEncoder\n",
    "number = LabelEncoder()\n",
    "df2['Attrition'] = number.fit_transform(df2['Attrition'].astype('str'))\n",
    "df2.head()"
   ]
  },
  {
   "cell_type": "code",
   "execution_count": 51,
   "metadata": {},
   "outputs": [
    {
     "name": "stderr",
     "output_type": "stream",
     "text": [
      "F:\\Anaconda3\\lib\\site-packages\\pandas\\core\\generic.py:3855: SettingWithCopyWarning: \n",
      "A value is trying to be set on a copy of a slice from a DataFrame.\n",
      "Try using .loc[row_indexer,col_indexer] = value instead\n",
      "\n",
      "See the caveats in the documentation: http://pandas.pydata.org/pandas-docs/stable/indexing.html#indexing-view-versus-copy\n",
      "  regex=regex)\n"
     ]
    },
    {
     "data": {
      "text/html": [
       "<div>\n",
       "<style>\n",
       "    .dataframe thead tr:only-child th {\n",
       "        text-align: right;\n",
       "    }\n",
       "\n",
       "    .dataframe thead th {\n",
       "        text-align: left;\n",
       "    }\n",
       "\n",
       "    .dataframe tbody tr th {\n",
       "        vertical-align: top;\n",
       "    }\n",
       "</style>\n",
       "<table border=\"1\" class=\"dataframe\">\n",
       "  <thead>\n",
       "    <tr style=\"text-align: right;\">\n",
       "      <th></th>\n",
       "      <th>Age</th>\n",
       "      <th>Attrition</th>\n",
       "      <th>BusinessTravel</th>\n",
       "      <th>Department</th>\n",
       "      <th>DistanceFromHome</th>\n",
       "      <th>Education</th>\n",
       "      <th>EducationField</th>\n",
       "      <th>EnvironmentSatisfaction</th>\n",
       "      <th>Gender</th>\n",
       "      <th>HourlyRate</th>\n",
       "      <th>...</th>\n",
       "      <th>NumCompaniesWorked</th>\n",
       "      <th>OverTime</th>\n",
       "      <th>PercentSalaryHike</th>\n",
       "      <th>RelationshipSatisfaction</th>\n",
       "      <th>TotalWorkingYears</th>\n",
       "      <th>WorkLifeBalance</th>\n",
       "      <th>YearsAtCompany</th>\n",
       "      <th>YearsInCurrentRole</th>\n",
       "      <th>YearsSinceLastPromotion</th>\n",
       "      <th>YearsWithCurrManager</th>\n",
       "    </tr>\n",
       "  </thead>\n",
       "  <tbody>\n",
       "    <tr>\n",
       "      <th>0</th>\n",
       "      <td>41</td>\n",
       "      <td>1</td>\n",
       "      <td>Travel_Rarely</td>\n",
       "      <td>Sales</td>\n",
       "      <td>1</td>\n",
       "      <td>College</td>\n",
       "      <td>Life Sciences</td>\n",
       "      <td>Medium</td>\n",
       "      <td>Female</td>\n",
       "      <td>94</td>\n",
       "      <td>...</td>\n",
       "      <td>8</td>\n",
       "      <td>Yes</td>\n",
       "      <td>11</td>\n",
       "      <td>Low</td>\n",
       "      <td>8</td>\n",
       "      <td>Bad</td>\n",
       "      <td>6</td>\n",
       "      <td>4</td>\n",
       "      <td>0</td>\n",
       "      <td>5</td>\n",
       "    </tr>\n",
       "    <tr>\n",
       "      <th>1</th>\n",
       "      <td>49</td>\n",
       "      <td>0</td>\n",
       "      <td>Travel_Frequently</td>\n",
       "      <td>Research &amp; Development</td>\n",
       "      <td>8</td>\n",
       "      <td>Below College</td>\n",
       "      <td>Life Sciences</td>\n",
       "      <td>High</td>\n",
       "      <td>Male</td>\n",
       "      <td>61</td>\n",
       "      <td>...</td>\n",
       "      <td>1</td>\n",
       "      <td>No</td>\n",
       "      <td>23</td>\n",
       "      <td>Very High</td>\n",
       "      <td>10</td>\n",
       "      <td>Better</td>\n",
       "      <td>10</td>\n",
       "      <td>7</td>\n",
       "      <td>1</td>\n",
       "      <td>7</td>\n",
       "    </tr>\n",
       "    <tr>\n",
       "      <th>2</th>\n",
       "      <td>37</td>\n",
       "      <td>1</td>\n",
       "      <td>Travel_Rarely</td>\n",
       "      <td>Research &amp; Development</td>\n",
       "      <td>2</td>\n",
       "      <td>College</td>\n",
       "      <td>Other</td>\n",
       "      <td>Very High</td>\n",
       "      <td>Male</td>\n",
       "      <td>92</td>\n",
       "      <td>...</td>\n",
       "      <td>6</td>\n",
       "      <td>Yes</td>\n",
       "      <td>15</td>\n",
       "      <td>Medium</td>\n",
       "      <td>7</td>\n",
       "      <td>Better</td>\n",
       "      <td>0</td>\n",
       "      <td>0</td>\n",
       "      <td>0</td>\n",
       "      <td>0</td>\n",
       "    </tr>\n",
       "    <tr>\n",
       "      <th>3</th>\n",
       "      <td>33</td>\n",
       "      <td>0</td>\n",
       "      <td>Travel_Frequently</td>\n",
       "      <td>Research &amp; Development</td>\n",
       "      <td>3</td>\n",
       "      <td>Master</td>\n",
       "      <td>Life Sciences</td>\n",
       "      <td>Very High</td>\n",
       "      <td>Female</td>\n",
       "      <td>56</td>\n",
       "      <td>...</td>\n",
       "      <td>1</td>\n",
       "      <td>Yes</td>\n",
       "      <td>11</td>\n",
       "      <td>High</td>\n",
       "      <td>8</td>\n",
       "      <td>Better</td>\n",
       "      <td>8</td>\n",
       "      <td>7</td>\n",
       "      <td>3</td>\n",
       "      <td>0</td>\n",
       "    </tr>\n",
       "    <tr>\n",
       "      <th>4</th>\n",
       "      <td>27</td>\n",
       "      <td>0</td>\n",
       "      <td>Travel_Rarely</td>\n",
       "      <td>Research &amp; Development</td>\n",
       "      <td>2</td>\n",
       "      <td>Below College</td>\n",
       "      <td>Medical</td>\n",
       "      <td>Low</td>\n",
       "      <td>Male</td>\n",
       "      <td>40</td>\n",
       "      <td>...</td>\n",
       "      <td>9</td>\n",
       "      <td>No</td>\n",
       "      <td>12</td>\n",
       "      <td>Very High</td>\n",
       "      <td>6</td>\n",
       "      <td>Better</td>\n",
       "      <td>2</td>\n",
       "      <td>2</td>\n",
       "      <td>2</td>\n",
       "      <td>2</td>\n",
       "    </tr>\n",
       "  </tbody>\n",
       "</table>\n",
       "<p>5 rows × 25 columns</p>\n",
       "</div>"
      ],
      "text/plain": [
       "   Age  Attrition     BusinessTravel              Department  \\\n",
       "0   41          1      Travel_Rarely                   Sales   \n",
       "1   49          0  Travel_Frequently  Research & Development   \n",
       "2   37          1      Travel_Rarely  Research & Development   \n",
       "3   33          0  Travel_Frequently  Research & Development   \n",
       "4   27          0      Travel_Rarely  Research & Development   \n",
       "\n",
       "   DistanceFromHome      Education EducationField EnvironmentSatisfaction  \\\n",
       "0                 1        College  Life Sciences                  Medium   \n",
       "1                 8  Below College  Life Sciences                    High   \n",
       "2                 2        College          Other               Very High   \n",
       "3                 3         Master  Life Sciences               Very High   \n",
       "4                 2  Below College        Medical                     Low   \n",
       "\n",
       "   Gender  HourlyRate          ...          NumCompaniesWorked OverTime  \\\n",
       "0  Female          94          ...                           8      Yes   \n",
       "1    Male          61          ...                           1       No   \n",
       "2    Male          92          ...                           6      Yes   \n",
       "3  Female          56          ...                           1      Yes   \n",
       "4    Male          40          ...                           9       No   \n",
       "\n",
       "  PercentSalaryHike RelationshipSatisfaction  TotalWorkingYears  \\\n",
       "0                11                      Low                  8   \n",
       "1                23                Very High                 10   \n",
       "2                15                   Medium                  7   \n",
       "3                11                     High                  8   \n",
       "4                12                Very High                  6   \n",
       "\n",
       "   WorkLifeBalance YearsAtCompany  YearsInCurrentRole YearsSinceLastPromotion  \\\n",
       "0              Bad              6                   4                       0   \n",
       "1           Better             10                   7                       1   \n",
       "2           Better              0                   0                       0   \n",
       "3           Better              8                   7                       3   \n",
       "4           Better              2                   2                       2   \n",
       "\n",
       "   YearsWithCurrManager  \n",
       "0                     5  \n",
       "1                     7  \n",
       "2                     0  \n",
       "3                     0  \n",
       "4                     2  \n",
       "\n",
       "[5 rows x 25 columns]"
      ]
     },
     "execution_count": 51,
     "metadata": {},
     "output_type": "execute_result"
    }
   ],
   "source": [
    "# Replacing numeric categorical features data with categorical values\n",
    "\n",
    "grade = {\"Education\":{1: \"Below College\", 2:\"College\", 3:\"Bachelor\", 4:\"Master\", 5:\"Doctor\"},\n",
    "       \"EnvironmentSatisfaction\":{1: \"Low\", 2:\"Medium\", 3:\"High\", 4:\"Very High\"},\n",
    "       \"JobInvolvement\":{1:\"Low\", 2:\"Medium\", 3:\"High\", 4:\"Very High\"}, \n",
    "       \"JobSatisfaction\":{1:\"Low\", 2:\"Medium\", 3:\"High\", 4:\"Very High\"},  \n",
    "       \"RelationshipSatisfaction\":{1:\"Low\", 2:\"Medium\", 3:\"High\", 4:\"Very High\"},\n",
    "       \"WorkLifeBalance\":  {1: \"Bad\", 2:\"Good\", 3:\"Better\", 4:\"Best\"},\n",
    "      }\n",
    "df2.replace(grade, inplace=True)\n",
    "df2.head()"
   ]
  },
  {
   "cell_type": "code",
   "execution_count": 52,
   "metadata": {},
   "outputs": [
    {
     "data": {
      "text/html": [
       "<div>\n",
       "<style>\n",
       "    .dataframe thead tr:only-child th {\n",
       "        text-align: right;\n",
       "    }\n",
       "\n",
       "    .dataframe thead th {\n",
       "        text-align: left;\n",
       "    }\n",
       "\n",
       "    .dataframe tbody tr th {\n",
       "        vertical-align: top;\n",
       "    }\n",
       "</style>\n",
       "<table border=\"1\" class=\"dataframe\">\n",
       "  <thead>\n",
       "    <tr style=\"text-align: right;\">\n",
       "      <th></th>\n",
       "      <th>Age</th>\n",
       "      <th>Attrition</th>\n",
       "      <th>DistanceFromHome</th>\n",
       "      <th>HourlyRate</th>\n",
       "      <th>MonthlyIncome</th>\n",
       "      <th>NumCompaniesWorked</th>\n",
       "      <th>PercentSalaryHike</th>\n",
       "      <th>TotalWorkingYears</th>\n",
       "      <th>YearsAtCompany</th>\n",
       "      <th>YearsInCurrentRole</th>\n",
       "      <th>...</th>\n",
       "      <th>OverTime_No</th>\n",
       "      <th>OverTime_Yes</th>\n",
       "      <th>RelationshipSatisfaction_High</th>\n",
       "      <th>RelationshipSatisfaction_Low</th>\n",
       "      <th>RelationshipSatisfaction_Medium</th>\n",
       "      <th>RelationshipSatisfaction_Very High</th>\n",
       "      <th>WorkLifeBalance_Bad</th>\n",
       "      <th>WorkLifeBalance_Best</th>\n",
       "      <th>WorkLifeBalance_Better</th>\n",
       "      <th>WorkLifeBalance_Good</th>\n",
       "    </tr>\n",
       "  </thead>\n",
       "  <tbody>\n",
       "    <tr>\n",
       "      <th>0</th>\n",
       "      <td>41</td>\n",
       "      <td>1</td>\n",
       "      <td>1</td>\n",
       "      <td>94</td>\n",
       "      <td>5993</td>\n",
       "      <td>8</td>\n",
       "      <td>11</td>\n",
       "      <td>8</td>\n",
       "      <td>6</td>\n",
       "      <td>4</td>\n",
       "      <td>...</td>\n",
       "      <td>0</td>\n",
       "      <td>1</td>\n",
       "      <td>0</td>\n",
       "      <td>1</td>\n",
       "      <td>0</td>\n",
       "      <td>0</td>\n",
       "      <td>1</td>\n",
       "      <td>0</td>\n",
       "      <td>0</td>\n",
       "      <td>0</td>\n",
       "    </tr>\n",
       "    <tr>\n",
       "      <th>1</th>\n",
       "      <td>49</td>\n",
       "      <td>0</td>\n",
       "      <td>8</td>\n",
       "      <td>61</td>\n",
       "      <td>5130</td>\n",
       "      <td>1</td>\n",
       "      <td>23</td>\n",
       "      <td>10</td>\n",
       "      <td>10</td>\n",
       "      <td>7</td>\n",
       "      <td>...</td>\n",
       "      <td>1</td>\n",
       "      <td>0</td>\n",
       "      <td>0</td>\n",
       "      <td>0</td>\n",
       "      <td>0</td>\n",
       "      <td>1</td>\n",
       "      <td>0</td>\n",
       "      <td>0</td>\n",
       "      <td>1</td>\n",
       "      <td>0</td>\n",
       "    </tr>\n",
       "    <tr>\n",
       "      <th>2</th>\n",
       "      <td>37</td>\n",
       "      <td>1</td>\n",
       "      <td>2</td>\n",
       "      <td>92</td>\n",
       "      <td>2090</td>\n",
       "      <td>6</td>\n",
       "      <td>15</td>\n",
       "      <td>7</td>\n",
       "      <td>0</td>\n",
       "      <td>0</td>\n",
       "      <td>...</td>\n",
       "      <td>0</td>\n",
       "      <td>1</td>\n",
       "      <td>0</td>\n",
       "      <td>0</td>\n",
       "      <td>1</td>\n",
       "      <td>0</td>\n",
       "      <td>0</td>\n",
       "      <td>0</td>\n",
       "      <td>1</td>\n",
       "      <td>0</td>\n",
       "    </tr>\n",
       "    <tr>\n",
       "      <th>3</th>\n",
       "      <td>33</td>\n",
       "      <td>0</td>\n",
       "      <td>3</td>\n",
       "      <td>56</td>\n",
       "      <td>2909</td>\n",
       "      <td>1</td>\n",
       "      <td>11</td>\n",
       "      <td>8</td>\n",
       "      <td>8</td>\n",
       "      <td>7</td>\n",
       "      <td>...</td>\n",
       "      <td>0</td>\n",
       "      <td>1</td>\n",
       "      <td>1</td>\n",
       "      <td>0</td>\n",
       "      <td>0</td>\n",
       "      <td>0</td>\n",
       "      <td>0</td>\n",
       "      <td>0</td>\n",
       "      <td>1</td>\n",
       "      <td>0</td>\n",
       "    </tr>\n",
       "    <tr>\n",
       "      <th>4</th>\n",
       "      <td>27</td>\n",
       "      <td>0</td>\n",
       "      <td>2</td>\n",
       "      <td>40</td>\n",
       "      <td>3468</td>\n",
       "      <td>9</td>\n",
       "      <td>12</td>\n",
       "      <td>6</td>\n",
       "      <td>2</td>\n",
       "      <td>2</td>\n",
       "      <td>...</td>\n",
       "      <td>1</td>\n",
       "      <td>0</td>\n",
       "      <td>0</td>\n",
       "      <td>0</td>\n",
       "      <td>0</td>\n",
       "      <td>1</td>\n",
       "      <td>0</td>\n",
       "      <td>0</td>\n",
       "      <td>1</td>\n",
       "      <td>0</td>\n",
       "    </tr>\n",
       "  </tbody>\n",
       "</table>\n",
       "<p>5 rows × 65 columns</p>\n",
       "</div>"
      ],
      "text/plain": [
       "   Age  Attrition  DistanceFromHome  HourlyRate  MonthlyIncome  \\\n",
       "0   41          1                 1          94           5993   \n",
       "1   49          0                 8          61           5130   \n",
       "2   37          1                 2          92           2090   \n",
       "3   33          0                 3          56           2909   \n",
       "4   27          0                 2          40           3468   \n",
       "\n",
       "   NumCompaniesWorked  PercentSalaryHike  TotalWorkingYears  YearsAtCompany  \\\n",
       "0                   8                 11                  8               6   \n",
       "1                   1                 23                 10              10   \n",
       "2                   6                 15                  7               0   \n",
       "3                   1                 11                  8               8   \n",
       "4                   9                 12                  6               2   \n",
       "\n",
       "   YearsInCurrentRole          ...           OverTime_No  OverTime_Yes  \\\n",
       "0                   4          ...                     0             1   \n",
       "1                   7          ...                     1             0   \n",
       "2                   0          ...                     0             1   \n",
       "3                   7          ...                     0             1   \n",
       "4                   2          ...                     1             0   \n",
       "\n",
       "   RelationshipSatisfaction_High  RelationshipSatisfaction_Low  \\\n",
       "0                              0                             1   \n",
       "1                              0                             0   \n",
       "2                              0                             0   \n",
       "3                              1                             0   \n",
       "4                              0                             0   \n",
       "\n",
       "   RelationshipSatisfaction_Medium  RelationshipSatisfaction_Very High  \\\n",
       "0                                0                                   0   \n",
       "1                                0                                   1   \n",
       "2                                1                                   0   \n",
       "3                                0                                   0   \n",
       "4                                0                                   1   \n",
       "\n",
       "   WorkLifeBalance_Bad  WorkLifeBalance_Best  WorkLifeBalance_Better  \\\n",
       "0                    1                     0                       0   \n",
       "1                    0                     0                       1   \n",
       "2                    0                     0                       1   \n",
       "3                    0                     0                       1   \n",
       "4                    0                     0                       1   \n",
       "\n",
       "   WorkLifeBalance_Good  \n",
       "0                     0  \n",
       "1                     0  \n",
       "2                     0  \n",
       "3                     0  \n",
       "4                     0  \n",
       "\n",
       "[5 rows x 65 columns]"
      ]
     },
     "execution_count": 52,
     "metadata": {},
     "output_type": "execute_result"
    }
   ],
   "source": [
    "# Creating dummy variables on categorical data for easy interpretation\n",
    "\n",
    "final_data = pd.get_dummies(df2, columns =['BusinessTravel', 'Department', 'Education', 'EducationField', 'EnvironmentSatisfaction',\n",
    "                                     'Gender', 'JobInvolvement', 'JobRole', 'JobSatisfaction', 'MaritalStatus', 'OverTime', \n",
    "                                     'RelationshipSatisfaction', 'WorkLifeBalance'])\n",
    "final_data.head()"
   ]
  },
  {
   "cell_type": "code",
   "execution_count": 53,
   "metadata": {},
   "outputs": [
    {
     "data": {
      "text/html": [
       "<div>\n",
       "<style>\n",
       "    .dataframe thead tr:only-child th {\n",
       "        text-align: right;\n",
       "    }\n",
       "\n",
       "    .dataframe thead th {\n",
       "        text-align: left;\n",
       "    }\n",
       "\n",
       "    .dataframe tbody tr th {\n",
       "        vertical-align: top;\n",
       "    }\n",
       "</style>\n",
       "<table border=\"1\" class=\"dataframe\">\n",
       "  <thead>\n",
       "    <tr style=\"text-align: right;\">\n",
       "      <th></th>\n",
       "      <th>Attrition</th>\n",
       "      <th>Age</th>\n",
       "      <th>DistanceFromHome</th>\n",
       "      <th>HourlyRate</th>\n",
       "      <th>MonthlyIncome</th>\n",
       "      <th>NumCompaniesWorked</th>\n",
       "      <th>PercentSalaryHike</th>\n",
       "      <th>TotalWorkingYears</th>\n",
       "      <th>YearsAtCompany</th>\n",
       "      <th>YearsInCurrentRole</th>\n",
       "      <th>...</th>\n",
       "      <th>OverTime_No</th>\n",
       "      <th>OverTime_Yes</th>\n",
       "      <th>RelationshipSatisfaction_High</th>\n",
       "      <th>RelationshipSatisfaction_Low</th>\n",
       "      <th>RelationshipSatisfaction_Medium</th>\n",
       "      <th>RelationshipSatisfaction_Very High</th>\n",
       "      <th>WorkLifeBalance_Bad</th>\n",
       "      <th>WorkLifeBalance_Best</th>\n",
       "      <th>WorkLifeBalance_Better</th>\n",
       "      <th>WorkLifeBalance_Good</th>\n",
       "    </tr>\n",
       "  </thead>\n",
       "  <tbody>\n",
       "    <tr>\n",
       "      <th>0</th>\n",
       "      <td>1</td>\n",
       "      <td>41</td>\n",
       "      <td>1</td>\n",
       "      <td>94</td>\n",
       "      <td>5993</td>\n",
       "      <td>8</td>\n",
       "      <td>11</td>\n",
       "      <td>8</td>\n",
       "      <td>6</td>\n",
       "      <td>4</td>\n",
       "      <td>...</td>\n",
       "      <td>0</td>\n",
       "      <td>1</td>\n",
       "      <td>0</td>\n",
       "      <td>1</td>\n",
       "      <td>0</td>\n",
       "      <td>0</td>\n",
       "      <td>1</td>\n",
       "      <td>0</td>\n",
       "      <td>0</td>\n",
       "      <td>0</td>\n",
       "    </tr>\n",
       "    <tr>\n",
       "      <th>1</th>\n",
       "      <td>0</td>\n",
       "      <td>49</td>\n",
       "      <td>8</td>\n",
       "      <td>61</td>\n",
       "      <td>5130</td>\n",
       "      <td>1</td>\n",
       "      <td>23</td>\n",
       "      <td>10</td>\n",
       "      <td>10</td>\n",
       "      <td>7</td>\n",
       "      <td>...</td>\n",
       "      <td>1</td>\n",
       "      <td>0</td>\n",
       "      <td>0</td>\n",
       "      <td>0</td>\n",
       "      <td>0</td>\n",
       "      <td>1</td>\n",
       "      <td>0</td>\n",
       "      <td>0</td>\n",
       "      <td>1</td>\n",
       "      <td>0</td>\n",
       "    </tr>\n",
       "    <tr>\n",
       "      <th>2</th>\n",
       "      <td>1</td>\n",
       "      <td>37</td>\n",
       "      <td>2</td>\n",
       "      <td>92</td>\n",
       "      <td>2090</td>\n",
       "      <td>6</td>\n",
       "      <td>15</td>\n",
       "      <td>7</td>\n",
       "      <td>0</td>\n",
       "      <td>0</td>\n",
       "      <td>...</td>\n",
       "      <td>0</td>\n",
       "      <td>1</td>\n",
       "      <td>0</td>\n",
       "      <td>0</td>\n",
       "      <td>1</td>\n",
       "      <td>0</td>\n",
       "      <td>0</td>\n",
       "      <td>0</td>\n",
       "      <td>1</td>\n",
       "      <td>0</td>\n",
       "    </tr>\n",
       "    <tr>\n",
       "      <th>3</th>\n",
       "      <td>0</td>\n",
       "      <td>33</td>\n",
       "      <td>3</td>\n",
       "      <td>56</td>\n",
       "      <td>2909</td>\n",
       "      <td>1</td>\n",
       "      <td>11</td>\n",
       "      <td>8</td>\n",
       "      <td>8</td>\n",
       "      <td>7</td>\n",
       "      <td>...</td>\n",
       "      <td>0</td>\n",
       "      <td>1</td>\n",
       "      <td>1</td>\n",
       "      <td>0</td>\n",
       "      <td>0</td>\n",
       "      <td>0</td>\n",
       "      <td>0</td>\n",
       "      <td>0</td>\n",
       "      <td>1</td>\n",
       "      <td>0</td>\n",
       "    </tr>\n",
       "    <tr>\n",
       "      <th>4</th>\n",
       "      <td>0</td>\n",
       "      <td>27</td>\n",
       "      <td>2</td>\n",
       "      <td>40</td>\n",
       "      <td>3468</td>\n",
       "      <td>9</td>\n",
       "      <td>12</td>\n",
       "      <td>6</td>\n",
       "      <td>2</td>\n",
       "      <td>2</td>\n",
       "      <td>...</td>\n",
       "      <td>1</td>\n",
       "      <td>0</td>\n",
       "      <td>0</td>\n",
       "      <td>0</td>\n",
       "      <td>0</td>\n",
       "      <td>1</td>\n",
       "      <td>0</td>\n",
       "      <td>0</td>\n",
       "      <td>1</td>\n",
       "      <td>0</td>\n",
       "    </tr>\n",
       "  </tbody>\n",
       "</table>\n",
       "<p>5 rows × 65 columns</p>\n",
       "</div>"
      ],
      "text/plain": [
       "   Attrition  Age  DistanceFromHome  HourlyRate  MonthlyIncome  \\\n",
       "0          1   41                 1          94           5993   \n",
       "1          0   49                 8          61           5130   \n",
       "2          1   37                 2          92           2090   \n",
       "3          0   33                 3          56           2909   \n",
       "4          0   27                 2          40           3468   \n",
       "\n",
       "   NumCompaniesWorked  PercentSalaryHike  TotalWorkingYears  YearsAtCompany  \\\n",
       "0                   8                 11                  8               6   \n",
       "1                   1                 23                 10              10   \n",
       "2                   6                 15                  7               0   \n",
       "3                   1                 11                  8               8   \n",
       "4                   9                 12                  6               2   \n",
       "\n",
       "   YearsInCurrentRole          ...           OverTime_No  OverTime_Yes  \\\n",
       "0                   4          ...                     0             1   \n",
       "1                   7          ...                     1             0   \n",
       "2                   0          ...                     0             1   \n",
       "3                   7          ...                     0             1   \n",
       "4                   2          ...                     1             0   \n",
       "\n",
       "   RelationshipSatisfaction_High  RelationshipSatisfaction_Low  \\\n",
       "0                              0                             1   \n",
       "1                              0                             0   \n",
       "2                              0                             0   \n",
       "3                              1                             0   \n",
       "4                              0                             0   \n",
       "\n",
       "   RelationshipSatisfaction_Medium  RelationshipSatisfaction_Very High  \\\n",
       "0                                0                                   0   \n",
       "1                                0                                   1   \n",
       "2                                1                                   0   \n",
       "3                                0                                   0   \n",
       "4                                0                                   1   \n",
       "\n",
       "   WorkLifeBalance_Bad  WorkLifeBalance_Best  WorkLifeBalance_Better  \\\n",
       "0                    1                     0                       0   \n",
       "1                    0                     0                       1   \n",
       "2                    0                     0                       1   \n",
       "3                    0                     0                       1   \n",
       "4                    0                     0                       1   \n",
       "\n",
       "   WorkLifeBalance_Good  \n",
       "0                     0  \n",
       "1                     0  \n",
       "2                     0  \n",
       "3                     0  \n",
       "4                     0  \n",
       "\n",
       "[5 rows x 65 columns]"
      ]
     },
     "execution_count": 53,
     "metadata": {},
     "output_type": "execute_result"
    }
   ],
   "source": [
    "# Move the reponse variable \"Attrition\" to the front of the table\n",
    "\n",
    "front = final_data['Attrition']\n",
    "final_data.drop(labels=['Attrition'], axis=1, inplace = True)\n",
    "final_data.insert(0, 'Attrition', front)\n",
    "final_data.head()"
   ]
  },
  {
   "cell_type": "code",
   "execution_count": 54,
   "metadata": {},
   "outputs": [
    {
     "name": "stdout",
     "output_type": "stream",
     "text": [
      "X:  <class 'numpy.ndarray'> (1470, 64)\n"
     ]
    }
   ],
   "source": [
    "from sklearn.model_selection import train_test_split\n",
    "from sklearn.linear_model import LogisticRegression\n",
    "from sklearn.metrics import accuracy_score\n",
    "from sklearn.preprocessing import scale\n",
    "\n",
    "# Defining the first parameter \n",
    "\n",
    "X = final_data.iloc[:, 1:65].values\n",
    "print(\"X: \", type(X), X.shape)"
   ]
  },
  {
   "cell_type": "code",
   "execution_count": 55,
   "metadata": {},
   "outputs": [
    {
     "name": "stdout",
     "output_type": "stream",
     "text": [
      "y:  <class 'numpy.ndarray'> (1470,)\n"
     ]
    }
   ],
   "source": [
    "# Defining the second parameter \n",
    "\n",
    "y = final_data.iloc[:, 0].values\n",
    "print(\"y: \", type(y), y.shape)"
   ]
  },
  {
   "cell_type": "code",
   "execution_count": 56,
   "metadata": {},
   "outputs": [
    {
     "data": {
      "text/plain": [
       "0    1233\n",
       "1     237\n",
       "Name: Attrition, dtype: int64"
      ]
     },
     "execution_count": 56,
     "metadata": {},
     "output_type": "execute_result"
    }
   ],
   "source": [
    "final_data['Attrition'].value_counts()"
   ]
  },
  {
   "cell_type": "markdown",
   "metadata": {},
   "source": [
    "### Logistic Regression Base Line Model using 'L2' regularization"
   ]
  },
  {
   "cell_type": "code",
   "execution_count": 57,
   "metadata": {},
   "outputs": [
    {
     "data": {
      "text/plain": [
       "LogisticRegression(C=1.0, class_weight=None, dual=False, fit_intercept=True,\n",
       "          intercept_scaling=1, max_iter=100, multi_class='ovr', n_jobs=1,\n",
       "          penalty='l2', random_state=None, solver='liblinear', tol=0.0001,\n",
       "          verbose=0, warm_start=False)"
      ]
     },
     "execution_count": 57,
     "metadata": {},
     "output_type": "execute_result"
    }
   ],
   "source": [
    "# Split the data into training and test sets\n",
    "# Stratify parameter makes a split so that proportion of values in the sample produced will be same as proportion of values\n",
    "# provided to parameter stratify.\n",
    "X_train, X_test, y_train, y_test = train_test_split(X, y, random_state=50, stratify=y)\n",
    "\n",
    "# Build the Logistic Regression Model using default 'L2' regularization\n",
    "\n",
    "classifier = LogisticRegression()\n",
    "\n",
    "# Fit the model on the trainng data.\n",
    "classifier.fit(X_train, y_train)"
   ]
  },
  {
   "cell_type": "code",
   "execution_count": 58,
   "metadata": {},
   "outputs": [
    {
     "name": "stdout",
     "output_type": "stream",
     "text": [
      "\n",
      "\n",
      "[Test] Accuracy score: 0.872282608696\n",
      "\n",
      "\n",
      "[Training] Accuracy score: 0.895644283122\n"
     ]
    }
   ],
   "source": [
    "# Print the accuracy from the testing data.\n",
    "y_predict_test = classifier.predict(X_test)\n",
    "print(\"\\n\")\n",
    "print(\"[Test] Accuracy score:\" ,accuracy_score(y_predict_test, y_test))\n",
    "\n",
    "# Print the accuracy from the training data.\n",
    "y_predict_train = classifier.predict(X_train)\n",
    "print(\"\\n\")\n",
    "print(\"[Training] Accuracy score:\" ,accuracy_score(y_predict_train, y_train))"
   ]
  },
  {
   "cell_type": "code",
   "execution_count": 59,
   "metadata": {},
   "outputs": [
    {
     "name": "stdout",
     "output_type": "stream",
     "text": [
      "[Training Classification Report:]\n",
      "             precision    recall  f1-score   support\n",
      "\n",
      "          0       0.90      0.98      0.94       924\n",
      "          1       0.82      0.46      0.58       178\n",
      "\n",
      "avg / total       0.89      0.90      0.88      1102\n",
      "\n",
      "[Test Classification Report:]\n",
      "             precision    recall  f1-score   support\n",
      "\n",
      "          0       0.89      0.96      0.93       309\n",
      "          1       0.68      0.39      0.49        59\n",
      "\n",
      "avg / total       0.86      0.87      0.86       368\n",
      "\n"
     ]
    }
   ],
   "source": [
    "# Classification report using 'L2' regularization \n",
    "\n",
    "from sklearn.metrics import classification_report\n",
    "# ref: http://scikit-learn.org/stable/modules/generated/sklearn.metrics.classification_report.html#sklearn.metrics.classification_report\n",
    "\n",
    "print(\"[Training Classification Report:]\")\n",
    "print(classification_report(y_train, y_predict_train))\n",
    "\n",
    "print(\"[Test Classification Report:]\")\n",
    "print(classification_report(y_test, y_predict_test))"
   ]
  },
  {
   "cell_type": "markdown",
   "metadata": {
    "collapsed": true
   },
   "source": [
    "### Logistic Regression Base Line Model using 'L1' regularization"
   ]
  },
  {
   "cell_type": "code",
   "execution_count": 60,
   "metadata": {},
   "outputs": [
    {
     "data": {
      "text/plain": [
       "LogisticRegression(C=1.0, class_weight=None, dual=False, fit_intercept=True,\n",
       "          intercept_scaling=1, max_iter=100, multi_class='ovr', n_jobs=1,\n",
       "          penalty='l1', random_state=None, solver='liblinear', tol=0.0001,\n",
       "          verbose=0, warm_start=False)"
      ]
     },
     "execution_count": 60,
     "metadata": {},
     "output_type": "execute_result"
    }
   ],
   "source": [
    "# Build the Logistic Regression Model using 'L1' regularization\n",
    "# ref: http://scikit-learn.org/stable/modules/generated/sklearn.linear_model.LogisticRegression.html\n",
    "\n",
    "classifier_1 = LogisticRegression(penalty = 'l1')\n",
    "\n",
    "# Fit the model on the trainng data.\n",
    "classifier_1.fit(X_train, y_train)"
   ]
  },
  {
   "cell_type": "code",
   "execution_count": 61,
   "metadata": {},
   "outputs": [
    {
     "name": "stdout",
     "output_type": "stream",
     "text": [
      "\n",
      "\n",
      "[Test] Accuracy score: 0.872282608696\n",
      "\n",
      "\n",
      "[Training] Accuracy score: 0.893829401089\n"
     ]
    }
   ],
   "source": [
    "# Checking the model's accuracy from the testing data.\n",
    "y_predict_test_1 = classifier_1.predict(X_test)\n",
    "print(\"\\n\")\n",
    "print(\"[Test] Accuracy score:\" ,accuracy_score(y_predict_test_1, y_test))\n",
    "\n",
    "# Checking the model's accuracy from the training data.\n",
    "y_predict_train_1 = classifier_1.predict(X_train)\n",
    "print(\"\\n\")\n",
    "print(\"[Training] Accuracy score:\" ,accuracy_score(y_predict_train_1, y_train))"
   ]
  },
  {
   "cell_type": "code",
   "execution_count": 62,
   "metadata": {},
   "outputs": [
    {
     "name": "stdout",
     "output_type": "stream",
     "text": [
      "[Training Classification Report:]\n",
      "             precision    recall  f1-score   support\n",
      "\n",
      "          0       0.90      0.98      0.94       924\n",
      "          1       0.82      0.44      0.57       178\n",
      "\n",
      "avg / total       0.89      0.89      0.88      1102\n",
      "\n",
      "[Test Classification Report:]\n",
      "             precision    recall  f1-score   support\n",
      "\n",
      "          0       0.89      0.96      0.93       309\n",
      "          1       0.68      0.39      0.49        59\n",
      "\n",
      "avg / total       0.86      0.87      0.86       368\n",
      "\n"
     ]
    }
   ],
   "source": [
    "# Classification report using 'L1' regularization \n",
    "\n",
    "from sklearn.metrics import classification_report\n",
    "# ref: http://scikit-learn.org/stable/modules/generated/sklearn.metrics.classification_report.html#sklearn.metrics.classification_report\n",
    "\n",
    "print(\"[Training Classification Report:]\")\n",
    "print(classification_report(y_train, y_predict_train_1))\n",
    "\n",
    "print(\"[Test Classification Report:]\")\n",
    "print(classification_report(y_test, y_predict_test_1))"
   ]
  },
  {
   "cell_type": "markdown",
   "metadata": {},
   "source": [
    "##  Finding resulting model \"M\"  using best hyper-parameter and corresponding penalty"
   ]
  },
  {
   "cell_type": "markdown",
   "metadata": {},
   "source": [
    "From the Logistic Regression Base Line Model using 'L1' and 'L2' regularization done earlier, we see in classification report that the performance metric using penalty 'L1' is more or less same of 'L2' but while comparing recall value we see that 'L2' is better as it has slightly higher recall value than 'L1' in training data classification report.\n",
    "\n",
    "So, we choose penalty 'L2' which is default one for Logistic Regression and further tune the model using best hyperparameter."
   ]
  },
  {
   "cell_type": "markdown",
   "metadata": {},
   "source": [
    "** Best Hyperparameter Tuning using GridSearchCV in scikit-learn using 'L2' **"
   ]
  },
  {
   "cell_type": "code",
   "execution_count": 63,
   "metadata": {},
   "outputs": [
    {
     "name": "stdout",
     "output_type": "stream",
     "text": [
      "{'C': [0.001, 0.1, 1, 10, 100]}\n"
     ]
    }
   ],
   "source": [
    "# Trying to estimate how this model will predict on unseen data by tuning the model\n",
    "\n",
    "from sklearn.grid_search import GridSearchCV\n",
    "Cs = [0.001, 0.1, 1, 10, 100]\n",
    "param_grid = dict(C=Cs)\n",
    "print(param_grid)"
   ]
  },
  {
   "cell_type": "code",
   "execution_count": 64,
   "metadata": {
    "collapsed": true
   },
   "outputs": [],
   "source": [
    "# instantiate the grid\n",
    "classifier_gcv = LogisticRegression()\n",
    "grid = GridSearchCV(classifier_gcv, param_grid, scoring='accuracy')"
   ]
  },
  {
   "cell_type": "code",
   "execution_count": 65,
   "metadata": {},
   "outputs": [
    {
     "data": {
      "text/plain": [
       "GridSearchCV(cv=None, error_score='raise',\n",
       "       estimator=LogisticRegression(C=1.0, class_weight=None, dual=False, fit_intercept=True,\n",
       "          intercept_scaling=1, max_iter=100, multi_class='ovr', n_jobs=1,\n",
       "          penalty='l2', random_state=None, solver='liblinear', tol=0.0001,\n",
       "          verbose=0, warm_start=False),\n",
       "       fit_params={}, iid=True, n_jobs=1,\n",
       "       param_grid={'C': [0.001, 0.1, 1, 10, 100]}, pre_dispatch='2*n_jobs',\n",
       "       refit=True, scoring='accuracy', verbose=0)"
      ]
     },
     "execution_count": 65,
     "metadata": {},
     "output_type": "execute_result"
    }
   ],
   "source": [
    "# Fit the model on the trainng data.\n",
    "grid.fit(X_train, y_train)"
   ]
  },
  {
   "cell_type": "code",
   "execution_count": 66,
   "metadata": {},
   "outputs": [
    {
     "data": {
      "text/plain": [
       "[mean: 0.83938, std: 0.00205, params: {'C': 0.001},\n",
       " mean: 0.86298, std: 0.01018, params: {'C': 0.1},\n",
       " mean: 0.86751, std: 0.00902, params: {'C': 1},\n",
       " mean: 0.86570, std: 0.00937, params: {'C': 10},\n",
       " mean: 0.86661, std: 0.01164, params: {'C': 100}]"
      ]
     },
     "execution_count": 66,
     "metadata": {},
     "output_type": "execute_result"
    }
   ],
   "source": [
    "grid.grid_scores_"
   ]
  },
  {
   "cell_type": "code",
   "execution_count": 67,
   "metadata": {},
   "outputs": [
    {
     "name": "stdout",
     "output_type": "stream",
     "text": [
      "0.867513611615245\n",
      "{'C': 1}\n",
      "LogisticRegression(C=1, class_weight=None, dual=False, fit_intercept=True,\n",
      "          intercept_scaling=1, max_iter=100, multi_class='ovr', n_jobs=1,\n",
      "          penalty='l2', random_state=None, solver='liblinear', tol=0.0001,\n",
      "          verbose=0, warm_start=False)\n"
     ]
    }
   ],
   "source": [
    "# examine the best model\n",
    "print(grid.best_score_)\n",
    "print(grid.best_params_)\n",
    "print(grid.best_estimator_)"
   ]
  },
  {
   "cell_type": "markdown",
   "metadata": {},
   "source": [
    "*After analyzing the performance of L1 and L2 regularization and applying best hyper-parameter found using GridSearch, we create **resulting model 'M'** which identify the best combination of **penalty = 'L2'** (default) and the value of **C = '1'**.*"
   ]
  },
  {
   "cell_type": "code",
   "execution_count": 177,
   "metadata": {},
   "outputs": [
    {
     "name": "stdout",
     "output_type": "stream",
     "text": [
      "0.872282608696\n"
     ]
    }
   ],
   "source": [
    "M = LogisticRegression(C=1)\n",
    "M.fit(X_train, y_train)\n",
    "print(accuracy_score(M.predict(X_test), y_test))"
   ]
  },
  {
   "cell_type": "code",
   "execution_count": 178,
   "metadata": {},
   "outputs": [
    {
     "name": "stdout",
     "output_type": "stream",
     "text": [
      "[Training Classification Report:]\n",
      "             precision    recall  f1-score   support\n",
      "\n",
      "          0       0.90      0.98      0.94       924\n",
      "          1       0.82      0.46      0.58       178\n",
      "\n",
      "avg / total       0.89      0.90      0.88      1102\n",
      "\n",
      "[Test Classification Report:]\n",
      "             precision    recall  f1-score   support\n",
      "\n",
      "          0       0.89      0.96      0.93       309\n",
      "          1       0.68      0.39      0.49        59\n",
      "\n",
      "avg / total       0.86      0.87      0.86       368\n",
      "\n"
     ]
    }
   ],
   "source": [
    "# Classification report using 'L2' regularization \n",
    "\n",
    "from sklearn.metrics import classification_report\n",
    "# ref: http://scikit-learn.org/stable/modules/generated/sklearn.metrics.classification_report.html#sklearn.metrics.classification_report\n",
    "\n",
    "print(\"[Training Classification Report:]\")\n",
    "print(classification_report(y_train, M.predict(X_train)))\n",
    "\n",
    "print(\"[Test Classification Report:]\")\n",
    "print(classification_report(y_test, M.predict(X_test)))"
   ]
  },
  {
   "cell_type": "markdown",
   "metadata": {},
   "source": [
    "# Trying Different Algorithms "
   ]
  },
  {
   "cell_type": "markdown",
   "metadata": {},
   "source": [
    "### 1. Using Random Forest Classifier"
   ]
  },
  {
   "cell_type": "code",
   "execution_count": 179,
   "metadata": {},
   "outputs": [
    {
     "name": "stdout",
     "output_type": "stream",
     "text": [
      "Random Forest Accuracy: 0.86\n"
     ]
    }
   ],
   "source": [
    "from sklearn.ensemble import RandomForestClassifier\n",
    "rf = RandomForestClassifier()\n",
    "rf.fit(X_train, y_train)\n",
    "# Print the accuracy from the testing data.\n",
    "print('Random Forest Accuracy: {:.2f}'.format(accuracy_score(y_test, rf.predict(X_test))))"
   ]
  },
  {
   "cell_type": "markdown",
   "metadata": {},
   "source": [
    "### 2. Using Decision Tree Classifier (CART)"
   ]
  },
  {
   "cell_type": "code",
   "execution_count": 180,
   "metadata": {},
   "outputs": [
    {
     "name": "stdout",
     "output_type": "stream",
     "text": [
      "Decision Tree Accuracy(CART): 0.79\n"
     ]
    }
   ],
   "source": [
    "from sklearn.tree import DecisionTreeClassifier\n",
    "dtree = DecisionTreeClassifier()\n",
    "dtree.fit(X_train, y_train)\n",
    "# Print the accuracy from the testing data.\n",
    "print('Decision Tree Accuracy(CART): {:.2f}'.format(accuracy_score(y_test, dtree.predict(X_test))))"
   ]
  },
  {
   "cell_type": "markdown",
   "metadata": {},
   "source": [
    "### 3. Using AdaBoost Classifier"
   ]
  },
  {
   "cell_type": "code",
   "execution_count": 181,
   "metadata": {},
   "outputs": [
    {
     "name": "stdout",
     "output_type": "stream",
     "text": [
      "AdaBoost Accuracy: 0.87\n"
     ]
    }
   ],
   "source": [
    "from sklearn.ensemble import AdaBoostClassifier\n",
    "ada = AdaBoostClassifier()\n",
    "ada.fit(X_train, y_train)\n",
    "# Print the accuracy from the testing data.\n",
    "print('AdaBoost Accuracy: {:.2f}'.format(accuracy_score(y_test, ada.predict(X_test))))"
   ]
  },
  {
   "cell_type": "markdown",
   "metadata": {},
   "source": [
    "### Preparing Comparison Table Results using different Algorithms"
   ]
  },
  {
   "cell_type": "code",
   "execution_count": 182,
   "metadata": {},
   "outputs": [
    {
     "name": "stdout",
     "output_type": "stream",
     "text": [
      "All Results across Models on Test Dataset\n",
      "-------------------------------------------------------------------------------\n",
      "Name    Class     Precision             Recall                Fscore    Support\n",
      "LR   : Class 0 0.8922155688622755 0.9644012944983819 0.9269051321928461 309 \n",
      "LR   : Class 1 0.6764705882352942 0.3898305084745763 0.49462365591397844 59 \n",
      "\n",
      "\n",
      "ADA  : Class 0 0.9012345679012346 0.9449838187702265 0.9225908372827805 309 \n",
      "ADA  : Class 1 0.6136363636363636 0.4576271186440678 0.5242718446601942 59 \n",
      "\n",
      "\n",
      "DTREE: Class 0 0.8794788273615635 0.8737864077669902 0.8766233766233764 309 \n",
      "DTREE: Class 1 0.36065573770491804 0.3728813559322034 0.3666666666666667 59 \n",
      "\n",
      "\n",
      "RF   : Class 0 0.8599439775910365 0.9935275080906149 0.921921921921922 309 \n",
      "RF   : Class 1 0.8181818181818182 0.15254237288135594 0.2571428571428571 59 \n",
      "\n",
      "\n"
     ]
    }
   ],
   "source": [
    "from sklearn.metrics import precision_recall_fscore_support as score\n",
    "\n",
    "print('All Results across Models on Test Dataset')\n",
    "print('-------------------------------------------------------------------------------')\n",
    "print('Name    Class     Precision             Recall                Fscore    Support')\n",
    "report = []\n",
    "report.append(('LR   ',M))\n",
    "report.append(('ADA  ',ada))\n",
    "report.append(('DTREE',dtree))\n",
    "report.append(('RF   ',rf))\n",
    "\n",
    "for name, model in report:\n",
    "    precision, recall, fscore, support = score(y_test, model.predict(X_test))\n",
    "    message = \"%s: %s %s %s %s %s \" % (name, 'Class 0', format(precision[0]), format(recall[0]), format(fscore[0]), format(support[0]))\n",
    "    message_1 = \"%s: %s %s %s %s %s \" % (name, 'Class 1', format(precision[1]), format(recall[1]), format(fscore[1]), format(support[1]))\n",
    "    print(message)\n",
    "    print(message_1)\n",
    "    print('\\n')"
   ]
  },
  {
   "cell_type": "markdown",
   "metadata": {},
   "source": [
    "# ROC Graph using Different Models"
   ]
  },
  {
   "cell_type": "code",
   "execution_count": 183,
   "metadata": {},
   "outputs": [
    {
     "data": {
      "image/png": "[encoded data removed]",
      "text/plain": [
       "<matplotlib.figure.Figure at 0x1e340a79ac8>"
      ]
     },
     "metadata": {},
     "output_type": "display_data"
    }
   ],
   "source": [
    "from sklearn.metrics import roc_auc_score\n",
    "from sklearn.metrics import roc_curve\n",
    "\n",
    "logit_roc_auc = roc_auc_score(y_test, M.predict(X_test))\n",
    "fpr, tpr, thresholds = roc_curve(y_test, M.predict_proba(X_test)[:,1])\n",
    "\n",
    "rf_roc_auc = roc_auc_score(y_test, rf.predict(X_test))\n",
    "rf_fpr, rf_tpr, rf_thresholds = roc_curve(y_test, rf.predict_proba(X_test)[:,1])\n",
    "\n",
    "\n",
    "dtree_roc_auc = roc_auc_score(y_test, dtree.predict(X_test))\n",
    "dt_fpr, dt_tpr, dt_thresholds = roc_curve(y_test, dtree.predict_proba(X_test)[:,1])\n",
    "\n",
    "ada_roc_auc = roc_auc_score(y_test, ada.predict(X_test))\n",
    "ada_fpr, ada_tpr, ada_thresholds = roc_curve(y_test, ada.predict_proba(X_test)[:,1])\n",
    "\n",
    "\n",
    "plt.figure()\n",
    "plt.plot(fpr, tpr, label='Logistic Regression (area = %0.2f)' % logit_roc_auc)\n",
    "plt.plot(rf_fpr, rf_tpr, label='Random Forest (area = %0.2f)' % rf_roc_auc)\n",
    "plt.plot(dt_fpr, dt_tpr, label='Decision Tree (area = %0.2f)' % dtree_roc_auc)\n",
    "plt.plot(ada_fpr, ada_tpr, label='AdaBoost (area = %0.2f)' % ada_roc_auc)\n",
    "\n",
    "plt.plot([0, 1], [0, 1],'r--')\n",
    "plt.xlim([0.0, 1.0])\n",
    "plt.ylim([0.0, 1.05])\n",
    "plt.xlabel('False Positive Rate')\n",
    "plt.ylabel('True Positive Rate')\n",
    "plt.title('Receiver operating characteristic')\n",
    "plt.legend(loc=\"lower right\")\n",
    "plt.savefig('ROC')\n",
    "plt.show()"
   ]
  },
  {
   "cell_type": "markdown",
   "metadata": {},
   "source": [
    "*From the above ROC Graph, we see AdaBoost Model has highest area under curve value of 0.70 and it is closest to the top left corner which is one of the criteria for a good model. Next good model as per ROC curve is the Logistic Regression model.*"
   ]
  },
  {
   "cell_type": "code",
   "execution_count": 184,
   "metadata": {},
   "outputs": [
    {
     "name": "stdout",
     "output_type": "stream",
     "text": [
      "Recall Results across Models\n",
      "----------------------------\n",
      "LR   :                 0.389831 \n",
      "ADA  :                 0.457627 \n",
      "DTREE:                 0.372881 \n",
      "RF   :                 0.152542 \n"
     ]
    }
   ],
   "source": [
    "from sklearn.metrics import recall_score\n",
    "print('Recall Results across Models')\n",
    "print('----------------------------')\n",
    "report = []\n",
    "report.append(('LR   ',M))\n",
    "report.append(('ADA  ',ada))\n",
    "report.append(('DTREE',dtree))\n",
    "report.append(('RF   ',rf))\n",
    "\n",
    "for name, model in report:\n",
    "    message = \"%s:                 %f \" % (name, recall_score(y_test, model.predict(X_test)))\n",
    "    print (message)\n",
    "#print(recall_score(y_test, ada.predict(X_test)))"
   ]
  },
  {
   "cell_type": "markdown",
   "metadata": {},
   "source": [
    "*Based on the above results across different models, we see that the AdaBoost has the highest recall score.When an employee left the company, how often the model predict that correctly depends on the \"recall\" score.*\n",
    "\n",
    "*High recall score means when employees left the company, model predicted correctly most of the time.*\n",
    "\n",
    "*A good recall score is important to avoid unpredicted loss of the employees in the company.*"
   ]
  },
  {
   "cell_type": "markdown",
   "metadata": {},
   "source": [
    "# Feature Importance using resulting logistic regression model 'M'\n"
   ]
  },
  {
   "cell_type": "code",
   "execution_count": 185,
   "metadata": {},
   "outputs": [
    {
     "name": "stdout",
     "output_type": "stream",
     "text": [
      "                                    Coefficient\n",
      "OverTime_Yes                           1.105801\n",
      "JobInvolvement_Low                     0.965035\n",
      "MaritalStatus_Single                   0.874477\n",
      "EnvironmentSatisfaction_Low            0.869302\n",
      "RelationshipSatisfaction_Low           0.850258\n",
      "JobSatisfaction_Low                    0.761273\n",
      "BusinessTravel_Travel_Frequently       0.669466\n",
      "JobRole_Sales Representative           0.650355\n",
      "WorkLifeBalance_Bad                    0.648171\n",
      "JobRole_Laboratory Technician          0.575997\n",
      "EducationField_Technical Degree        0.521560\n",
      "Education_Bachelor                     0.342879\n",
      "JobRole_Human Resources                0.320819\n",
      "EducationField_Marketing               0.302172\n",
      "Gender_Male                            0.296724\n",
      "EducationField_Human Resources         0.279759\n",
      "Department_Human Resources             0.268402\n",
      "Department_Sales                       0.222793\n",
      "NumCompaniesWorked                     0.194319\n",
      "YearsSinceLastPromotion                0.154059\n",
      "JobSatisfaction_High                   0.130657\n",
      "WorkLifeBalance_Good                   0.114052\n",
      "BusinessTravel_Travel_Rarely           0.101301\n",
      "JobInvolvement_Medium                  0.095263\n",
      "DistanceFromHome                       0.050782\n",
      "YearsAtCompany                         0.043137\n",
      "Education_College                      0.033602\n",
      "Education_Master                       0.024474\n",
      "HourlyRate                             0.003387\n",
      "MonthlyIncome                         -0.000049\n",
      "...                                         ...\n",
      "TotalWorkingYears                     -0.046968\n",
      "JobSatisfaction_Medium                -0.049474\n",
      "Age                                   -0.051411\n",
      "Education_Below College               -0.067336\n",
      "YearsWithCurrManager                  -0.090638\n",
      "YearsInCurrentRole                    -0.097716\n",
      "JobRole_Research Director             -0.127463\n",
      "EnvironmentSatisfaction_Medium        -0.151773\n",
      "Gender_Female                         -0.156111\n",
      "RelationshipSatisfaction_High         -0.157447\n",
      "Education_Doctor                      -0.193006\n",
      "MaritalStatus_Married                 -0.204409\n",
      "RelationshipSatisfaction_Very High    -0.238129\n",
      "EducationField_Other                  -0.257240\n",
      "EducationField_Life Sciences          -0.265846\n",
      "EnvironmentSatisfaction_High          -0.274514\n",
      "EnvironmentSatisfaction_Very High     -0.302402\n",
      "JobInvolvement_High                   -0.313536\n",
      "RelationshipSatisfaction_Medium       -0.314069\n",
      "Department_Research & Development     -0.350582\n",
      "JobRole_Research Scientist            -0.356283\n",
      "JobRole_Sales Executive               -0.412796\n",
      "EducationField_Medical                -0.439793\n",
      "JobRole_Healthcare Representative     -0.479865\n",
      "MaritalStatus_Divorced                -0.529455\n",
      "WorkLifeBalance_Better                -0.584350\n",
      "JobInvolvement_Very High              -0.606149\n",
      "BusinessTravel_Non-Travel             -0.630154\n",
      "JobSatisfaction_Very High             -0.701842\n",
      "OverTime_No                           -0.965188\n",
      "\n",
      "[64 rows x 1 columns]\n"
     ]
    }
   ],
   "source": [
    "# Using Scikit-Learn to find Coefficient with indices\n",
    "df_coefs = pd.DataFrame(M.coef_[0], index= final_data.iloc[:, 1:65].columns, columns=['Coefficient'])\n",
    "# Sorting Coefficient in descending order\n",
    "df_sorted = df_coefs.sort_values('Coefficient', ascending= False)\n",
    "print(df_sorted)"
   ]
  },
  {
   "cell_type": "code",
   "execution_count": 186,
   "metadata": {
    "collapsed": true
   },
   "outputs": [],
   "source": [
    "# Separate and sort the positive and negative ones coefficients by absolute value\n",
    "\n",
    "# Function for seperating positive and negative Coefficient\n",
    "# Ref: https://pandas.pydata.org/pandas-docs/stable/generated/pandas.Series.map.html \n",
    "\n",
    "def positive(value):\n",
    "    return max(value, 0)\n",
    "\n",
    "def negative(value):\n",
    "    return min(value, 0)\n",
    "# Map value of 'df_sorted' using input function 'positive'\n",
    "df_sorted['positive'] = df_sorted['Coefficient'].map(positive)\n",
    "# Map value of 'df_sorted' using input function 'negative'\n",
    "df_sorted['negative'] = df_sorted['Coefficient'].map(negative)\n",
    "# Get absolute value of negative coefficients \n",
    "df_sorted['negative_abs'] = df_sorted['negative'].abs()"
   ]
  },
  {
   "cell_type": "code",
   "execution_count": 187,
   "metadata": {},
   "outputs": [
    {
     "data": {
      "text/plain": [
       "OverTime_Yes                    1.105801\n",
       "JobInvolvement_Low              0.965035\n",
       "MaritalStatus_Single            0.874477\n",
       "EnvironmentSatisfaction_Low     0.869302\n",
       "RelationshipSatisfaction_Low    0.850258\n",
       "Name: positive, dtype: float64"
      ]
     },
     "execution_count": 187,
     "metadata": {},
     "output_type": "execute_result"
    }
   ],
   "source": [
    "# Top 5 positive coefficients\n",
    "df_positive_top_5 = df_sorted.nlargest(5,'positive')\n",
    "df_positive_top_5_filter = df_positive_top_5['positive']\n",
    "df_positive_top_5_filter"
   ]
  },
  {
   "cell_type": "code",
   "execution_count": 188,
   "metadata": {},
   "outputs": [
    {
     "data": {
      "text/plain": [
       "OverTime_No                  0.965188\n",
       "JobSatisfaction_Very High    0.701842\n",
       "BusinessTravel_Non-Travel    0.630154\n",
       "JobInvolvement_Very High     0.606149\n",
       "WorkLifeBalance_Better       0.584350\n",
       "Name: negative_abs, dtype: float64"
      ]
     },
     "execution_count": 188,
     "metadata": {},
     "output_type": "execute_result"
    }
   ],
   "source": [
    "# Top 5 negative coefficients\n",
    "df_negative_top_5 = df_sorted.nlargest(5,'negative_abs')\n",
    "df_negative_top_5_filter = df_negative_top_5['negative_abs']\n",
    "df_negative_top_5_filter"
   ]
  },
  {
   "cell_type": "markdown",
   "metadata": {},
   "source": [
    "From the above feature importance analysis report, we see that features like OverTime_Yes, JobInvolvement_Low with the high positive coefficients (towards attrition) makes some sense and are somewhat correlated to the things which influence employees to leave the company in short duration of time.\n",
    "\n",
    "On the other hands, we also see that the features like OverTime_No, JobSatisfaction_Very High, JobInvolvement_Very High with high (absolute value) negative coefficients (towards non-attrition) makes sense too and are somewhat correlated to the things which influence employees to stay at the company for the longer duration of time.\n",
    "\n",
    "In short, we can say that model has good understandability."
   ]
  },
  {
   "cell_type": "markdown",
   "metadata": {},
   "source": [
    "### Note:-  Feature Importance\n"
   ]
  },
  {
   "cell_type": "markdown",
   "metadata": {},
   "source": [
    "Ref: https://www.ncbi.nlm.nih.gov/pmc/articles/PMC3648438/\n",
    "        \n",
    "**Based on the referral, I decided to find feature importance on Imbalanced dataset before applying SMOTE as oversampling the minority class with SMOTE violates the independence assumption.**       "
   ]
  },
  {
   "cell_type": "markdown",
   "metadata": {},
   "source": [
    "**1.**The one with the negative coefficient having the highest absolute weighted value will contribute the most important    feature as belonging to class 0 (employees who have not left the company).\n",
    "\n",
    "**2.**The one with the positive coefficient having the highest absolute weighted value  will contribute the most important feature as belonging to class 1 (employees who have left the company)."
   ]
  },
  {
   "cell_type": "markdown",
   "metadata": {},
   "source": [
    "### Summary  Report for Imbalanced Dataset :-"
   ]
  },
  {
   "cell_type": "markdown",
   "metadata": {},
   "source": [
    "From the above work done, I can say that best model is Adaboost regression model with recall score of 0.46. Also, the training performance is better than test performance which does indicate that model is neither over-fitting nor erroneous.\n",
    "\n",
    "Logistic Regression Model 'M' also has same accuracy but the ADAboost Model has better AUC and Recall value so I have chosen Adaboost as the model for this Dataset. \n",
    "\n",
    "However, Class 1 (minority class) recall and F1 score are not so good when compared to Class 0 (majority) recall and F1 score. This means that Class 0 (majority class) data has overinfluenced the model.\n",
    "\n",
    "So to overcome the Imbalance in the training Dataset, I am going to apply SMOTE to get equal Class 0 and Class 1 samples.\n"
   ]
  },
  {
   "cell_type": "markdown",
   "metadata": {},
   "source": [
    "# Balance the dataset using SMOTE"
   ]
  },
  {
   "cell_type": "markdown",
   "metadata": {},
   "source": [
    "*Next I will use **SMOTE(Synthetic Minority Over-sampling Technique)** algorithm to combat Imbalanced Classes in my Machine Learning Dataset and test the model based on the modified data sample.*"
   ]
  },
  {
   "cell_type": "code",
   "execution_count": 95,
   "metadata": {},
   "outputs": [
    {
     "name": "stdout",
     "output_type": "stream",
     "text": [
      "Rebalanced Dataset Counter({0: 924, 1: 924})\n"
     ]
    }
   ],
   "source": [
    "# Count the number of occurrence of the list items\n",
    "\n",
    "from collections import Counter\n",
    "from imblearn.over_sampling import SMOTE\n",
    "sm = SMOTE()\n",
    "X_train_sm, y_train_sm = sm.fit_sample(X_train,y_train)\n",
    "print('Rebalanced Dataset {}'.format(Counter(y_train_sm)))"
   ]
  },
  {
   "cell_type": "markdown",
   "metadata": {},
   "source": [
    "### Logistic Regression on Balance Dataset using 'L2' regularization"
   ]
  },
  {
   "cell_type": "code",
   "execution_count": 171,
   "metadata": {},
   "outputs": [
    {
     "name": "stdout",
     "output_type": "stream",
     "text": [
      "[Train Classification Report:]\n",
      "             precision    recall  f1-score   support\n",
      "\n",
      "          0       0.82      0.81      0.82       924\n",
      "          1       0.82      0.82      0.82       924\n",
      "\n",
      "avg / total       0.82      0.82      0.82      1848\n",
      "\n",
      "[Test Classification Report:]\n",
      "             precision    recall  f1-score   support\n",
      "\n",
      "          0       0.94      0.81      0.87       309\n",
      "          1       0.42      0.73      0.53        59\n",
      "\n",
      "avg / total       0.86      0.79      0.81       368\n",
      "\n"
     ]
    }
   ],
   "source": [
    "# Logistic Regression on Balance Dataset\n",
    "classifier_sm = LogisticRegression()\n",
    "classifier_sm.fit(X_train_sm, y_train_sm)\n",
    "\n",
    "print(\"[Train Classification Report:]\")\n",
    "print(classification_report(y_train_sm, classifier_sm.predict(X_train_sm)))\n",
    "print(\"[Test Classification Report:]\")\n",
    "print(classification_report(y_test, classifier_sm.predict(X_test)))"
   ]
  },
  {
   "cell_type": "markdown",
   "metadata": {},
   "source": [
    "### Logistic Regression on Balance Dataset using 'L1' regularization"
   ]
  },
  {
   "cell_type": "code",
   "execution_count": 172,
   "metadata": {},
   "outputs": [
    {
     "name": "stdout",
     "output_type": "stream",
     "text": [
      "[Train Classification Report:]\n",
      "             precision    recall  f1-score   support\n",
      "\n",
      "          0       0.82      0.81      0.82       924\n",
      "          1       0.81      0.83      0.82       924\n",
      "\n",
      "avg / total       0.82      0.82      0.82      1848\n",
      "\n",
      "[Test Classification Report:]\n",
      "             precision    recall  f1-score   support\n",
      "\n",
      "          0       0.95      0.79      0.86       309\n",
      "          1       0.41      0.76      0.54        59\n",
      "\n",
      "avg / total       0.86      0.79      0.81       368\n",
      "\n"
     ]
    }
   ],
   "source": [
    "# Logistic Regression on Balance Dataset\n",
    "classifier_sm_1 = LogisticRegression(penalty = 'l1')\n",
    "classifier_sm_1.fit(X_train_sm, y_train_sm)\n",
    "\n",
    "print(\"[Train Classification Report:]\")\n",
    "print(classification_report(y_train_sm, classifier_sm_1.predict(X_train_sm)))\n",
    "print(\"[Test Classification Report:]\")\n",
    "print(classification_report(y_test, classifier_sm_1.predict(X_test)))"
   ]
  },
  {
   "cell_type": "markdown",
   "metadata": {},
   "source": [
    "*From the above performance metric report, 'L1' regularization has better recall and overall precissn than 'L2' regularization.\n",
    "Now based on above score , I will apply hyper-parameter tuning using GridSearchCV on balanced dataset.*"
   ]
  },
  {
   "cell_type": "markdown",
   "metadata": {},
   "source": [
    "**Note:**\n",
    "\n",
    "As seen from above analysis report, Logistic Regression model uisng 'L2' regularization on balanced dataset shows better recall score than the model trained on imbalanced dataset."
   ]
  },
  {
   "cell_type": "markdown",
   "metadata": {},
   "source": [
    "##  Finding resulting model \"M1\"  using best hyper-parameter and corresponding penalty"
   ]
  },
  {
   "cell_type": "markdown",
   "metadata": {},
   "source": [
    "From the Logistic Regression Base Line Model using 'L1' and 'L2' regularization done earlier, we see in classification report that the performance metric using penalty 'L1' is more or less same of 'L2' but while comparing recall value we see that 'L1' is better as it has slightly higher recall value than 'L2' in training data classification report.\n",
    "\n",
    "So, we choose penalty 'L1' which for Logistic Regression and further tune the model using best hyperparameter."
   ]
  },
  {
   "cell_type": "markdown",
   "metadata": {},
   "source": [
    "**Best Hyperparameter Tuning using GridSearchCV in scikit-learn using 'L1'**"
   ]
  },
  {
   "cell_type": "code",
   "execution_count": 165,
   "metadata": {},
   "outputs": [
    {
     "name": "stdout",
     "output_type": "stream",
     "text": [
      "{'C': [0.001, 0.1, 1, 10, 100]}\n"
     ]
    }
   ],
   "source": [
    "# Trying to estimate how this model will predict on unseen data by tuning the model\n",
    "\n",
    "from sklearn.grid_search import GridSearchCV\n",
    "Cs = [0.001, 0.1, 1, 10, 100]\n",
    "param_grid = dict(C=Cs)\n",
    "print(param_grid)"
   ]
  },
  {
   "cell_type": "code",
   "execution_count": 166,
   "metadata": {
    "collapsed": true
   },
   "outputs": [],
   "source": [
    "# instantiate the grid\n",
    "classifier_gcv = LogisticRegression(penalty = 'l1')\n",
    "grid_sm = GridSearchCV(classifier_gcv, param_grid, scoring='accuracy')"
   ]
  },
  {
   "cell_type": "code",
   "execution_count": 167,
   "metadata": {},
   "outputs": [
    {
     "data": {
      "text/plain": [
       "GridSearchCV(cv=None, error_score='raise',\n",
       "       estimator=LogisticRegression(C=1.0, class_weight=None, dual=False, fit_intercept=True,\n",
       "          intercept_scaling=1, max_iter=100, multi_class='ovr', n_jobs=1,\n",
       "          penalty='l1', random_state=None, solver='liblinear', tol=0.0001,\n",
       "          verbose=0, warm_start=False),\n",
       "       fit_params={}, iid=True, n_jobs=1,\n",
       "       param_grid={'C': [0.001, 0.1, 1, 10, 100]}, pre_dispatch='2*n_jobs',\n",
       "       refit=True, scoring='accuracy', verbose=0)"
      ]
     },
     "execution_count": 167,
     "metadata": {},
     "output_type": "execute_result"
    }
   ],
   "source": [
    "# Fit the model on the trainng data using SMOTE\n",
    "grid_sm.fit(X_train_sm, y_train_sm)"
   ]
  },
  {
   "cell_type": "code",
   "execution_count": 168,
   "metadata": {},
   "outputs": [
    {
     "data": {
      "text/plain": [
       "[mean: 0.60227, std: 0.01377, params: {'C': 0.001},\n",
       " mean: 0.79058, std: 0.01085, params: {'C': 0.1},\n",
       " mean: 0.79816, std: 0.01203, params: {'C': 1},\n",
       " mean: 0.79978, std: 0.00940, params: {'C': 10},\n",
       " mean: 0.79978, std: 0.01071, params: {'C': 100}]"
      ]
     },
     "execution_count": 168,
     "metadata": {},
     "output_type": "execute_result"
    }
   ],
   "source": [
    "grid_sm.grid_scores_"
   ]
  },
  {
   "cell_type": "code",
   "execution_count": 169,
   "metadata": {},
   "outputs": [
    {
     "name": "stdout",
     "output_type": "stream",
     "text": [
      "0.7997835497835498\n",
      "{'C': 10}\n",
      "LogisticRegression(C=10, class_weight=None, dual=False, fit_intercept=True,\n",
      "          intercept_scaling=1, max_iter=100, multi_class='ovr', n_jobs=1,\n",
      "          penalty='l1', random_state=None, solver='liblinear', tol=0.0001,\n",
      "          verbose=0, warm_start=False)\n"
     ]
    }
   ],
   "source": [
    "# examine the best model\n",
    "print(grid_sm.best_score_)\n",
    "print(grid_sm.best_params_)\n",
    "print(grid_sm.best_estimator_)"
   ]
  },
  {
   "cell_type": "markdown",
   "metadata": {},
   "source": [
    "*After analyzing the performance of L1 and L2 regularization and applying best hyper-parameter found using GridSearch on balanced dataset using SMOTe, we create **resulting model 'M1'** which identify the best combination of **penalty = 'L1'** (default) and the value of **C = '10'**.*"
   ]
  },
  {
   "cell_type": "code",
   "execution_count": 170,
   "metadata": {},
   "outputs": [
    {
     "name": "stdout",
     "output_type": "stream",
     "text": [
      "[Training Classification Report:]\n",
      "             precision    recall  f1-score   support\n",
      "\n",
      "          0       0.82      0.81      0.82       924\n",
      "          1       0.81      0.83      0.82       924\n",
      "\n",
      "avg / total       0.82      0.82      0.82      1848\n",
      "\n",
      "[Test Classification Report:]\n",
      "             precision    recall  f1-score   support\n",
      "\n",
      "          0       0.94      0.80      0.86       309\n",
      "          1       0.41      0.71      0.52        59\n",
      "\n",
      "avg / total       0.85      0.79      0.81       368\n",
      "\n"
     ]
    }
   ],
   "source": [
    "M1 = LogisticRegression(penalty = 'l1', C=10)\n",
    "M1.fit(X_train_sm, y_train_sm)\n",
    "\n",
    "# Classification report using 'L1' regularization \n",
    "\n",
    "from sklearn.metrics import classification_report\n",
    "# ref: http://scikit-learn.org/stable/modules/generated/sklearn.metrics.classification_report.html#sklearn.metrics.classification_report\n",
    "\n",
    "print(\"[Training Classification Report:]\")\n",
    "print(classification_report(y_train_sm, M1.predict(X_train_sm)))\n",
    "\n",
    "print(\"[Test Classification Report:]\")\n",
    "print(classification_report(y_test, M1.predict(X_test)))"
   ]
  },
  {
   "cell_type": "markdown",
   "metadata": {},
   "source": [
    "# Trying Different Algorithms on Balanced Dataset using SMOTE "
   ]
  },
  {
   "cell_type": "markdown",
   "metadata": {},
   "source": [
    "### 1. Using Random Forest Classifier"
   ]
  },
  {
   "cell_type": "code",
   "execution_count": 114,
   "metadata": {},
   "outputs": [
    {
     "name": "stdout",
     "output_type": "stream",
     "text": [
      "Random Forest Accuracy: 0.86\n"
     ]
    }
   ],
   "source": [
    "from sklearn.ensemble import RandomForestClassifier\n",
    "rf_sm = RandomForestClassifier()\n",
    "rf_sm.fit(X_train_sm, y_train_sm)\n",
    "# Print the accuracy from the testing data.\n",
    "print('Random Forest Accuracy: {:.2f}'.format(accuracy_score(y_test, rf_sm.predict(X_test))))"
   ]
  },
  {
   "cell_type": "markdown",
   "metadata": {},
   "source": [
    "### 2. Using Decision Tree Classifier (CART)"
   ]
  },
  {
   "cell_type": "code",
   "execution_count": 118,
   "metadata": {},
   "outputs": [
    {
     "name": "stdout",
     "output_type": "stream",
     "text": [
      "Decision Tree Accuracy(CART): 0.75\n"
     ]
    }
   ],
   "source": [
    "from sklearn.tree import DecisionTreeClassifier\n",
    "dtree_sm = DecisionTreeClassifier()\n",
    "dtree_sm.fit(X_train_sm, y_train_sm)\n",
    "# Print the accuracy from the testing data.\n",
    "print('Decision Tree Accuracy(CART): {:.2f}'.format(accuracy_score(y_test, dtree_sm.predict(X_test))))"
   ]
  },
  {
   "cell_type": "markdown",
   "metadata": {},
   "source": [
    "### 3. Using AdaBoost Classifier"
   ]
  },
  {
   "cell_type": "code",
   "execution_count": 119,
   "metadata": {},
   "outputs": [
    {
     "name": "stdout",
     "output_type": "stream",
     "text": [
      "AdaBoost Accuracy: 0.86\n",
      "[Test Classification Report:]\n",
      "             precision    recall  f1-score   support\n",
      "\n",
      "          0       0.90      0.93      0.92       309\n",
      "          1       0.56      0.47      0.51        59\n",
      "\n",
      "avg / total       0.85      0.86      0.85       368\n",
      "\n"
     ]
    }
   ],
   "source": [
    "from sklearn.ensemble import AdaBoostClassifier\n",
    "ada_sm = AdaBoostClassifier()\n",
    "ada_sm.fit(X_train_sm, y_train_sm)\n",
    "# Print the accuracy from the testing data.\n",
    "print('AdaBoost Accuracy: {:.2f}'.format(accuracy_score(y_test, ada_sm.predict(X_test))))\n",
    "print(\"[Test Classification Report:]\")\n",
    "print(classification_report(y_test, ada_sm.predict(X_test)))"
   ]
  },
  {
   "cell_type": "markdown",
   "metadata": {},
   "source": [
    "### Preparing Comparison Table Results using different Algorithms using SMOTE"
   ]
  },
  {
   "cell_type": "code",
   "execution_count": 157,
   "metadata": {},
   "outputs": [
    {
     "name": "stdout",
     "output_type": "stream",
     "text": [
      "All Results across Models on Test Dataset using SMOTE\n",
      "-------------------------------------------------------------------------------\n",
      "Name    Class     Precision             Recall                Fscore    Support\n",
      "LR   : Class 0 0.9358490566037736 0.8025889967637541 0.8641114982578397 309 \n",
      "LR   : Class 1 0.4077669902912621 0.711864406779661 0.5185185185185185 59 \n",
      "\n",
      "\n",
      "ADA  : Class 0 0.9025157232704403 0.9288025889967637 0.9154704944178629 309 \n",
      "ADA  : Class 1 0.56 0.4745762711864407 0.5137614678899083 59 \n",
      "\n",
      "\n",
      "DTREE: Class 0 0.862876254180602 0.8349514563106796 0.8486842105263158 309 \n",
      "DTREE: Class 1 0.2608695652173913 0.3050847457627119 0.28125 59 \n",
      "\n",
      "\n",
      "RF   : Class 0 0.8657142857142858 0.9805825242718447 0.9195751138088013 309 \n",
      "RF   : Class 1 0.6666666666666666 0.2033898305084746 0.3116883116883117 59 \n",
      "\n",
      "\n"
     ]
    }
   ],
   "source": [
    "from sklearn.metrics import precision_recall_fscore_support as score\n",
    "\n",
    "print('All Results across Models on Test Dataset using SMOTE')\n",
    "print('-------------------------------------------------------------------------------')\n",
    "print('Name    Class     Precision             Recall                Fscore    Support')\n",
    "report_sm = []\n",
    "report_sm.append(('LR   ',M1))\n",
    "report_sm.append(('ADA  ',ada_sm))\n",
    "report_sm.append(('DTREE',dtree_sm))\n",
    "report_sm.append(('RF   ',rf_sm))\n",
    "\n",
    "for name, model in report_sm:\n",
    "    precision, recall, fscore, support = score(y_test, model.predict(X_test))\n",
    "    message = \"%s: %s %s %s %s %s \" % (name, 'Class 0', format(precision[0]), format(recall[0]), format(fscore[0]), format(support[0]))\n",
    "    message_1 = \"%s: %s %s %s %s %s \" % (name, 'Class 1', format(precision[1]), format(recall[1]), format(fscore[1]), format(support[1]))\n",
    "    print(message)\n",
    "    print(message_1)\n",
    "    print('\\n')"
   ]
  },
  {
   "cell_type": "markdown",
   "metadata": {},
   "source": [
    "# ROC Graph using Different Models using SMOTE"
   ]
  },
  {
   "cell_type": "code",
   "execution_count": 158,
   "metadata": {},
   "outputs": [
    {
     "data": {
      "image/png": "[encoded data removed]",
      "text/plain": [
       "<matplotlib.figure.Figure at 0x1e340aa5358>"
      ]
     },
     "metadata": {},
     "output_type": "display_data"
    }
   ],
   "source": [
    "from sklearn.metrics import roc_auc_score\n",
    "from sklearn.metrics import roc_curve\n",
    "\n",
    "logit_roc_auc = roc_auc_score(y_test, M1.predict(X_test))\n",
    "fpr, tpr, thresholds = roc_curve(y_test, M1.predict_proba(X_test)[:,1])\n",
    "\n",
    "rf_roc_auc = roc_auc_score(y_test, rf_sm.predict(X_test))\n",
    "rf_fpr, rf_tpr, rf_thresholds = roc_curve(y_test, rf_sm.predict_proba(X_test)[:,1])\n",
    "\n",
    "\n",
    "dtree_roc_auc = roc_auc_score(y_test, dtree_sm.predict(X_test))\n",
    "dt_fpr, dt_tpr, dt_thresholds = roc_curve(y_test, dtree_sm.predict_proba(X_test)[:,1])\n",
    "\n",
    "ada_roc_auc = roc_auc_score(y_test, ada_sm.predict(X_test))\n",
    "ada_fpr, ada_tpr, ada_thresholds = roc_curve(y_test, ada_sm.predict_proba(X_test)[:,1])\n",
    "\n",
    "\n",
    "plt.figure()\n",
    "plt.plot(fpr, tpr, label='Logistic Regression SM (area = %0.2f)' % logit_roc_auc)\n",
    "plt.plot(rf_fpr, rf_tpr, label='Random Forest SM (area = %0.2f)' % rf_roc_auc)\n",
    "plt.plot(dt_fpr, dt_tpr, label='Decision Tree SM (area = %0.2f)' % dtree_roc_auc)\n",
    "plt.plot(ada_fpr, ada_tpr, label='AdaBoost SM (area = %0.2f)' % ada_roc_auc)\n",
    "\n",
    "plt.plot([0, 1], [0, 1],'r--')\n",
    "plt.xlim([0.0, 1.0])\n",
    "plt.ylim([0.0, 1.05])\n",
    "plt.xlabel('False Positive Rate')\n",
    "plt.ylabel('True Positive Rate')\n",
    "plt.title('Receiver operating characteristic')\n",
    "plt.legend(loc=\"lower right\")\n",
    "plt.savefig('ROC')\n",
    "plt.show()"
   ]
  },
  {
   "cell_type": "markdown",
   "metadata": {},
   "source": [
    "*From the above ROC Graph, we see Logistic Regression Model has highest area under curve value of 0.76 using SMOTE and it is closest to the top left corner which is one of the criteria for a good model.*"
   ]
  },
  {
   "cell_type": "code",
   "execution_count": 155,
   "metadata": {},
   "outputs": [
    {
     "name": "stdout",
     "output_type": "stream",
     "text": [
      "Recall Results across Models on SMOTE train Dataset\n",
      "---------------------------------------------------\n",
      "LR   :                 0.711864 \n",
      "ADA  :                 0.474576 \n",
      "DTREE:                 0.305085 \n",
      "RF   :                 0.203390 \n"
     ]
    }
   ],
   "source": [
    "from sklearn.metrics import recall_score\n",
    "print('Recall Results across Models on SMOTE train Dataset')\n",
    "print('---------------------------------------------------')\n",
    "report_sm = []\n",
    "report_sm.append(('LR   ',M1))\n",
    "report_sm.append(('ADA  ',ada_sm))\n",
    "report_sm.append(('DTREE',dtree_sm))\n",
    "report_sm.append(('RF   ',rf_sm))\n",
    "\n",
    "for name, model in report_sm:\n",
    "    message = \"%s:                 %f \" % (name, recall_score(y_test, model.predict(X_test)))\n",
    "    print (message)\n",
    "#print(recall_score(y_test, ada.predict(X_test)))"
   ]
  },
  {
   "cell_type": "markdown",
   "metadata": {},
   "source": [
    "*Based on the above results across different models, we see that the Logistic Regression has the highest recall score. When an employee left the company, how often the model predict that correctly depends on the \"recall\" score.*\n",
    "\n",
    "*High recall score means when employees left the company, model predicted correctly most of the time.*\n",
    "\n",
    "*A good recall score is important to avoid unpredicted loss of the employees in the company.*"
   ]
  },
  {
   "cell_type": "markdown",
   "metadata": {},
   "source": [
    "### Summary  Report for Balanced Dataset using SMOTE :-"
   ]
  },
  {
   "cell_type": "markdown",
   "metadata": {},
   "source": [
    "From the above work done, Based on recall score ,I see that best model has changed to M1 model which is a Logistic Regression model with tuning parameter C=10.\n",
    "\n",
    "Adaboost Model which was the best model on Imbalanced Dataset is second best model as it has lower recall value when applied on Balanced Dataset."
   ]
  },
  {
   "cell_type": "code",
   "execution_count": null,
   "metadata": {
    "collapsed": true
   },
   "outputs": [],
   "source": []
  }
 ],
 "metadata": {
  "kernelspec": {
   "display_name": "Python [conda root]",
   "language": "python",
   "name": "conda-root-py"
  },
  "language_info": {
   "codemirror_mode": {
    "name": "ipython",
    "version": 3
   },
   "file_extension": ".py",
   "mimetype": "text/x-python",
   "name": "python",
   "nbconvert_exporter": "python",
   "pygments_lexer": "ipython3",
   "version": "3.6.1"
  }
 },
 "nbformat": 4,
 "nbformat_minor": 2
}

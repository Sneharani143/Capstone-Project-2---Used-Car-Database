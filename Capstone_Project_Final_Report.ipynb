{
 "cells": [
  {
   "cell_type": "markdown",
   "metadata": {},
   "source": [
    "## IBM HR Analytics Employee Attrition & Performance, Goals and Machine Learning"
   ]
  },
  {
   "cell_type": "markdown",
   "metadata": {},
   "source": [
    "Attrition is the normal life cycle of employment. Attrition refers to employees who leave their jobs due to normal circumstances. Employee attrition is a common problem in companies. It is not caused by one single factor for every worker in the organization but involves multiple factors which need to be defined and analyzed further to determine the impact which leads to the high attrition rate. The goal is to build a model that can estimate the chances of an employee leaving the company. Overall, the implementation of this model will allow management to create better decision-making actions."
   ]
  },
  {
   "cell_type": "markdown",
   "metadata": {},
   "source": [
    "# Load Data"
   ]
  },
  {
   "cell_type": "code",
   "execution_count": 1,
   "metadata": {},
   "outputs": [
    {
     "name": "stdout",
     "output_type": "stream",
     "text": [
      "Populating the interactive namespace from numpy and matplotlib\n"
     ]
    },
    {
     "data": {
      "text/html": [
       "<div>\n",
       "<style>\n",
       "    .dataframe thead tr:only-child th {\n",
       "        text-align: right;\n",
       "    }\n",
       "\n",
       "    .dataframe thead th {\n",
       "        text-align: left;\n",
       "    }\n",
       "\n",
       "    .dataframe tbody tr th {\n",
       "        vertical-align: top;\n",
       "    }\n",
       "</style>\n",
       "<table border=\"1\" class=\"dataframe\">\n",
       "  <thead>\n",
       "    <tr style=\"text-align: right;\">\n",
       "      <th></th>\n",
       "      <th>Age</th>\n",
       "      <th>Attrition</th>\n",
       "      <th>BusinessTravel</th>\n",
       "      <th>DailyRate</th>\n",
       "      <th>Department</th>\n",
       "      <th>DistanceFromHome</th>\n",
       "      <th>Education</th>\n",
       "      <th>EducationField</th>\n",
       "      <th>EmployeeCount</th>\n",
       "      <th>EmployeeNumber</th>\n",
       "      <th>...</th>\n",
       "      <th>RelationshipSatisfaction</th>\n",
       "      <th>StandardHours</th>\n",
       "      <th>StockOptionLevel</th>\n",
       "      <th>TotalWorkingYears</th>\n",
       "      <th>TrainingTimesLastYear</th>\n",
       "      <th>WorkLifeBalance</th>\n",
       "      <th>YearsAtCompany</th>\n",
       "      <th>YearsInCurrentRole</th>\n",
       "      <th>YearsSinceLastPromotion</th>\n",
       "      <th>YearsWithCurrManager</th>\n",
       "    </tr>\n",
       "  </thead>\n",
       "  <tbody>\n",
       "    <tr>\n",
       "      <th>0</th>\n",
       "      <td>41</td>\n",
       "      <td>Yes</td>\n",
       "      <td>Travel_Rarely</td>\n",
       "      <td>1102</td>\n",
       "      <td>Sales</td>\n",
       "      <td>1</td>\n",
       "      <td>2</td>\n",
       "      <td>Life Sciences</td>\n",
       "      <td>1</td>\n",
       "      <td>1</td>\n",
       "      <td>...</td>\n",
       "      <td>1</td>\n",
       "      <td>80</td>\n",
       "      <td>0</td>\n",
       "      <td>8</td>\n",
       "      <td>0</td>\n",
       "      <td>1</td>\n",
       "      <td>6</td>\n",
       "      <td>4</td>\n",
       "      <td>0</td>\n",
       "      <td>5</td>\n",
       "    </tr>\n",
       "    <tr>\n",
       "      <th>1</th>\n",
       "      <td>49</td>\n",
       "      <td>No</td>\n",
       "      <td>Travel_Frequently</td>\n",
       "      <td>279</td>\n",
       "      <td>Research &amp; Development</td>\n",
       "      <td>8</td>\n",
       "      <td>1</td>\n",
       "      <td>Life Sciences</td>\n",
       "      <td>1</td>\n",
       "      <td>2</td>\n",
       "      <td>...</td>\n",
       "      <td>4</td>\n",
       "      <td>80</td>\n",
       "      <td>1</td>\n",
       "      <td>10</td>\n",
       "      <td>3</td>\n",
       "      <td>3</td>\n",
       "      <td>10</td>\n",
       "      <td>7</td>\n",
       "      <td>1</td>\n",
       "      <td>7</td>\n",
       "    </tr>\n",
       "    <tr>\n",
       "      <th>2</th>\n",
       "      <td>37</td>\n",
       "      <td>Yes</td>\n",
       "      <td>Travel_Rarely</td>\n",
       "      <td>1373</td>\n",
       "      <td>Research &amp; Development</td>\n",
       "      <td>2</td>\n",
       "      <td>2</td>\n",
       "      <td>Other</td>\n",
       "      <td>1</td>\n",
       "      <td>4</td>\n",
       "      <td>...</td>\n",
       "      <td>2</td>\n",
       "      <td>80</td>\n",
       "      <td>0</td>\n",
       "      <td>7</td>\n",
       "      <td>3</td>\n",
       "      <td>3</td>\n",
       "      <td>0</td>\n",
       "      <td>0</td>\n",
       "      <td>0</td>\n",
       "      <td>0</td>\n",
       "    </tr>\n",
       "    <tr>\n",
       "      <th>3</th>\n",
       "      <td>33</td>\n",
       "      <td>No</td>\n",
       "      <td>Travel_Frequently</td>\n",
       "      <td>1392</td>\n",
       "      <td>Research &amp; Development</td>\n",
       "      <td>3</td>\n",
       "      <td>4</td>\n",
       "      <td>Life Sciences</td>\n",
       "      <td>1</td>\n",
       "      <td>5</td>\n",
       "      <td>...</td>\n",
       "      <td>3</td>\n",
       "      <td>80</td>\n",
       "      <td>0</td>\n",
       "      <td>8</td>\n",
       "      <td>3</td>\n",
       "      <td>3</td>\n",
       "      <td>8</td>\n",
       "      <td>7</td>\n",
       "      <td>3</td>\n",
       "      <td>0</td>\n",
       "    </tr>\n",
       "    <tr>\n",
       "      <th>4</th>\n",
       "      <td>27</td>\n",
       "      <td>No</td>\n",
       "      <td>Travel_Rarely</td>\n",
       "      <td>591</td>\n",
       "      <td>Research &amp; Development</td>\n",
       "      <td>2</td>\n",
       "      <td>1</td>\n",
       "      <td>Medical</td>\n",
       "      <td>1</td>\n",
       "      <td>7</td>\n",
       "      <td>...</td>\n",
       "      <td>4</td>\n",
       "      <td>80</td>\n",
       "      <td>1</td>\n",
       "      <td>6</td>\n",
       "      <td>3</td>\n",
       "      <td>3</td>\n",
       "      <td>2</td>\n",
       "      <td>2</td>\n",
       "      <td>2</td>\n",
       "      <td>2</td>\n",
       "    </tr>\n",
       "  </tbody>\n",
       "</table>\n",
       "<p>5 rows × 35 columns</p>\n",
       "</div>"
      ],
      "text/plain": [
       "   Age Attrition     BusinessTravel  DailyRate              Department  \\\n",
       "0   41       Yes      Travel_Rarely       1102                   Sales   \n",
       "1   49        No  Travel_Frequently        279  Research & Development   \n",
       "2   37       Yes      Travel_Rarely       1373  Research & Development   \n",
       "3   33        No  Travel_Frequently       1392  Research & Development   \n",
       "4   27        No      Travel_Rarely        591  Research & Development   \n",
       "\n",
       "   DistanceFromHome  Education EducationField  EmployeeCount  EmployeeNumber  \\\n",
       "0                 1          2  Life Sciences              1               1   \n",
       "1                 8          1  Life Sciences              1               2   \n",
       "2                 2          2          Other              1               4   \n",
       "3                 3          4  Life Sciences              1               5   \n",
       "4                 2          1        Medical              1               7   \n",
       "\n",
       "           ...           RelationshipSatisfaction StandardHours  \\\n",
       "0          ...                                  1            80   \n",
       "1          ...                                  4            80   \n",
       "2          ...                                  2            80   \n",
       "3          ...                                  3            80   \n",
       "4          ...                                  4            80   \n",
       "\n",
       "   StockOptionLevel  TotalWorkingYears  TrainingTimesLastYear WorkLifeBalance  \\\n",
       "0                 0                  8                      0               1   \n",
       "1                 1                 10                      3               3   \n",
       "2                 0                  7                      3               3   \n",
       "3                 0                  8                      3               3   \n",
       "4                 1                  6                      3               3   \n",
       "\n",
       "   YearsAtCompany YearsInCurrentRole  YearsSinceLastPromotion  \\\n",
       "0               6                  4                        0   \n",
       "1              10                  7                        1   \n",
       "2               0                  0                        0   \n",
       "3               8                  7                        3   \n",
       "4               2                  2                        2   \n",
       "\n",
       "   YearsWithCurrManager  \n",
       "0                     5  \n",
       "1                     7  \n",
       "2                     0  \n",
       "3                     0  \n",
       "4                     2  \n",
       "\n",
       "[5 rows x 35 columns]"
      ]
     },
     "execution_count": 1,
     "metadata": {},
     "output_type": "execute_result"
    }
   ],
   "source": [
    "%pylab inline\n",
    "import pandas as pd\n",
    "import numpy as np\n",
    "import matplotlib.pyplot as plt\n",
    "import seaborn as sns\n",
    "import scipy.stats as stats\n",
    "import csv\n",
    "\n",
    "#Importing and reading CSV file\n",
    "file_input = 'C:\\\\Users\\\\Sneha Rani\\\\CapstoneProject-LR\\\\ibm-hr-attrition.csv'\n",
    "df1 = pd.read_csv(file_input, index_col=None)\n",
    "df1.head()"
   ]
  },
  {
   "cell_type": "markdown",
   "metadata": {},
   "source": [
    "# My Initial Findings :-"
   ]
  },
  {
   "cell_type": "markdown",
   "metadata": {},
   "source": [
    "### Which age-group people contribute maximum attrition?"
   ]
  },
  {
   "cell_type": "markdown",
   "metadata": {},
   "source": [
    "*I first started my analysis by surveying \"Age\" feature of my dataset. I explored ten most working-age people in the company by using value_counts(). I also plotted bar graph and found that people of Age 34 and 35 are topmost ages employed. Also, the mean age of the people is 37 which is quite close to the top age working employees in the company. This means most of the people belong to mid-age adults and it can be one of the factors for higher attrition.*"
   ]
  },
  {
   "cell_type": "code",
   "execution_count": 2,
   "metadata": {},
   "outputs": [
    {
     "data": {
      "text/plain": [
       "<matplotlib.axes._subplots.AxesSubplot at 0x20dfd6ed6a0>"
      ]
     },
     "execution_count": 2,
     "metadata": {},
     "output_type": "execute_result"
    },
    {
     "data": {
      "image/png": "[encoded data removed]",
      "text/plain": [
       "<matplotlib.figure.Figure at 0x20dfd6ed630>"
      ]
     },
     "metadata": {},
     "output_type": "display_data"
    }
   ],
   "source": [
    "# 10 most popular age people working in company\n",
    "df1['Age'].value_counts()[:10].plot(kind='barh')"
   ]
  },
  {
   "cell_type": "code",
   "execution_count": 3,
   "metadata": {},
   "outputs": [
    {
     "name": "stdout",
     "output_type": "stream",
     "text": [
      "          Young_adults Mid_age_adults Mid_to_old_adults Old_adults\n",
      "                 count          count             count      count\n",
      "Attrition                                                         \n",
      "No                  59            761               355         58\n",
      "Yes                 38            147                41         11\n"
     ]
    },
    {
     "data": {
      "image/png": "[encoded data removed]",
      "text/plain": [
       "<matplotlib.figure.Figure at 0x20d8258b160>"
      ]
     },
     "metadata": {},
     "output_type": "display_data"
    }
   ],
   "source": [
    "g1 = df1[(df1.Age >=15) & (df1.Age <=24)].groupby('Attrition').agg({'Age': ['count']})\n",
    "d1 = g1.rename(columns={\"Age\": \"Young_adults\"})\n",
    "g2 = df1[(df1.Age >=25) & (df1.Age <=40)].groupby('Attrition').agg({'Age': ['count']})\n",
    "d2 = g2.rename(columns={\"Age\": \"Mid_age_adults\"})\n",
    "g3 = df1[(df1.Age >=41) & (df1.Age <=54)].groupby('Attrition').agg({'Age': ['count']})\n",
    "d3 = g3.rename(columns={\"Age\": \"Mid_to_old_adults\"})\n",
    "g4 = df1[(df1.Age >=55) & (df1.Age <=64)].groupby('Attrition').agg({'Age': ['count']})\n",
    "d4 = g4.rename(columns={\"Age\": \"Old_adults\"})\n",
    "frames = [d1, d2, d3, d4]\n",
    "res = pd.concat(frames, axis=1)\n",
    "res.plot(kind='barh')\n",
    "print(res)"
   ]
  },
  {
   "cell_type": "markdown",
   "metadata": {},
   "source": [
    "*So, I further deep dived into that and divided age into four groups: (Age 15-24):- Young_adults (Age 25-40):- Mid_age_adults (Age 41-54):- Mid_to_old_adults (Age 55-64):- Old_adults. Also counted the number of Attrition ('No'/'Yes') for each group and plotted bar graph. From the graph, I found that count of Mid_age_adults are more and they are the highest contributor to Attrition and Old_adults group of people have least attrition rate.*"
   ]
  },
  {
   "cell_type": "markdown",
   "metadata": {},
   "source": [
    "### What is the count of married people and unmarried people attrition rate? Are married people more prone to attrition?"
   ]
  },
  {
   "cell_type": "code",
   "execution_count": 4,
   "metadata": {},
   "outputs": [
    {
     "name": "stdout",
     "output_type": "stream",
     "text": [
      "          Divorced Married Single\n",
      "             count   count  count\n",
      "Attrition                        \n",
      "No             294     589    350\n",
      "Yes             33      84    120\n"
     ]
    },
    {
     "data": {
      "image/png": "[encoded data removed]",
      "text/plain": [
       "<matplotlib.figure.Figure at 0x20d81259588>"
      ]
     },
     "metadata": {},
     "output_type": "display_data"
    }
   ],
   "source": [
    "g1 = df1[(df1.MaritalStatus =='Divorced')].groupby('Attrition').agg({'MaritalStatus': ['count']})\n",
    "d1 = g1.rename(columns={\"MaritalStatus\": \"Divorced\"})\n",
    "g2 = df1[(df1.MaritalStatus =='Married')].groupby('Attrition').agg({'MaritalStatus': ['count']})\n",
    "d2 = g2.rename(columns={\"MaritalStatus\": \"Married\"})\n",
    "g3 = df1[(df1.MaritalStatus =='Single')].groupby('Attrition').agg({'MaritalStatus': ['count']})\n",
    "d3 = g3.rename(columns={\"MaritalStatus\": \"Single\"})\n",
    "frames = [d1, d2, d3]\n",
    "res = pd.concat(frames, axis=1)\n",
    "res.plot(kind='bar')\n",
    "print(res)"
   ]
  },
  {
   "cell_type": "markdown",
   "metadata": {},
   "source": [
    "*Coming to second question survey, we found that based on MaritalStatus, people who are 'Single' are more prone to attrition than people who are married or divorced which is another interesting fact.*"
   ]
  },
  {
   "cell_type": "markdown",
   "metadata": {},
   "source": [
    "### What is the count of people working OverTime and YearsInCurrentRole? How working overtime (or not), and the years in role relate to employee attrition?"
   ]
  },
  {
   "cell_type": "markdown",
   "metadata": {},
   "source": [
    "*First I counted the number of employees who have spent the same number of years in their current role.I analyzed that maximum number of employees leaving the company has spent less than a year, between 2-3yrs or 7-8yrs in the company. I further included overtime feature in the above analysis to see if people who are working overtime and spending the same number of years in the company are leaving the company more frequently or not.*"
   ]
  },
  {
   "cell_type": "code",
   "execution_count": 5,
   "metadata": {},
   "outputs": [
    {
     "data": {
      "text/html": [
       "<div>\n",
       "<style>\n",
       "    .dataframe thead tr:only-child th {\n",
       "        text-align: right;\n",
       "    }\n",
       "\n",
       "    .dataframe thead th {\n",
       "        text-align: left;\n",
       "    }\n",
       "\n",
       "    .dataframe tbody tr th {\n",
       "        vertical-align: top;\n",
       "    }\n",
       "</style>\n",
       "<table border=\"1\" class=\"dataframe\">\n",
       "  <thead>\n",
       "    <tr>\n",
       "      <th></th>\n",
       "      <th>Attrition</th>\n",
       "    </tr>\n",
       "    <tr>\n",
       "      <th></th>\n",
       "      <th>count</th>\n",
       "    </tr>\n",
       "    <tr>\n",
       "      <th>YearsInCurrentRole</th>\n",
       "      <th></th>\n",
       "    </tr>\n",
       "  </thead>\n",
       "  <tbody>\n",
       "    <tr>\n",
       "      <th>0</th>\n",
       "      <td>73</td>\n",
       "    </tr>\n",
       "    <tr>\n",
       "      <th>1</th>\n",
       "      <td>11</td>\n",
       "    </tr>\n",
       "    <tr>\n",
       "      <th>2</th>\n",
       "      <td>68</td>\n",
       "    </tr>\n",
       "    <tr>\n",
       "      <th>3</th>\n",
       "      <td>16</td>\n",
       "    </tr>\n",
       "    <tr>\n",
       "      <th>4</th>\n",
       "      <td>15</td>\n",
       "    </tr>\n",
       "    <tr>\n",
       "      <th>5</th>\n",
       "      <td>1</td>\n",
       "    </tr>\n",
       "    <tr>\n",
       "      <th>6</th>\n",
       "      <td>2</td>\n",
       "    </tr>\n",
       "    <tr>\n",
       "      <th>7</th>\n",
       "      <td>31</td>\n",
       "    </tr>\n",
       "    <tr>\n",
       "      <th>8</th>\n",
       "      <td>7</td>\n",
       "    </tr>\n",
       "    <tr>\n",
       "      <th>9</th>\n",
       "      <td>6</td>\n",
       "    </tr>\n",
       "    <tr>\n",
       "      <th>10</th>\n",
       "      <td>2</td>\n",
       "    </tr>\n",
       "    <tr>\n",
       "      <th>12</th>\n",
       "      <td>1</td>\n",
       "    </tr>\n",
       "    <tr>\n",
       "      <th>13</th>\n",
       "      <td>1</td>\n",
       "    </tr>\n",
       "    <tr>\n",
       "      <th>14</th>\n",
       "      <td>1</td>\n",
       "    </tr>\n",
       "    <tr>\n",
       "      <th>15</th>\n",
       "      <td>2</td>\n",
       "    </tr>\n",
       "  </tbody>\n",
       "</table>\n",
       "</div>"
      ],
      "text/plain": [
       "                   Attrition\n",
       "                       count\n",
       "YearsInCurrentRole          \n",
       "0                         73\n",
       "1                         11\n",
       "2                         68\n",
       "3                         16\n",
       "4                         15\n",
       "5                          1\n",
       "6                          2\n",
       "7                         31\n",
       "8                          7\n",
       "9                          6\n",
       "10                         2\n",
       "12                         1\n",
       "13                         1\n",
       "14                         1\n",
       "15                         2"
      ]
     },
     "execution_count": 5,
     "metadata": {},
     "output_type": "execute_result"
    }
   ],
   "source": [
    "# count of employee leaving the company group by same years in current role\n",
    "df1[(df1.Attrition =='Yes')].groupby('YearsInCurrentRole').agg({'Attrition': ['count']})"
   ]
  },
  {
   "cell_type": "code",
   "execution_count": 6,
   "metadata": {},
   "outputs": [
    {
     "data": {
      "text/plain": [
       "<seaborn.axisgrid.FacetGrid at 0x20d81563240>"
      ]
     },
     "execution_count": 6,
     "metadata": {},
     "output_type": "execute_result"
    },
    {
     "data": {
      "image/png": "[encoded data removed]",
      "text/plain": [
       "<matplotlib.figure.Figure at 0x20d8128bf28>"
      ]
     },
     "metadata": {},
     "output_type": "display_data"
    }
   ],
   "source": [
    "sns.factorplot(x=\"YearsInCurrentRole\", hue=\"Attrition\", col=\"OverTime\", data=df1, kind=\"count\",size=8, aspect=.5)"
   ]
  },
  {
   "cell_type": "markdown",
   "metadata": {},
   "source": [
    "*After plotting factor plot graph, I observed that people who worked overtime have left the company most.*"
   ]
  },
  {
   "cell_type": "markdown",
   "metadata": {},
   "source": [
    "### What is the count of attrition of each department on the basis of RelationshipSatisfaction? Does satisfaction level has any impact on employees leaving these departments?"
   ]
  },
  {
   "cell_type": "code",
   "execution_count": 8,
   "metadata": {},
   "outputs": [
    {
     "data": {
      "text/plain": [
       "<matplotlib.axes._subplots.AxesSubplot at 0x20d826cb9e8>"
      ]
     },
     "execution_count": 8,
     "metadata": {},
     "output_type": "execute_result"
    },
    {
     "data": {
      "image/png": "[encoded data removed]",
      "text/plain": [
       "<matplotlib.figure.Figure at 0x20d826cbcc0>"
      ]
     },
     "metadata": {},
     "output_type": "display_data"
    }
   ],
   "source": [
    "plt.figure(figsize=(6,6))\n",
    "sns.countplot(x='Department', hue='Attrition', data=df1, palette='RdBu')"
   ]
  },
  {
   "cell_type": "code",
   "execution_count": 9,
   "metadata": {},
   "outputs": [
    {
     "data": {
      "text/plain": [
       "<seaborn.axisgrid.FacetGrid at 0x20d82576dd8>"
      ]
     },
     "execution_count": 9,
     "metadata": {},
     "output_type": "execute_result"
    },
    {
     "data": {
      "image/png": "[encoded data removed]",
      "text/plain": [
       "<matplotlib.figure.Figure at 0x20d826226a0>"
      ]
     },
     "metadata": {},
     "output_type": "display_data"
    }
   ],
   "source": [
    "sns.factorplot(x=\"Department\", hue=\"Attrition\", col=\"RelationshipSatisfaction\", data=df1, kind=\"count\",size=10, aspect=.5)"
   ]
  },
  {
   "cell_type": "markdown",
   "metadata": {},
   "source": [
    "*First I counted attrition on each department by using count plot and observed that research and development field has highest attrition count. Then I added another feature 'RelationshipSatisfaction' to see if the satisfaction level has any impact on employees leaving these departments. After plotting factor plot, I don't see any variance on attrition based on the relationship satisfaction feature. All four different levels (Low, Medium, High, Very High) has the similar number of attrition.*"
   ]
  },
  {
   "cell_type": "markdown",
   "metadata": {},
   "source": [
    "### Do JobSatisfaction and JobRole impact gradual loss of employees? Are these two features have a common pattern?"
   ]
  },
  {
   "cell_type": "code",
   "execution_count": 10,
   "metadata": {},
   "outputs": [
    {
     "data": {
      "text/plain": [
       "<seaborn.axisgrid.FacetGrid at 0x20d8270e8d0>"
      ]
     },
     "execution_count": 10,
     "metadata": {},
     "output_type": "execute_result"
    },
    {
     "data": {
      "image/png": "[encoded data removed]",
      "text/plain": [
       "<matplotlib.figure.Figure at 0x20d832c34e0>"
      ]
     },
     "metadata": {},
     "output_type": "display_data"
    }
   ],
   "source": [
    "sns.factorplot(x=\"Attrition\", hue=\"JobRole\", col=\"JobSatisfaction\", data=df1, kind=\"count\",size=10, aspect=.4)"
   ]
  },
  {
   "cell_type": "markdown",
   "metadata": {},
   "source": [
    "*From the plotted graph based on JobRole and JobSatisfaction feature, I see that employees in these roles(Sales Executive, Research Scientist, Laboratory Technician) leave the company most if they have low job satisfaction or high job satisfaction(which is not very high). Sales Representative employees count of attrition are very similar under all job satisfaction levels.*"
   ]
  },
  {
   "cell_type": "code",
   "execution_count": 30,
   "metadata": {},
   "outputs": [
    {
     "data": {
      "text/html": [
       "<div>\n",
       "<style>\n",
       "    .dataframe thead tr:only-child th {\n",
       "        text-align: right;\n",
       "    }\n",
       "\n",
       "    .dataframe thead th {\n",
       "        text-align: left;\n",
       "    }\n",
       "\n",
       "    .dataframe tbody tr th {\n",
       "        vertical-align: top;\n",
       "    }\n",
       "</style>\n",
       "<table border=\"1\" class=\"dataframe\">\n",
       "  <thead>\n",
       "    <tr style=\"text-align: right;\">\n",
       "      <th></th>\n",
       "      <th>Age</th>\n",
       "      <th>Attrition</th>\n",
       "      <th>BusinessTravel</th>\n",
       "      <th>Department</th>\n",
       "      <th>DistanceFromHome</th>\n",
       "      <th>Education</th>\n",
       "      <th>EducationField</th>\n",
       "      <th>EnvironmentSatisfaction</th>\n",
       "      <th>Gender</th>\n",
       "      <th>HourlyRate</th>\n",
       "      <th>...</th>\n",
       "      <th>NumCompaniesWorked</th>\n",
       "      <th>OverTime</th>\n",
       "      <th>PercentSalaryHike</th>\n",
       "      <th>RelationshipSatisfaction</th>\n",
       "      <th>TotalWorkingYears</th>\n",
       "      <th>WorkLifeBalance</th>\n",
       "      <th>YearsAtCompany</th>\n",
       "      <th>YearsInCurrentRole</th>\n",
       "      <th>YearsSinceLastPromotion</th>\n",
       "      <th>YearsWithCurrManager</th>\n",
       "    </tr>\n",
       "  </thead>\n",
       "  <tbody>\n",
       "    <tr>\n",
       "      <th>0</th>\n",
       "      <td>41</td>\n",
       "      <td>Yes</td>\n",
       "      <td>Travel_Rarely</td>\n",
       "      <td>Sales</td>\n",
       "      <td>1</td>\n",
       "      <td>2</td>\n",
       "      <td>Life Sciences</td>\n",
       "      <td>2</td>\n",
       "      <td>Female</td>\n",
       "      <td>94</td>\n",
       "      <td>...</td>\n",
       "      <td>8</td>\n",
       "      <td>Yes</td>\n",
       "      <td>11</td>\n",
       "      <td>1</td>\n",
       "      <td>8</td>\n",
       "      <td>1</td>\n",
       "      <td>6</td>\n",
       "      <td>4</td>\n",
       "      <td>0</td>\n",
       "      <td>5</td>\n",
       "    </tr>\n",
       "    <tr>\n",
       "      <th>1</th>\n",
       "      <td>49</td>\n",
       "      <td>No</td>\n",
       "      <td>Travel_Frequently</td>\n",
       "      <td>Research &amp; Development</td>\n",
       "      <td>8</td>\n",
       "      <td>1</td>\n",
       "      <td>Life Sciences</td>\n",
       "      <td>3</td>\n",
       "      <td>Male</td>\n",
       "      <td>61</td>\n",
       "      <td>...</td>\n",
       "      <td>1</td>\n",
       "      <td>No</td>\n",
       "      <td>23</td>\n",
       "      <td>4</td>\n",
       "      <td>10</td>\n",
       "      <td>3</td>\n",
       "      <td>10</td>\n",
       "      <td>7</td>\n",
       "      <td>1</td>\n",
       "      <td>7</td>\n",
       "    </tr>\n",
       "    <tr>\n",
       "      <th>2</th>\n",
       "      <td>37</td>\n",
       "      <td>Yes</td>\n",
       "      <td>Travel_Rarely</td>\n",
       "      <td>Research &amp; Development</td>\n",
       "      <td>2</td>\n",
       "      <td>2</td>\n",
       "      <td>Other</td>\n",
       "      <td>4</td>\n",
       "      <td>Male</td>\n",
       "      <td>92</td>\n",
       "      <td>...</td>\n",
       "      <td>6</td>\n",
       "      <td>Yes</td>\n",
       "      <td>15</td>\n",
       "      <td>2</td>\n",
       "      <td>7</td>\n",
       "      <td>3</td>\n",
       "      <td>0</td>\n",
       "      <td>0</td>\n",
       "      <td>0</td>\n",
       "      <td>0</td>\n",
       "    </tr>\n",
       "    <tr>\n",
       "      <th>3</th>\n",
       "      <td>33</td>\n",
       "      <td>No</td>\n",
       "      <td>Travel_Frequently</td>\n",
       "      <td>Research &amp; Development</td>\n",
       "      <td>3</td>\n",
       "      <td>4</td>\n",
       "      <td>Life Sciences</td>\n",
       "      <td>4</td>\n",
       "      <td>Female</td>\n",
       "      <td>56</td>\n",
       "      <td>...</td>\n",
       "      <td>1</td>\n",
       "      <td>Yes</td>\n",
       "      <td>11</td>\n",
       "      <td>3</td>\n",
       "      <td>8</td>\n",
       "      <td>3</td>\n",
       "      <td>8</td>\n",
       "      <td>7</td>\n",
       "      <td>3</td>\n",
       "      <td>0</td>\n",
       "    </tr>\n",
       "    <tr>\n",
       "      <th>4</th>\n",
       "      <td>27</td>\n",
       "      <td>No</td>\n",
       "      <td>Travel_Rarely</td>\n",
       "      <td>Research &amp; Development</td>\n",
       "      <td>2</td>\n",
       "      <td>1</td>\n",
       "      <td>Medical</td>\n",
       "      <td>1</td>\n",
       "      <td>Male</td>\n",
       "      <td>40</td>\n",
       "      <td>...</td>\n",
       "      <td>9</td>\n",
       "      <td>No</td>\n",
       "      <td>12</td>\n",
       "      <td>4</td>\n",
       "      <td>6</td>\n",
       "      <td>3</td>\n",
       "      <td>2</td>\n",
       "      <td>2</td>\n",
       "      <td>2</td>\n",
       "      <td>2</td>\n",
       "    </tr>\n",
       "  </tbody>\n",
       "</table>\n",
       "<p>5 rows × 25 columns</p>\n",
       "</div>"
      ],
      "text/plain": [
       "   Age Attrition     BusinessTravel              Department  DistanceFromHome  \\\n",
       "0   41       Yes      Travel_Rarely                   Sales                 1   \n",
       "1   49        No  Travel_Frequently  Research & Development                 8   \n",
       "2   37       Yes      Travel_Rarely  Research & Development                 2   \n",
       "3   33        No  Travel_Frequently  Research & Development                 3   \n",
       "4   27        No      Travel_Rarely  Research & Development                 2   \n",
       "\n",
       "   Education EducationField  EnvironmentSatisfaction  Gender  HourlyRate  \\\n",
       "0          2  Life Sciences                        2  Female          94   \n",
       "1          1  Life Sciences                        3    Male          61   \n",
       "2          2          Other                        4    Male          92   \n",
       "3          4  Life Sciences                        4  Female          56   \n",
       "4          1        Medical                        1    Male          40   \n",
       "\n",
       "           ...           NumCompaniesWorked OverTime  PercentSalaryHike  \\\n",
       "0          ...                            8      Yes                 11   \n",
       "1          ...                            1       No                 23   \n",
       "2          ...                            6      Yes                 15   \n",
       "3          ...                            1      Yes                 11   \n",
       "4          ...                            9       No                 12   \n",
       "\n",
       "  RelationshipSatisfaction  TotalWorkingYears  WorkLifeBalance YearsAtCompany  \\\n",
       "0                        1                  8                1              6   \n",
       "1                        4                 10                3             10   \n",
       "2                        2                  7                3              0   \n",
       "3                        3                  8                3              8   \n",
       "4                        4                  6                3              2   \n",
       "\n",
       "   YearsInCurrentRole  YearsSinceLastPromotion  YearsWithCurrManager  \n",
       "0                   4                        0                     5  \n",
       "1                   7                        1                     7  \n",
       "2                   0                        0                     0  \n",
       "3                   7                        3                     0  \n",
       "4                   2                        2                     2  \n",
       "\n",
       "[5 rows x 25 columns]"
      ]
     },
     "execution_count": 30,
     "metadata": {},
     "output_type": "execute_result"
    }
   ],
   "source": [
    "# Pre cleaned the dataset by removing some of the insignificant columns\n",
    "df2 = df1[['Age','Attrition','BusinessTravel','Department','DistanceFromHome','Education','EducationField',\n",
    "           'EnvironmentSatisfaction','Gender','HourlyRate','JobInvolvement','JobRole','JobSatisfaction','MaritalStatus','MonthlyIncome',\n",
    "           'NumCompaniesWorked','OverTime','PercentSalaryHike','RelationshipSatisfaction','TotalWorkingYears',\n",
    "           'WorkLifeBalance','YearsAtCompany','YearsInCurrentRole','YearsSinceLastPromotion','YearsWithCurrManager']]\n",
    "df2.head()"
   ]
  },
  {
   "cell_type": "markdown",
   "metadata": {
    "collapsed": true
   },
   "source": [
    "### Wrapping up by visualizing  how each feature of my dataset have an impact on the Attrition"
   ]
  },
  {
   "cell_type": "markdown",
   "metadata": {},
   "source": [
    "1)**JobRole:** Employees leaving company has a higher impact on job role as the majority are more from Laboratory Technician, Research  Scientist, and Sales Executive.\n",
    "\n",
    "2)**BusinessTravel:** Employees leaving organization has been seen traveling more.\n",
    "\n",
    "3)**Department:** Employees leaving HR department are less in number and proportion of the total number of HR employees are also less in the ratio as compared to other departments.\n",
    "\n",
    "4)**DistanceFromHome:** Employees leaving the company is almost uniformly distributed either traveling from a nearby place or far."
   ]
  },
  {
   "cell_type": "code",
   "execution_count": 31,
   "metadata": {},
   "outputs": [
    {
     "data": {
      "image/png": "[encoded data removed]",
      "text/plain": [
       "<matplotlib.figure.Figure at 0x20d847dd128>"
      ]
     },
     "metadata": {},
     "output_type": "display_data"
    }
   ],
   "source": [
    "sns.set()\n",
    "fig, ((ax1, ax2),(ax3, ax4)) = plt.subplots(nrows=2, ncols=2, figsize=(16,9))\n",
    "sns.countplot(y='JobRole', hue='Attrition', data=df2, ax=ax1, palette='Set1')\n",
    "sns.countplot(x='BusinessTravel', hue='Attrition', data=df2, ax=ax2, palette='Set1')\n",
    "sns.countplot(x='Department', hue='Attrition', data=df2, ax=ax3, palette='Set1')\n",
    "sns.countplot(x='DistanceFromHome', hue='Attrition', data=df2, ax=ax4, palette='Set1')\n",
    "sns.set_style('dark')\n",
    "plt.tight_layout()"
   ]
  },
  {
   "cell_type": "markdown",
   "metadata": {},
   "source": [
    "\n",
    "5)**Education:** Employees leaving organization doesn't show the higher impact on education as it is somewhat same for all levels(below college, college, bachelor, master) except doctor which shows a lower percentage of attrition.\n",
    "\n",
    "6)**EducationField:** There are people employed from various education field in which HR and other field show huge downfall with respect to attrition rate.\n",
    "\n",
    "7)**EnvironmentSatisfaction:** All the categories (low, medium, high, very high) under this feature contribute similar to the attrition rate and seems like all are equally distributed.\n",
    "\n",
    "8)**Gender:** Male employees leaving the organization has the higher percentage of attrition as compared to female employees.Even though when I consider it as a whole, does not have much impact."
   ]
  },
  {
   "cell_type": "code",
   "execution_count": 32,
   "metadata": {},
   "outputs": [
    {
     "data": {
      "image/png": "[encoded data removed]",
      "text/plain": [
       "<matplotlib.figure.Figure at 0x20d84b6c358>"
      ]
     },
     "metadata": {},
     "output_type": "display_data"
    }
   ],
   "source": [
    "sns.set()\n",
    "fig, ((ax1, ax2),(ax3, ax4)) = plt.subplots(nrows=2, ncols=2, figsize=(16,9))\n",
    "sns.countplot(x='Education', hue='Attrition', data=df2, ax=ax1, palette='Set2')\n",
    "sns.countplot(x='EducationField', hue='Attrition', data=df2, ax=ax2, palette='Set2')\n",
    "sns.countplot(x='EnvironmentSatisfaction', hue='Attrition', data=df2, ax=ax3, palette='Set2')\n",
    "sns.countplot(x='Gender', hue='Attrition', data=df2, ax=ax4, palette='Set2')\n",
    "plt.tight_layout()"
   ]
  },
  {
   "cell_type": "markdown",
   "metadata": {},
   "source": [
    "9)**OverTime:** Percentage of employees working overtime leave company more.\n",
    "\n",
    "10)**JobSatisfaction:** As per metadata 1 ‘Low’ 2 ‘Medium’ 3 ‘High’ 4 ‘Very High’. We see higher attrition levels in among lower Job Satisfaction levels.\n",
    "\n",
    "11)**MaritalStatus:** Employees who are 'Single' are more prone to attrition than people who are married or divorced which is another interesting fact.\n",
    "\n",
    "12)**NumCompaniesWorked:** We see that employees  working in One organization quit a lot."
   ]
  },
  {
   "cell_type": "code",
   "execution_count": 33,
   "metadata": {},
   "outputs": [
    {
     "data": {
      "image/png": "[encoded data removed]",
      "text/plain": [
       "<matplotlib.figure.Figure at 0x20d85553a20>"
      ]
     },
     "metadata": {},
     "output_type": "display_data"
    }
   ],
   "source": [
    "sns.set()\n",
    "fig, ((ax1, ax2),(ax3, ax4)) = plt.subplots(nrows=2, ncols=2, figsize=(16,9))\n",
    "sns.countplot(x='OverTime', hue='Attrition', data=df2, ax=ax1, palette='Set1')\n",
    "sns.countplot(x='JobSatisfaction', hue='Attrition', data=df2, ax=ax2, palette='Set1')\n",
    "sns.countplot(x='MaritalStatus', hue='Attrition', data=df2, ax=ax3, palette='Set1')\n",
    "sns.countplot(x='NumCompaniesWorked', hue='Attrition', data=df2, ax=ax4, palette='Set1')\n",
    "plt.tight_layout()"
   ]
  },
  {
   "cell_type": "markdown",
   "metadata": {},
   "source": [
    "13)**PercentSalaryHike:** Employees receiving a different level of percent salary hike contribute to attrition rate. We also see that employees leaving organization are more in numbers having less than 15% hike.\n",
    "\n",
    "14)**RelationshipSatisfaction:** ‘Low’ 2 ‘Medium’ 3 ‘High’ 4 ‘Very High’. The higher number of employees with 3 or more rating have more chances of leaving the company but large proportions of 1 & 2 rating are also leaving the most.\n",
    "\n",
    "15)**TotalWorkingYears:** Employees having less than one year of experience quit company the most.\n",
    " \n",
    "16)**WorkLifeBalance:** Ratings as per Metadata is 1 ‘Bad’ 2 ‘Good’ 3 ‘Better’ 4 ‘Best’. As expected larger proportion of 1 rating quit, but absolute number wise 2 & 3 are on higher side."
   ]
  },
  {
   "cell_type": "code",
   "execution_count": 34,
   "metadata": {},
   "outputs": [
    {
     "data": {
      "image/png": "[encoded data removed]",
      "text/plain": [
       "<matplotlib.figure.Figure at 0x20d846bf908>"
      ]
     },
     "metadata": {},
     "output_type": "display_data"
    }
   ],
   "source": [
    "sns.set()\n",
    "fig, ((ax1, ax2),(ax3, ax4)) = plt.subplots(nrows=2, ncols=2, figsize=(16,9))\n",
    "sns.countplot(x='PercentSalaryHike', hue='Attrition', data=df2, ax=ax1, palette='Set2')\n",
    "sns.countplot(x='RelationshipSatisfaction', hue='Attrition', data=df2, ax=ax2, palette='Set2')\n",
    "sns.countplot(x='TotalWorkingYears', hue='Attrition', data=df2, ax=ax3, palette='Set2')\n",
    "sns.countplot(x='WorkLifeBalance', hue='Attrition', data=df2, ax=ax4, palette='Set2')\n",
    "plt.tight_layout()"
   ]
  },
  {
   "cell_type": "markdown",
   "metadata": {},
   "source": [
    "17)**YearsAtCompany:** Employees spending less than 10 years contribute most to the attrition rate and also \n",
    "has the maximum attrition rate of freshers. \n",
    "\n",
    "18)**YearsInCurrentRole:** Maybe change in job role a major factor for leaving the organization as the larger proportion with just 0-2 years is quitting most.\n",
    "\n",
    "19)**YearsSinceLastPromotion:** Maximum number of employees who have been promoted recently are more in numbers, quitting the organization.\n",
    "\n",
    "20)**YearsWithCurrManager:** I see that new Managers who have recently joined the organization is a big cause for employees leaving the company."
   ]
  },
  {
   "cell_type": "code",
   "execution_count": 35,
   "metadata": {},
   "outputs": [
    {
     "data": {
      "image/png": "[encoded data removed]",
      "text/plain": [
       "<matplotlib.figure.Figure at 0x20d846f5c50>"
      ]
     },
     "metadata": {},
     "output_type": "display_data"
    }
   ],
   "source": [
    "sns.set()\n",
    "fig, ((ax1, ax2),(ax3, ax4)) = plt.subplots(nrows=2, ncols=2, figsize=(16,9))\n",
    "sns.countplot(x='YearsAtCompany', hue='Attrition', data=df2, ax=ax1, palette='Set1')\n",
    "sns.countplot(x='YearsInCurrentRole', hue='Attrition', data=df2, ax=ax2, palette='Set1')\n",
    "sns.countplot(x='YearsSinceLastPromotion', hue='Attrition', data=df2, ax=ax3, palette='Set1')\n",
    "sns.countplot(x='YearsWithCurrManager', hue='Attrition', data=df2, ax=ax4, palette='Set1')\n",
    "plt.tight_layout()"
   ]
  },
  {
   "cell_type": "markdown",
   "metadata": {},
   "source": [
    "21)**MonthlyIncome:** I see higher levels of attrition among the lower segment of monthly income. It might be due to the income disparity with efforts in the work."
   ]
  },
  {
   "cell_type": "code",
   "execution_count": 36,
   "metadata": {},
   "outputs": [
    {
     "data": {
      "text/plain": [
       "<matplotlib.axes._subplots.AxesSubplot at 0x20d841c6eb8>"
      ]
     },
     "execution_count": 36,
     "metadata": {},
     "output_type": "execute_result"
    },
    {
     "data": {
      "image/png": "[encoded data removed]",
      "text/plain": [
       "<matplotlib.figure.Figure at 0x20d83f30f60>"
      ]
     },
     "metadata": {},
     "output_type": "display_data"
    }
   ],
   "source": [
    "df2.boxplot(column='MonthlyIncome',        # Column to plot\n",
    "                 by= 'Attrition',         # Column to split upon\n",
    "                 figsize= (8,8))"
   ]
  },
  {
   "cell_type": "markdown",
   "metadata": {},
   "source": [
    "# Applying Inferential Statistics using Chi-square Contingency for my further findings :"
   ]
  },
  {
   "cell_type": "markdown",
   "metadata": {},
   "source": [
    "We are now trying to use statistical inference, hypothesis testing, regression, correlation and their applications such as in A/B testing for discovering and communicating insights from data and drawing conclusions and predicting outcomes."
   ]
  },
  {
   "cell_type": "markdown",
   "metadata": {},
   "source": [
    "## Is Age statistically impacting the Attrition Rate?"
   ]
  },
  {
   "cell_type": "markdown",
   "metadata": {},
   "source": [
    "*As I stated earlier while finding age-group having the maximum contribution, I analyzed from the graph that count of Mid_age_adults are more and they are the highest contributor for Attrition and Old_adults group of people have least attrition rate. So in order to check whether 'Age' is one of the factors which is affecting attrition, we further dived by using the statistical inferential technique by finding the relationship between two variables 'Age' and 'Attrition'.*\n",
    "\n",
    "*Since Attrition and Age Group were both categorical variables, I decided to use Chi-Square contingency test to find the dependency between these two variables using chi2_contingency() function.*\n",
    "\n",
    "*Age grouping is done earlier show list table with Attrition Rate count. This table can't be used in Chi-Square contingency test as it expects a data frame as an input. So we organized the 'Age' feature into categorical data format by using cut() function on data frame and introduced new column named 'Age_group_name'.*"
   ]
  },
  {
   "cell_type": "code",
   "execution_count": 20,
   "metadata": {},
   "outputs": [
    {
     "name": "stdout",
     "output_type": "stream",
     "text": [
      "          Young_adults Mid_age_adults Mid_to_old_adults Old_adults\n",
      "                 count          count             count      count\n",
      "Attrition                                                         \n",
      "No                  59            761               355         58\n",
      "Yes                 38            147                41         11\n"
     ]
    }
   ],
   "source": [
    "g1 = df1[(df2.Age >=15) & (df2.Age <=24)].groupby('Attrition').agg({'Age': ['count']})\n",
    "d1 = g1.rename(columns={\"Age\": \"Young_adults\"})\n",
    "g2 = df1[(df2.Age >=25) & (df2.Age <=40)].groupby('Attrition').agg({'Age': ['count']})\n",
    "d2 = g2.rename(columns={\"Age\": \"Mid_age_adults\"})\n",
    "g3 = df1[(df2.Age >=41) & (df2.Age <=54)].groupby('Attrition').agg({'Age': ['count']})\n",
    "d3 = g3.rename(columns={\"Age\": \"Mid_to_old_adults\"})\n",
    "g4 = df1[(df2.Age >=55) & (df2.Age <=64)].groupby('Attrition').agg({'Age': ['count']})\n",
    "d4 = g4.rename(columns={\"Age\": \"Old_adults\"})\n",
    "frames = [d1, d2, d3, d4]\n",
    "res = pd.concat(frames, axis=1)\n",
    "print(res)"
   ]
  },
  {
   "cell_type": "code",
   "execution_count": 21,
   "metadata": {},
   "outputs": [
    {
     "name": "stderr",
     "output_type": "stream",
     "text": [
      "F:\\Anaconda3\\lib\\site-packages\\ipykernel\\__main__.py:3: SettingWithCopyWarning: \n",
      "A value is trying to be set on a copy of a slice from a DataFrame.\n",
      "Try using .loc[row_indexer,col_indexer] = value instead\n",
      "\n",
      "See the caveats in the documentation: http://pandas.pydata.org/pandas-docs/stable/indexing.html#indexing-view-versus-copy\n",
      "  app.launch_new_instance()\n"
     ]
    },
    {
     "data": {
      "text/html": [
       "<div>\n",
       "<style>\n",
       "    .dataframe thead tr:only-child th {\n",
       "        text-align: right;\n",
       "    }\n",
       "\n",
       "    .dataframe thead th {\n",
       "        text-align: left;\n",
       "    }\n",
       "\n",
       "    .dataframe tbody tr th {\n",
       "        vertical-align: top;\n",
       "    }\n",
       "</style>\n",
       "<table border=\"1\" class=\"dataframe\">\n",
       "  <thead>\n",
       "    <tr style=\"text-align: right;\">\n",
       "      <th></th>\n",
       "      <th>Age</th>\n",
       "      <th>Attrition</th>\n",
       "      <th>BusinessTravel</th>\n",
       "      <th>Department</th>\n",
       "      <th>DistanceFromHome</th>\n",
       "      <th>Education</th>\n",
       "      <th>EducationField</th>\n",
       "      <th>EnvironmentSatisfaction</th>\n",
       "      <th>Gender</th>\n",
       "      <th>JobRole</th>\n",
       "      <th>...</th>\n",
       "      <th>OverTime</th>\n",
       "      <th>PercentSalaryHike</th>\n",
       "      <th>RelationshipSatisfaction</th>\n",
       "      <th>TotalWorkingYears</th>\n",
       "      <th>WorkLifeBalance</th>\n",
       "      <th>YearsAtCompany</th>\n",
       "      <th>YearsInCurrentRole</th>\n",
       "      <th>YearsSinceLastPromotion</th>\n",
       "      <th>YearsWithCurrManager</th>\n",
       "      <th>Age_group</th>\n",
       "    </tr>\n",
       "  </thead>\n",
       "  <tbody>\n",
       "    <tr>\n",
       "      <th>0</th>\n",
       "      <td>41</td>\n",
       "      <td>Yes</td>\n",
       "      <td>Travel_Rarely</td>\n",
       "      <td>Sales</td>\n",
       "      <td>1</td>\n",
       "      <td>2</td>\n",
       "      <td>Life Sciences</td>\n",
       "      <td>2</td>\n",
       "      <td>Female</td>\n",
       "      <td>Sales Executive</td>\n",
       "      <td>...</td>\n",
       "      <td>Yes</td>\n",
       "      <td>11</td>\n",
       "      <td>1</td>\n",
       "      <td>8</td>\n",
       "      <td>1</td>\n",
       "      <td>6</td>\n",
       "      <td>4</td>\n",
       "      <td>0</td>\n",
       "      <td>5</td>\n",
       "      <td>Mid_to_old_adults</td>\n",
       "    </tr>\n",
       "    <tr>\n",
       "      <th>1</th>\n",
       "      <td>49</td>\n",
       "      <td>No</td>\n",
       "      <td>Travel_Frequently</td>\n",
       "      <td>Research &amp; Development</td>\n",
       "      <td>8</td>\n",
       "      <td>1</td>\n",
       "      <td>Life Sciences</td>\n",
       "      <td>3</td>\n",
       "      <td>Male</td>\n",
       "      <td>Research Scientist</td>\n",
       "      <td>...</td>\n",
       "      <td>No</td>\n",
       "      <td>23</td>\n",
       "      <td>4</td>\n",
       "      <td>10</td>\n",
       "      <td>3</td>\n",
       "      <td>10</td>\n",
       "      <td>7</td>\n",
       "      <td>1</td>\n",
       "      <td>7</td>\n",
       "      <td>Mid_to_old_adults</td>\n",
       "    </tr>\n",
       "    <tr>\n",
       "      <th>2</th>\n",
       "      <td>37</td>\n",
       "      <td>Yes</td>\n",
       "      <td>Travel_Rarely</td>\n",
       "      <td>Research &amp; Development</td>\n",
       "      <td>2</td>\n",
       "      <td>2</td>\n",
       "      <td>Other</td>\n",
       "      <td>4</td>\n",
       "      <td>Male</td>\n",
       "      <td>Laboratory Technician</td>\n",
       "      <td>...</td>\n",
       "      <td>Yes</td>\n",
       "      <td>15</td>\n",
       "      <td>2</td>\n",
       "      <td>7</td>\n",
       "      <td>3</td>\n",
       "      <td>0</td>\n",
       "      <td>0</td>\n",
       "      <td>0</td>\n",
       "      <td>0</td>\n",
       "      <td>Mid_age_adults</td>\n",
       "    </tr>\n",
       "    <tr>\n",
       "      <th>3</th>\n",
       "      <td>33</td>\n",
       "      <td>No</td>\n",
       "      <td>Travel_Frequently</td>\n",
       "      <td>Research &amp; Development</td>\n",
       "      <td>3</td>\n",
       "      <td>4</td>\n",
       "      <td>Life Sciences</td>\n",
       "      <td>4</td>\n",
       "      <td>Female</td>\n",
       "      <td>Research Scientist</td>\n",
       "      <td>...</td>\n",
       "      <td>Yes</td>\n",
       "      <td>11</td>\n",
       "      <td>3</td>\n",
       "      <td>8</td>\n",
       "      <td>3</td>\n",
       "      <td>8</td>\n",
       "      <td>7</td>\n",
       "      <td>3</td>\n",
       "      <td>0</td>\n",
       "      <td>Mid_age_adults</td>\n",
       "    </tr>\n",
       "    <tr>\n",
       "      <th>4</th>\n",
       "      <td>27</td>\n",
       "      <td>No</td>\n",
       "      <td>Travel_Rarely</td>\n",
       "      <td>Research &amp; Development</td>\n",
       "      <td>2</td>\n",
       "      <td>1</td>\n",
       "      <td>Medical</td>\n",
       "      <td>1</td>\n",
       "      <td>Male</td>\n",
       "      <td>Laboratory Technician</td>\n",
       "      <td>...</td>\n",
       "      <td>No</td>\n",
       "      <td>12</td>\n",
       "      <td>4</td>\n",
       "      <td>6</td>\n",
       "      <td>3</td>\n",
       "      <td>2</td>\n",
       "      <td>2</td>\n",
       "      <td>2</td>\n",
       "      <td>2</td>\n",
       "      <td>Mid_age_adults</td>\n",
       "    </tr>\n",
       "  </tbody>\n",
       "</table>\n",
       "<p>5 rows × 24 columns</p>\n",
       "</div>"
      ],
      "text/plain": [
       "   Age Attrition     BusinessTravel              Department  DistanceFromHome  \\\n",
       "0   41       Yes      Travel_Rarely                   Sales                 1   \n",
       "1   49        No  Travel_Frequently  Research & Development                 8   \n",
       "2   37       Yes      Travel_Rarely  Research & Development                 2   \n",
       "3   33        No  Travel_Frequently  Research & Development                 3   \n",
       "4   27        No      Travel_Rarely  Research & Development                 2   \n",
       "\n",
       "   Education EducationField  EnvironmentSatisfaction  Gender  \\\n",
       "0          2  Life Sciences                        2  Female   \n",
       "1          1  Life Sciences                        3    Male   \n",
       "2          2          Other                        4    Male   \n",
       "3          4  Life Sciences                        4  Female   \n",
       "4          1        Medical                        1    Male   \n",
       "\n",
       "                 JobRole        ...          OverTime PercentSalaryHike  \\\n",
       "0        Sales Executive        ...               Yes                11   \n",
       "1     Research Scientist        ...                No                23   \n",
       "2  Laboratory Technician        ...               Yes                15   \n",
       "3     Research Scientist        ...               Yes                11   \n",
       "4  Laboratory Technician        ...                No                12   \n",
       "\n",
       "   RelationshipSatisfaction  TotalWorkingYears WorkLifeBalance  \\\n",
       "0                         1                  8               1   \n",
       "1                         4                 10               3   \n",
       "2                         2                  7               3   \n",
       "3                         3                  8               3   \n",
       "4                         4                  6               3   \n",
       "\n",
       "   YearsAtCompany  YearsInCurrentRole  YearsSinceLastPromotion  \\\n",
       "0               6                   4                        0   \n",
       "1              10                   7                        1   \n",
       "2               0                   0                        0   \n",
       "3               8                   7                        3   \n",
       "4               2                   2                        2   \n",
       "\n",
       "   YearsWithCurrManager          Age_group  \n",
       "0                     5  Mid_to_old_adults  \n",
       "1                     7  Mid_to_old_adults  \n",
       "2                     0     Mid_age_adults  \n",
       "3                     0     Mid_age_adults  \n",
       "4                     2     Mid_age_adults  \n",
       "\n",
       "[5 rows x 24 columns]"
      ]
     },
     "execution_count": 21,
     "metadata": {},
     "output_type": "execute_result"
    }
   ],
   "source": [
    "age_bins = [15,25,40,55,65] # age cut-off \n",
    "age_labels= ['Young_adults', 'Mid_age_adults', 'Mid_to_old_adults', 'Old_adults'] # label for above range\n",
    "df2['Age_group'] = pd.cut(df2['Age'],age_bins,labels=age_labels,right=True,include_lowest=True)\n",
    "df2.head()"
   ]
  },
  {
   "cell_type": "markdown",
   "metadata": {},
   "source": [
    "**Null hypothesis (H0):** *The 2 categorical variables are independent (there is no relationship between the variables)*\n",
    "\n",
    "**Alternate hypothesis (H1):** *The 2 categorical variables are dependent (there is a relationship between the variables)*"
   ]
  },
  {
   "cell_type": "markdown",
   "metadata": {},
   "source": [
    "### Chi_Contingency test for deciding independence between two variables Attrition and Age_group"
   ]
  },
  {
   "cell_type": "code",
   "execution_count": 23,
   "metadata": {},
   "outputs": [
    {
     "data": {
      "text/html": [
       "<table border=\"1\" cellpadding=\"3\" cellspacing=\"0\"  style=\"border:black; border-collapse:collapse;\"><tr><td  style=\"border-left: 1px solid;border-right: 1px solid;border-top: 1px solid;border-bottom: 1px solid;\">Item</td><td  style=\"border-left: 1px solid;border-right: 1px solid;border-top: 1px solid;border-bottom: 1px solid;\">Value</td></tr><tr><td  style=\"border-left: 1px solid;border-right: 1px solid;border-top: 1px solid;border-bottom: 1px solid;\">Chi-Square&nbsp;Test</td><td  style=\"border-left: 1px solid;border-right: 1px solid;border-top: 1px solid;border-bottom: 1px solid;\">44.8397</td></tr><tr><td  style=\"border-left: 1px solid;border-right: 1px solid;border-top: 1px solid;border-bottom: 1px solid;\">P-Value</td><td  style=\"border-left: 1px solid;border-right: 1px solid;border-top: 1px solid;border-bottom: 1px solid;\">0.0000</td></tr></table>"
      ],
      "text/plain": [
       "<ipy_table.ipy_table.IpyTable at 0x20d841d9f28>"
      ]
     },
     "execution_count": 23,
     "metadata": {},
     "output_type": "execute_result"
    }
   ],
   "source": [
    "import ipy_table as tbl\n",
    "table = pd.crosstab([df2['Attrition']], df2['Age_group'])\n",
    "chi2, p, dof, expected = stats.chi2_contingency(table.values)\n",
    "results = [\n",
    "    ['Item', 'Value'],\n",
    "    ['Chi-Square Test', chi2],\n",
    "    ['P-Value', p],\n",
    "]\n",
    "tbl.make_table(results)"
   ]
  },
  {
   "cell_type": "markdown",
   "metadata": {},
   "source": [
    "*Chi-square contingency test reveals that potential dependency between two variable 'Age_Group' and 'Attrition' is statistically significant.Thus we can reject the null hypothesis because p-value is sufficiently small ( below the threshold value of 0.05 ).*"
   ]
  },
  {
   "cell_type": "markdown",
   "metadata": {},
   "source": [
    "## Do male or female of different age groups impact differently to the employee attrition? "
   ]
  },
  {
   "cell_type": "code",
   "execution_count": 24,
   "metadata": {},
   "outputs": [
    {
     "data": {
      "text/html": [
       "<div>\n",
       "<style>\n",
       "    .dataframe thead tr:only-child th {\n",
       "        text-align: right;\n",
       "    }\n",
       "\n",
       "    .dataframe thead th {\n",
       "        text-align: left;\n",
       "    }\n",
       "\n",
       "    .dataframe tbody tr th {\n",
       "        vertical-align: top;\n",
       "    }\n",
       "</style>\n",
       "<table border=\"1\" class=\"dataframe\">\n",
       "  <thead>\n",
       "    <tr>\n",
       "      <th>Age_group</th>\n",
       "      <th colspan=\"2\" halign=\"left\">Young_adults</th>\n",
       "      <th colspan=\"2\" halign=\"left\">Mid_age_adults</th>\n",
       "      <th colspan=\"2\" halign=\"left\">Mid_to_old_adults</th>\n",
       "      <th colspan=\"2\" halign=\"left\">Old_adults</th>\n",
       "      <th>All</th>\n",
       "    </tr>\n",
       "    <tr>\n",
       "      <th>Gender</th>\n",
       "      <th>Female</th>\n",
       "      <th>Male</th>\n",
       "      <th>Female</th>\n",
       "      <th>Male</th>\n",
       "      <th>Female</th>\n",
       "      <th>Male</th>\n",
       "      <th>Female</th>\n",
       "      <th>Male</th>\n",
       "      <th></th>\n",
       "    </tr>\n",
       "    <tr>\n",
       "      <th>Attrition</th>\n",
       "      <th></th>\n",
       "      <th></th>\n",
       "      <th></th>\n",
       "      <th></th>\n",
       "      <th></th>\n",
       "      <th></th>\n",
       "      <th></th>\n",
       "      <th></th>\n",
       "      <th></th>\n",
       "    </tr>\n",
       "  </thead>\n",
       "  <tbody>\n",
       "    <tr>\n",
       "      <th>No</th>\n",
       "      <td>25</td>\n",
       "      <td>54</td>\n",
       "      <td>301</td>\n",
       "      <td>440</td>\n",
       "      <td>157</td>\n",
       "      <td>217</td>\n",
       "      <td>18</td>\n",
       "      <td>21</td>\n",
       "      <td>1233</td>\n",
       "    </tr>\n",
       "    <tr>\n",
       "      <th>Yes</th>\n",
       "      <td>18</td>\n",
       "      <td>26</td>\n",
       "      <td>51</td>\n",
       "      <td>90</td>\n",
       "      <td>15</td>\n",
       "      <td>29</td>\n",
       "      <td>3</td>\n",
       "      <td>5</td>\n",
       "      <td>237</td>\n",
       "    </tr>\n",
       "    <tr>\n",
       "      <th>All</th>\n",
       "      <td>43</td>\n",
       "      <td>80</td>\n",
       "      <td>352</td>\n",
       "      <td>530</td>\n",
       "      <td>172</td>\n",
       "      <td>246</td>\n",
       "      <td>21</td>\n",
       "      <td>26</td>\n",
       "      <td>1470</td>\n",
       "    </tr>\n",
       "  </tbody>\n",
       "</table>\n",
       "</div>"
      ],
      "text/plain": [
       "Age_group Young_adults      Mid_age_adults      Mid_to_old_adults       \\\n",
       "Gender          Female Male         Female Male            Female Male   \n",
       "Attrition                                                                \n",
       "No                  25   54            301  440               157  217   \n",
       "Yes                 18   26             51   90                15   29   \n",
       "All                 43   80            352  530               172  246   \n",
       "\n",
       "Age_group Old_adults        All  \n",
       "Gender        Female Male        \n",
       "Attrition                        \n",
       "No                18   21  1233  \n",
       "Yes                3    5   237  \n",
       "All               21   26  1470  "
      ]
     },
     "execution_count": 24,
     "metadata": {},
     "output_type": "execute_result"
    }
   ],
   "source": [
    "# Table of Gender with different age groups with attrition \n",
    "attrition_relation = pd.crosstab(index=df2[\"Attrition\"], \n",
    "                             columns=[df2[\"Age_group\"],df2[\"Gender\"]\n",
    "                                      ],\n",
    "                             margins=True)   # Include row and column totals\n",
    "\n",
    "attrition_relation"
   ]
  },
  {
   "cell_type": "code",
   "execution_count": 25,
   "metadata": {},
   "outputs": [
    {
     "data": {
      "text/html": [
       "<div>\n",
       "<style>\n",
       "    .dataframe thead tr:only-child th {\n",
       "        text-align: right;\n",
       "    }\n",
       "\n",
       "    .dataframe thead th {\n",
       "        text-align: left;\n",
       "    }\n",
       "\n",
       "    .dataframe tbody tr th {\n",
       "        vertical-align: top;\n",
       "    }\n",
       "</style>\n",
       "<table border=\"1\" class=\"dataframe\">\n",
       "  <thead>\n",
       "    <tr>\n",
       "      <th>Age_group</th>\n",
       "      <th colspan=\"2\" halign=\"left\">Young_adults</th>\n",
       "      <th colspan=\"2\" halign=\"left\">Mid_age_adults</th>\n",
       "      <th colspan=\"2\" halign=\"left\">Mid_to_old_adults</th>\n",
       "      <th colspan=\"2\" halign=\"left\">Old_adults</th>\n",
       "      <th>All</th>\n",
       "    </tr>\n",
       "    <tr>\n",
       "      <th>Gender</th>\n",
       "      <th>Female</th>\n",
       "      <th>Male</th>\n",
       "      <th>Female</th>\n",
       "      <th>Male</th>\n",
       "      <th>Female</th>\n",
       "      <th>Male</th>\n",
       "      <th>Female</th>\n",
       "      <th>Male</th>\n",
       "      <th></th>\n",
       "    </tr>\n",
       "    <tr>\n",
       "      <th>Attrition</th>\n",
       "      <th></th>\n",
       "      <th></th>\n",
       "      <th></th>\n",
       "      <th></th>\n",
       "      <th></th>\n",
       "      <th></th>\n",
       "      <th></th>\n",
       "      <th></th>\n",
       "      <th></th>\n",
       "    </tr>\n",
       "  </thead>\n",
       "  <tbody>\n",
       "    <tr>\n",
       "      <th>No</th>\n",
       "      <td>58.139535</td>\n",
       "      <td>67.5</td>\n",
       "      <td>85.511364</td>\n",
       "      <td>83.018868</td>\n",
       "      <td>91.27907</td>\n",
       "      <td>88.211382</td>\n",
       "      <td>85.714286</td>\n",
       "      <td>80.769231</td>\n",
       "      <td>83.877551</td>\n",
       "    </tr>\n",
       "    <tr>\n",
       "      <th>Yes</th>\n",
       "      <td>41.860465</td>\n",
       "      <td>32.5</td>\n",
       "      <td>14.488636</td>\n",
       "      <td>16.981132</td>\n",
       "      <td>8.72093</td>\n",
       "      <td>11.788618</td>\n",
       "      <td>14.285714</td>\n",
       "      <td>19.230769</td>\n",
       "      <td>16.122449</td>\n",
       "    </tr>\n",
       "    <tr>\n",
       "      <th>All</th>\n",
       "      <td>100.000000</td>\n",
       "      <td>100.0</td>\n",
       "      <td>100.000000</td>\n",
       "      <td>100.000000</td>\n",
       "      <td>100.00000</td>\n",
       "      <td>100.000000</td>\n",
       "      <td>100.000000</td>\n",
       "      <td>100.000000</td>\n",
       "      <td>100.000000</td>\n",
       "    </tr>\n",
       "  </tbody>\n",
       "</table>\n",
       "</div>"
      ],
      "text/plain": [
       "Age_group Young_adults        Mid_age_adults             Mid_to_old_adults  \\\n",
       "Gender          Female   Male         Female        Male            Female   \n",
       "Attrition                                                                    \n",
       "No           58.139535   67.5      85.511364   83.018868          91.27907   \n",
       "Yes          41.860465   32.5      14.488636   16.981132           8.72093   \n",
       "All         100.000000  100.0     100.000000  100.000000         100.00000   \n",
       "\n",
       "Age_group              Old_adults                     All  \n",
       "Gender           Male      Female        Male              \n",
       "Attrition                                                  \n",
       "No          88.211382   85.714286   80.769231   83.877551  \n",
       "Yes         11.788618   14.285714   19.230769   16.122449  \n",
       "All        100.000000  100.000000  100.000000  100.000000  "
      ]
     },
     "execution_count": 25,
     "metadata": {},
     "output_type": "execute_result"
    }
   ],
   "source": [
    "# Table of Gender with different age groups with attrition shown in percentage\n",
    "attrition_relation/attrition_relation.loc[\"All\"]*100"
   ]
  },
  {
   "cell_type": "markdown",
   "metadata": {},
   "source": [
    "#### *Here we see something quite interesting:*\n",
    "\n",
    "*As seen from above table, Male and Female in Young_adults age group leaving the company is having higher percentage even though they are less in number compared to Male and Female of Mid_age_adults.*"
   ]
  },
  {
   "cell_type": "code",
   "execution_count": 26,
   "metadata": {},
   "outputs": [
    {
     "data": {
      "text/html": [
       "<div>\n",
       "<style>\n",
       "    .dataframe thead tr:only-child th {\n",
       "        text-align: right;\n",
       "    }\n",
       "\n",
       "    .dataframe thead th {\n",
       "        text-align: left;\n",
       "    }\n",
       "\n",
       "    .dataframe tbody tr th {\n",
       "        vertical-align: top;\n",
       "    }\n",
       "</style>\n",
       "<table border=\"1\" class=\"dataframe\">\n",
       "  <thead>\n",
       "    <tr style=\"text-align: right;\">\n",
       "      <th>Gender</th>\n",
       "      <th>Female</th>\n",
       "      <th>Male</th>\n",
       "      <th>All</th>\n",
       "    </tr>\n",
       "    <tr>\n",
       "      <th>Attrition</th>\n",
       "      <th></th>\n",
       "      <th></th>\n",
       "      <th></th>\n",
       "    </tr>\n",
       "  </thead>\n",
       "  <tbody>\n",
       "    <tr>\n",
       "      <th>No</th>\n",
       "      <td>501</td>\n",
       "      <td>732</td>\n",
       "      <td>1233</td>\n",
       "    </tr>\n",
       "    <tr>\n",
       "      <th>Yes</th>\n",
       "      <td>87</td>\n",
       "      <td>150</td>\n",
       "      <td>237</td>\n",
       "    </tr>\n",
       "    <tr>\n",
       "      <th>All</th>\n",
       "      <td>588</td>\n",
       "      <td>882</td>\n",
       "      <td>1470</td>\n",
       "    </tr>\n",
       "  </tbody>\n",
       "</table>\n",
       "</div>"
      ],
      "text/plain": [
       "Gender     Female  Male   All\n",
       "Attrition                    \n",
       "No            501   732  1233\n",
       "Yes            87   150   237\n",
       "All           588   882  1470"
      ]
     },
     "execution_count": 26,
     "metadata": {},
     "output_type": "execute_result"
    }
   ],
   "source": [
    "# Table of Attrition vs. Gender\n",
    "attrition_gender = pd.crosstab(index=df2[\"Attrition\"], \n",
    "                           columns=df2[\"Gender\"],\n",
    "                              margins=True)\n",
    "attrition_gender"
   ]
  },
  {
   "cell_type": "code",
   "execution_count": 27,
   "metadata": {},
   "outputs": [
    {
     "data": {
      "text/html": [
       "<div>\n",
       "<style>\n",
       "    .dataframe thead tr:only-child th {\n",
       "        text-align: right;\n",
       "    }\n",
       "\n",
       "    .dataframe thead th {\n",
       "        text-align: left;\n",
       "    }\n",
       "\n",
       "    .dataframe tbody tr th {\n",
       "        vertical-align: top;\n",
       "    }\n",
       "</style>\n",
       "<table border=\"1\" class=\"dataframe\">\n",
       "  <thead>\n",
       "    <tr style=\"text-align: right;\">\n",
       "      <th>Gender</th>\n",
       "      <th>Female</th>\n",
       "      <th>Male</th>\n",
       "      <th>All</th>\n",
       "    </tr>\n",
       "    <tr>\n",
       "      <th>Attrition</th>\n",
       "      <th></th>\n",
       "      <th></th>\n",
       "      <th></th>\n",
       "    </tr>\n",
       "  </thead>\n",
       "  <tbody>\n",
       "    <tr>\n",
       "      <th>No</th>\n",
       "      <td>85.204082</td>\n",
       "      <td>82.993197</td>\n",
       "      <td>83.877551</td>\n",
       "    </tr>\n",
       "    <tr>\n",
       "      <th>Yes</th>\n",
       "      <td>14.795918</td>\n",
       "      <td>17.006803</td>\n",
       "      <td>16.122449</td>\n",
       "    </tr>\n",
       "    <tr>\n",
       "      <th>All</th>\n",
       "      <td>100.000000</td>\n",
       "      <td>100.000000</td>\n",
       "      <td>100.000000</td>\n",
       "    </tr>\n",
       "  </tbody>\n",
       "</table>\n",
       "</div>"
      ],
      "text/plain": [
       "Gender         Female        Male         All\n",
       "Attrition                                    \n",
       "No          85.204082   82.993197   83.877551\n",
       "Yes         14.795918   17.006803   16.122449\n",
       "All        100.000000  100.000000  100.000000"
      ]
     },
     "execution_count": 27,
     "metadata": {},
     "output_type": "execute_result"
    }
   ],
   "source": [
    "# Table of Attrition vs. Gender shown in percentage\n",
    "attrition_gender/attrition_gender.loc['All']*100"
   ]
  },
  {
   "cell_type": "code",
   "execution_count": 28,
   "metadata": {},
   "outputs": [
    {
     "data": {
      "text/html": [
       "<table border=\"1\" cellpadding=\"3\" cellspacing=\"0\"  style=\"border:black; border-collapse:collapse;\"><tr><td  style=\"border-left: 1px solid;border-right: 1px solid;border-top: 1px solid;border-bottom: 1px solid;\">Item</td><td  style=\"border-left: 1px solid;border-right: 1px solid;border-top: 1px solid;border-bottom: 1px solid;\">Value</td></tr><tr><td  style=\"border-left: 1px solid;border-right: 1px solid;border-top: 1px solid;border-bottom: 1px solid;\">Chi-Square&nbsp;Test</td><td  style=\"border-left: 1px solid;border-right: 1px solid;border-top: 1px solid;border-bottom: 1px solid;\">1.1170</td></tr><tr><td  style=\"border-left: 1px solid;border-right: 1px solid;border-top: 1px solid;border-bottom: 1px solid;\">P-Value</td><td  style=\"border-left: 1px solid;border-right: 1px solid;border-top: 1px solid;border-bottom: 1px solid;\">0.2906</td></tr></table>"
      ],
      "text/plain": [
       "<ipy_table.ipy_table.IpyTable at 0x20d841d9fd0>"
      ]
     },
     "execution_count": 28,
     "metadata": {},
     "output_type": "execute_result"
    }
   ],
   "source": [
    "#Chi_Contingency test for deciding independence between two variables Attrition and Gender\n",
    "import ipy_table as tbl\n",
    "table = pd.crosstab([df2['Attrition']], df2['Gender'])\n",
    "chi2, p, dof, expected = stats.chi2_contingency(table.values)\n",
    "result = [\n",
    "    ['Item', 'Value'],\n",
    "    ['Chi-Square Test', chi2],\n",
    "    ['P-Value', p],\n",
    "]\n",
    "tbl.make_table(result)"
   ]
  },
  {
   "cell_type": "markdown",
   "metadata": {},
   "source": [
    "*Even though Male and Female contribute to the attrition rate, Chi-Square Test of Independence result shows high p-value(0.2906) which is not sufficiently small, so we cannot reject the null hypothesis.Since the p-value is higher than threshold p-value of 0.05 we cannot reject the null hypothesis. As of now, I think it may be not useful to include as a feature in a predictive model, but we don't know until we try all the variables in machine learning model.*\n",
    "\n",
    "**Note:**\n",
    "\n",
    "**References: https://web.stanford.edu/class/psych252/cheatsheets/chisquare.html#way-classification-contingency-test**"
   ]
  },
  {
   "cell_type": "markdown",
   "metadata": {},
   "source": [
    "# Is My Model Ready To Apply Machine Learning Algorithms ?"
   ]
  },
  {
   "cell_type": "markdown",
   "metadata": {},
   "source": [
    "After figuring out my initial findings and having laid a foundation in Inferential Statistics and Hypothesis Testing, it's time to see those ideas in action by implementing the best model and applying Machine Learning Algorithms based on my dataset.\n",
    "So, basically we need to first understand what do we mean by Machine Learning ? It's actually an art and science of giving computers the ability to learn to make decisions from data without being explicitly programmed.\n",
    "\n",
    "As I am dealing with IBM Employee Attrition dataset, my goal is to know the contribution of varied factors and predict which factors contribute the most to employee attrition, seeing all these qualities I am now able to tell where my dataset falls under ? As my dataset comes under supervised learning I need to predict the target variable (which is 'Attrition') for this dataset, given the predictor variables. As my dataset is clearly labeled and belongs to categorical value, I need to perform classification task."
   ]
  },
  {
   "cell_type": "markdown",
   "metadata": {},
   "source": [
    "## Preparing My Model"
   ]
  },
  {
   "cell_type": "markdown",
   "metadata": {},
   "source": [
    "###  Do ' IBM HR Analytics Employee Attrition & Performance ' dataset contain Categorical Variables ?\n",
    "**- Create dummy variables for categorical variables :**\n",
    "\n",
    "*First I need to check datatypes from Employee Attrition dataset. Then, I need to convert categorical variables to dummy variables before they can be used for modelling.*"
   ]
  },
  {
   "cell_type": "code",
   "execution_count": 37,
   "metadata": {},
   "outputs": [
    {
     "name": "stderr",
     "output_type": "stream",
     "text": [
      "F:\\Anaconda3\\lib\\site-packages\\ipykernel\\__main__.py:4: SettingWithCopyWarning: \n",
      "A value is trying to be set on a copy of a slice from a DataFrame.\n",
      "Try using .loc[row_indexer,col_indexer] = value instead\n",
      "\n",
      "See the caveats in the documentation: http://pandas.pydata.org/pandas-docs/stable/indexing.html#indexing-view-versus-copy\n"
     ]
    },
    {
     "data": {
      "text/html": [
       "<div>\n",
       "<style>\n",
       "    .dataframe thead tr:only-child th {\n",
       "        text-align: right;\n",
       "    }\n",
       "\n",
       "    .dataframe thead th {\n",
       "        text-align: left;\n",
       "    }\n",
       "\n",
       "    .dataframe tbody tr th {\n",
       "        vertical-align: top;\n",
       "    }\n",
       "</style>\n",
       "<table border=\"1\" class=\"dataframe\">\n",
       "  <thead>\n",
       "    <tr style=\"text-align: right;\">\n",
       "      <th></th>\n",
       "      <th>Age</th>\n",
       "      <th>Attrition</th>\n",
       "      <th>BusinessTravel</th>\n",
       "      <th>Department</th>\n",
       "      <th>DistanceFromHome</th>\n",
       "      <th>Education</th>\n",
       "      <th>EducationField</th>\n",
       "      <th>EnvironmentSatisfaction</th>\n",
       "      <th>Gender</th>\n",
       "      <th>HourlyRate</th>\n",
       "      <th>...</th>\n",
       "      <th>NumCompaniesWorked</th>\n",
       "      <th>OverTime</th>\n",
       "      <th>PercentSalaryHike</th>\n",
       "      <th>RelationshipSatisfaction</th>\n",
       "      <th>TotalWorkingYears</th>\n",
       "      <th>WorkLifeBalance</th>\n",
       "      <th>YearsAtCompany</th>\n",
       "      <th>YearsInCurrentRole</th>\n",
       "      <th>YearsSinceLastPromotion</th>\n",
       "      <th>YearsWithCurrManager</th>\n",
       "    </tr>\n",
       "  </thead>\n",
       "  <tbody>\n",
       "    <tr>\n",
       "      <th>0</th>\n",
       "      <td>41</td>\n",
       "      <td>1</td>\n",
       "      <td>Travel_Rarely</td>\n",
       "      <td>Sales</td>\n",
       "      <td>1</td>\n",
       "      <td>2</td>\n",
       "      <td>Life Sciences</td>\n",
       "      <td>2</td>\n",
       "      <td>Female</td>\n",
       "      <td>94</td>\n",
       "      <td>...</td>\n",
       "      <td>8</td>\n",
       "      <td>Yes</td>\n",
       "      <td>11</td>\n",
       "      <td>1</td>\n",
       "      <td>8</td>\n",
       "      <td>1</td>\n",
       "      <td>6</td>\n",
       "      <td>4</td>\n",
       "      <td>0</td>\n",
       "      <td>5</td>\n",
       "    </tr>\n",
       "    <tr>\n",
       "      <th>1</th>\n",
       "      <td>49</td>\n",
       "      <td>0</td>\n",
       "      <td>Travel_Frequently</td>\n",
       "      <td>Research &amp; Development</td>\n",
       "      <td>8</td>\n",
       "      <td>1</td>\n",
       "      <td>Life Sciences</td>\n",
       "      <td>3</td>\n",
       "      <td>Male</td>\n",
       "      <td>61</td>\n",
       "      <td>...</td>\n",
       "      <td>1</td>\n",
       "      <td>No</td>\n",
       "      <td>23</td>\n",
       "      <td>4</td>\n",
       "      <td>10</td>\n",
       "      <td>3</td>\n",
       "      <td>10</td>\n",
       "      <td>7</td>\n",
       "      <td>1</td>\n",
       "      <td>7</td>\n",
       "    </tr>\n",
       "    <tr>\n",
       "      <th>2</th>\n",
       "      <td>37</td>\n",
       "      <td>1</td>\n",
       "      <td>Travel_Rarely</td>\n",
       "      <td>Research &amp; Development</td>\n",
       "      <td>2</td>\n",
       "      <td>2</td>\n",
       "      <td>Other</td>\n",
       "      <td>4</td>\n",
       "      <td>Male</td>\n",
       "      <td>92</td>\n",
       "      <td>...</td>\n",
       "      <td>6</td>\n",
       "      <td>Yes</td>\n",
       "      <td>15</td>\n",
       "      <td>2</td>\n",
       "      <td>7</td>\n",
       "      <td>3</td>\n",
       "      <td>0</td>\n",
       "      <td>0</td>\n",
       "      <td>0</td>\n",
       "      <td>0</td>\n",
       "    </tr>\n",
       "    <tr>\n",
       "      <th>3</th>\n",
       "      <td>33</td>\n",
       "      <td>0</td>\n",
       "      <td>Travel_Frequently</td>\n",
       "      <td>Research &amp; Development</td>\n",
       "      <td>3</td>\n",
       "      <td>4</td>\n",
       "      <td>Life Sciences</td>\n",
       "      <td>4</td>\n",
       "      <td>Female</td>\n",
       "      <td>56</td>\n",
       "      <td>...</td>\n",
       "      <td>1</td>\n",
       "      <td>Yes</td>\n",
       "      <td>11</td>\n",
       "      <td>3</td>\n",
       "      <td>8</td>\n",
       "      <td>3</td>\n",
       "      <td>8</td>\n",
       "      <td>7</td>\n",
       "      <td>3</td>\n",
       "      <td>0</td>\n",
       "    </tr>\n",
       "    <tr>\n",
       "      <th>4</th>\n",
       "      <td>27</td>\n",
       "      <td>0</td>\n",
       "      <td>Travel_Rarely</td>\n",
       "      <td>Research &amp; Development</td>\n",
       "      <td>2</td>\n",
       "      <td>1</td>\n",
       "      <td>Medical</td>\n",
       "      <td>1</td>\n",
       "      <td>Male</td>\n",
       "      <td>40</td>\n",
       "      <td>...</td>\n",
       "      <td>9</td>\n",
       "      <td>No</td>\n",
       "      <td>12</td>\n",
       "      <td>4</td>\n",
       "      <td>6</td>\n",
       "      <td>3</td>\n",
       "      <td>2</td>\n",
       "      <td>2</td>\n",
       "      <td>2</td>\n",
       "      <td>2</td>\n",
       "    </tr>\n",
       "  </tbody>\n",
       "</table>\n",
       "<p>5 rows × 25 columns</p>\n",
       "</div>"
      ],
      "text/plain": [
       "   Age  Attrition     BusinessTravel              Department  \\\n",
       "0   41          1      Travel_Rarely                   Sales   \n",
       "1   49          0  Travel_Frequently  Research & Development   \n",
       "2   37          1      Travel_Rarely  Research & Development   \n",
       "3   33          0  Travel_Frequently  Research & Development   \n",
       "4   27          0      Travel_Rarely  Research & Development   \n",
       "\n",
       "   DistanceFromHome  Education EducationField  EnvironmentSatisfaction  \\\n",
       "0                 1          2  Life Sciences                        2   \n",
       "1                 8          1  Life Sciences                        3   \n",
       "2                 2          2          Other                        4   \n",
       "3                 3          4  Life Sciences                        4   \n",
       "4                 2          1        Medical                        1   \n",
       "\n",
       "   Gender  HourlyRate          ...           NumCompaniesWorked OverTime  \\\n",
       "0  Female          94          ...                            8      Yes   \n",
       "1    Male          61          ...                            1       No   \n",
       "2    Male          92          ...                            6      Yes   \n",
       "3  Female          56          ...                            1      Yes   \n",
       "4    Male          40          ...                            9       No   \n",
       "\n",
       "   PercentSalaryHike RelationshipSatisfaction  TotalWorkingYears  \\\n",
       "0                 11                        1                  8   \n",
       "1                 23                        4                 10   \n",
       "2                 15                        2                  7   \n",
       "3                 11                        3                  8   \n",
       "4                 12                        4                  6   \n",
       "\n",
       "   WorkLifeBalance YearsAtCompany  YearsInCurrentRole  \\\n",
       "0                1              6                   4   \n",
       "1                3             10                   7   \n",
       "2                3              0                   0   \n",
       "3                3              8                   7   \n",
       "4                3              2                   2   \n",
       "\n",
       "   YearsSinceLastPromotion  YearsWithCurrManager  \n",
       "0                        0                     5  \n",
       "1                        1                     7  \n",
       "2                        0                     0  \n",
       "3                        3                     0  \n",
       "4                        2                     2  \n",
       "\n",
       "[5 rows x 25 columns]"
      ]
     },
     "execution_count": 37,
     "metadata": {},
     "output_type": "execute_result"
    }
   ],
   "source": [
    "# Converting strings to categorical values\n",
    "from sklearn.preprocessing import LabelEncoder\n",
    "number = LabelEncoder()\n",
    "df2['Attrition'] = number.fit_transform(df2['Attrition'].astype('str'))\n",
    "df2.head()"
   ]
  },
  {
   "cell_type": "code",
   "execution_count": 38,
   "metadata": {},
   "outputs": [
    {
     "name": "stderr",
     "output_type": "stream",
     "text": [
      "F:\\Anaconda3\\lib\\site-packages\\pandas\\core\\generic.py:3855: SettingWithCopyWarning: \n",
      "A value is trying to be set on a copy of a slice from a DataFrame.\n",
      "Try using .loc[row_indexer,col_indexer] = value instead\n",
      "\n",
      "See the caveats in the documentation: http://pandas.pydata.org/pandas-docs/stable/indexing.html#indexing-view-versus-copy\n",
      "  regex=regex)\n"
     ]
    },
    {
     "data": {
      "text/html": [
       "<div>\n",
       "<style>\n",
       "    .dataframe thead tr:only-child th {\n",
       "        text-align: right;\n",
       "    }\n",
       "\n",
       "    .dataframe thead th {\n",
       "        text-align: left;\n",
       "    }\n",
       "\n",
       "    .dataframe tbody tr th {\n",
       "        vertical-align: top;\n",
       "    }\n",
       "</style>\n",
       "<table border=\"1\" class=\"dataframe\">\n",
       "  <thead>\n",
       "    <tr style=\"text-align: right;\">\n",
       "      <th></th>\n",
       "      <th>Age</th>\n",
       "      <th>Attrition</th>\n",
       "      <th>BusinessTravel</th>\n",
       "      <th>Department</th>\n",
       "      <th>DistanceFromHome</th>\n",
       "      <th>Education</th>\n",
       "      <th>EducationField</th>\n",
       "      <th>EnvironmentSatisfaction</th>\n",
       "      <th>Gender</th>\n",
       "      <th>HourlyRate</th>\n",
       "      <th>...</th>\n",
       "      <th>NumCompaniesWorked</th>\n",
       "      <th>OverTime</th>\n",
       "      <th>PercentSalaryHike</th>\n",
       "      <th>RelationshipSatisfaction</th>\n",
       "      <th>TotalWorkingYears</th>\n",
       "      <th>WorkLifeBalance</th>\n",
       "      <th>YearsAtCompany</th>\n",
       "      <th>YearsInCurrentRole</th>\n",
       "      <th>YearsSinceLastPromotion</th>\n",
       "      <th>YearsWithCurrManager</th>\n",
       "    </tr>\n",
       "  </thead>\n",
       "  <tbody>\n",
       "    <tr>\n",
       "      <th>0</th>\n",
       "      <td>41</td>\n",
       "      <td>1</td>\n",
       "      <td>Travel_Rarely</td>\n",
       "      <td>Sales</td>\n",
       "      <td>1</td>\n",
       "      <td>College</td>\n",
       "      <td>Life Sciences</td>\n",
       "      <td>Medium</td>\n",
       "      <td>Female</td>\n",
       "      <td>94</td>\n",
       "      <td>...</td>\n",
       "      <td>8</td>\n",
       "      <td>Yes</td>\n",
       "      <td>11</td>\n",
       "      <td>Low</td>\n",
       "      <td>8</td>\n",
       "      <td>Bad</td>\n",
       "      <td>6</td>\n",
       "      <td>4</td>\n",
       "      <td>0</td>\n",
       "      <td>5</td>\n",
       "    </tr>\n",
       "    <tr>\n",
       "      <th>1</th>\n",
       "      <td>49</td>\n",
       "      <td>0</td>\n",
       "      <td>Travel_Frequently</td>\n",
       "      <td>Research &amp; Development</td>\n",
       "      <td>8</td>\n",
       "      <td>Below College</td>\n",
       "      <td>Life Sciences</td>\n",
       "      <td>High</td>\n",
       "      <td>Male</td>\n",
       "      <td>61</td>\n",
       "      <td>...</td>\n",
       "      <td>1</td>\n",
       "      <td>No</td>\n",
       "      <td>23</td>\n",
       "      <td>Very High</td>\n",
       "      <td>10</td>\n",
       "      <td>Better</td>\n",
       "      <td>10</td>\n",
       "      <td>7</td>\n",
       "      <td>1</td>\n",
       "      <td>7</td>\n",
       "    </tr>\n",
       "    <tr>\n",
       "      <th>2</th>\n",
       "      <td>37</td>\n",
       "      <td>1</td>\n",
       "      <td>Travel_Rarely</td>\n",
       "      <td>Research &amp; Development</td>\n",
       "      <td>2</td>\n",
       "      <td>College</td>\n",
       "      <td>Other</td>\n",
       "      <td>Very High</td>\n",
       "      <td>Male</td>\n",
       "      <td>92</td>\n",
       "      <td>...</td>\n",
       "      <td>6</td>\n",
       "      <td>Yes</td>\n",
       "      <td>15</td>\n",
       "      <td>Medium</td>\n",
       "      <td>7</td>\n",
       "      <td>Better</td>\n",
       "      <td>0</td>\n",
       "      <td>0</td>\n",
       "      <td>0</td>\n",
       "      <td>0</td>\n",
       "    </tr>\n",
       "    <tr>\n",
       "      <th>3</th>\n",
       "      <td>33</td>\n",
       "      <td>0</td>\n",
       "      <td>Travel_Frequently</td>\n",
       "      <td>Research &amp; Development</td>\n",
       "      <td>3</td>\n",
       "      <td>Master</td>\n",
       "      <td>Life Sciences</td>\n",
       "      <td>Very High</td>\n",
       "      <td>Female</td>\n",
       "      <td>56</td>\n",
       "      <td>...</td>\n",
       "      <td>1</td>\n",
       "      <td>Yes</td>\n",
       "      <td>11</td>\n",
       "      <td>High</td>\n",
       "      <td>8</td>\n",
       "      <td>Better</td>\n",
       "      <td>8</td>\n",
       "      <td>7</td>\n",
       "      <td>3</td>\n",
       "      <td>0</td>\n",
       "    </tr>\n",
       "    <tr>\n",
       "      <th>4</th>\n",
       "      <td>27</td>\n",
       "      <td>0</td>\n",
       "      <td>Travel_Rarely</td>\n",
       "      <td>Research &amp; Development</td>\n",
       "      <td>2</td>\n",
       "      <td>Below College</td>\n",
       "      <td>Medical</td>\n",
       "      <td>Low</td>\n",
       "      <td>Male</td>\n",
       "      <td>40</td>\n",
       "      <td>...</td>\n",
       "      <td>9</td>\n",
       "      <td>No</td>\n",
       "      <td>12</td>\n",
       "      <td>Very High</td>\n",
       "      <td>6</td>\n",
       "      <td>Better</td>\n",
       "      <td>2</td>\n",
       "      <td>2</td>\n",
       "      <td>2</td>\n",
       "      <td>2</td>\n",
       "    </tr>\n",
       "  </tbody>\n",
       "</table>\n",
       "<p>5 rows × 25 columns</p>\n",
       "</div>"
      ],
      "text/plain": [
       "   Age  Attrition     BusinessTravel              Department  \\\n",
       "0   41          1      Travel_Rarely                   Sales   \n",
       "1   49          0  Travel_Frequently  Research & Development   \n",
       "2   37          1      Travel_Rarely  Research & Development   \n",
       "3   33          0  Travel_Frequently  Research & Development   \n",
       "4   27          0      Travel_Rarely  Research & Development   \n",
       "\n",
       "   DistanceFromHome      Education EducationField EnvironmentSatisfaction  \\\n",
       "0                 1        College  Life Sciences                  Medium   \n",
       "1                 8  Below College  Life Sciences                    High   \n",
       "2                 2        College          Other               Very High   \n",
       "3                 3         Master  Life Sciences               Very High   \n",
       "4                 2  Below College        Medical                     Low   \n",
       "\n",
       "   Gender  HourlyRate          ...          NumCompaniesWorked OverTime  \\\n",
       "0  Female          94          ...                           8      Yes   \n",
       "1    Male          61          ...                           1       No   \n",
       "2    Male          92          ...                           6      Yes   \n",
       "3  Female          56          ...                           1      Yes   \n",
       "4    Male          40          ...                           9       No   \n",
       "\n",
       "  PercentSalaryHike RelationshipSatisfaction  TotalWorkingYears  \\\n",
       "0                11                      Low                  8   \n",
       "1                23                Very High                 10   \n",
       "2                15                   Medium                  7   \n",
       "3                11                     High                  8   \n",
       "4                12                Very High                  6   \n",
       "\n",
       "   WorkLifeBalance YearsAtCompany  YearsInCurrentRole YearsSinceLastPromotion  \\\n",
       "0              Bad              6                   4                       0   \n",
       "1           Better             10                   7                       1   \n",
       "2           Better              0                   0                       0   \n",
       "3           Better              8                   7                       3   \n",
       "4           Better              2                   2                       2   \n",
       "\n",
       "   YearsWithCurrManager  \n",
       "0                     5  \n",
       "1                     7  \n",
       "2                     0  \n",
       "3                     0  \n",
       "4                     2  \n",
       "\n",
       "[5 rows x 25 columns]"
      ]
     },
     "execution_count": 38,
     "metadata": {},
     "output_type": "execute_result"
    }
   ],
   "source": [
    "# Replacing numeric categorical features data with categorical values\n",
    "\n",
    "grade = {\"Education\":{1: \"Below College\", 2:\"College\", 3:\"Bachelor\", 4:\"Master\", 5:\"Doctor\"},\n",
    "       \"EnvironmentSatisfaction\":{1: \"Low\", 2:\"Medium\", 3:\"High\", 4:\"Very High\"},\n",
    "       \"JobInvolvement\":{1:\"Low\", 2:\"Medium\", 3:\"High\", 4:\"Very High\"}, \n",
    "       \"JobSatisfaction\":{1:\"Low\", 2:\"Medium\", 3:\"High\", 4:\"Very High\"},  \n",
    "       \"RelationshipSatisfaction\":{1:\"Low\", 2:\"Medium\", 3:\"High\", 4:\"Very High\"},\n",
    "       \"WorkLifeBalance\":  {1: \"Bad\", 2:\"Good\", 3:\"Better\", 4:\"Best\"},\n",
    "      }\n",
    "df2.replace(grade, inplace=True)\n",
    "df2.head()"
   ]
  },
  {
   "cell_type": "code",
   "execution_count": 39,
   "metadata": {},
   "outputs": [
    {
     "data": {
      "text/html": [
       "<div>\n",
       "<style>\n",
       "    .dataframe thead tr:only-child th {\n",
       "        text-align: right;\n",
       "    }\n",
       "\n",
       "    .dataframe thead th {\n",
       "        text-align: left;\n",
       "    }\n",
       "\n",
       "    .dataframe tbody tr th {\n",
       "        vertical-align: top;\n",
       "    }\n",
       "</style>\n",
       "<table border=\"1\" class=\"dataframe\">\n",
       "  <thead>\n",
       "    <tr style=\"text-align: right;\">\n",
       "      <th></th>\n",
       "      <th>Age</th>\n",
       "      <th>Attrition</th>\n",
       "      <th>DistanceFromHome</th>\n",
       "      <th>HourlyRate</th>\n",
       "      <th>MonthlyIncome</th>\n",
       "      <th>NumCompaniesWorked</th>\n",
       "      <th>PercentSalaryHike</th>\n",
       "      <th>TotalWorkingYears</th>\n",
       "      <th>YearsAtCompany</th>\n",
       "      <th>YearsInCurrentRole</th>\n",
       "      <th>...</th>\n",
       "      <th>OverTime_No</th>\n",
       "      <th>OverTime_Yes</th>\n",
       "      <th>RelationshipSatisfaction_High</th>\n",
       "      <th>RelationshipSatisfaction_Low</th>\n",
       "      <th>RelationshipSatisfaction_Medium</th>\n",
       "      <th>RelationshipSatisfaction_Very High</th>\n",
       "      <th>WorkLifeBalance_Bad</th>\n",
       "      <th>WorkLifeBalance_Best</th>\n",
       "      <th>WorkLifeBalance_Better</th>\n",
       "      <th>WorkLifeBalance_Good</th>\n",
       "    </tr>\n",
       "  </thead>\n",
       "  <tbody>\n",
       "    <tr>\n",
       "      <th>0</th>\n",
       "      <td>41</td>\n",
       "      <td>1</td>\n",
       "      <td>1</td>\n",
       "      <td>94</td>\n",
       "      <td>5993</td>\n",
       "      <td>8</td>\n",
       "      <td>11</td>\n",
       "      <td>8</td>\n",
       "      <td>6</td>\n",
       "      <td>4</td>\n",
       "      <td>...</td>\n",
       "      <td>0</td>\n",
       "      <td>1</td>\n",
       "      <td>0</td>\n",
       "      <td>1</td>\n",
       "      <td>0</td>\n",
       "      <td>0</td>\n",
       "      <td>1</td>\n",
       "      <td>0</td>\n",
       "      <td>0</td>\n",
       "      <td>0</td>\n",
       "    </tr>\n",
       "    <tr>\n",
       "      <th>1</th>\n",
       "      <td>49</td>\n",
       "      <td>0</td>\n",
       "      <td>8</td>\n",
       "      <td>61</td>\n",
       "      <td>5130</td>\n",
       "      <td>1</td>\n",
       "      <td>23</td>\n",
       "      <td>10</td>\n",
       "      <td>10</td>\n",
       "      <td>7</td>\n",
       "      <td>...</td>\n",
       "      <td>1</td>\n",
       "      <td>0</td>\n",
       "      <td>0</td>\n",
       "      <td>0</td>\n",
       "      <td>0</td>\n",
       "      <td>1</td>\n",
       "      <td>0</td>\n",
       "      <td>0</td>\n",
       "      <td>1</td>\n",
       "      <td>0</td>\n",
       "    </tr>\n",
       "    <tr>\n",
       "      <th>2</th>\n",
       "      <td>37</td>\n",
       "      <td>1</td>\n",
       "      <td>2</td>\n",
       "      <td>92</td>\n",
       "      <td>2090</td>\n",
       "      <td>6</td>\n",
       "      <td>15</td>\n",
       "      <td>7</td>\n",
       "      <td>0</td>\n",
       "      <td>0</td>\n",
       "      <td>...</td>\n",
       "      <td>0</td>\n",
       "      <td>1</td>\n",
       "      <td>0</td>\n",
       "      <td>0</td>\n",
       "      <td>1</td>\n",
       "      <td>0</td>\n",
       "      <td>0</td>\n",
       "      <td>0</td>\n",
       "      <td>1</td>\n",
       "      <td>0</td>\n",
       "    </tr>\n",
       "    <tr>\n",
       "      <th>3</th>\n",
       "      <td>33</td>\n",
       "      <td>0</td>\n",
       "      <td>3</td>\n",
       "      <td>56</td>\n",
       "      <td>2909</td>\n",
       "      <td>1</td>\n",
       "      <td>11</td>\n",
       "      <td>8</td>\n",
       "      <td>8</td>\n",
       "      <td>7</td>\n",
       "      <td>...</td>\n",
       "      <td>0</td>\n",
       "      <td>1</td>\n",
       "      <td>1</td>\n",
       "      <td>0</td>\n",
       "      <td>0</td>\n",
       "      <td>0</td>\n",
       "      <td>0</td>\n",
       "      <td>0</td>\n",
       "      <td>1</td>\n",
       "      <td>0</td>\n",
       "    </tr>\n",
       "    <tr>\n",
       "      <th>4</th>\n",
       "      <td>27</td>\n",
       "      <td>0</td>\n",
       "      <td>2</td>\n",
       "      <td>40</td>\n",
       "      <td>3468</td>\n",
       "      <td>9</td>\n",
       "      <td>12</td>\n",
       "      <td>6</td>\n",
       "      <td>2</td>\n",
       "      <td>2</td>\n",
       "      <td>...</td>\n",
       "      <td>1</td>\n",
       "      <td>0</td>\n",
       "      <td>0</td>\n",
       "      <td>0</td>\n",
       "      <td>0</td>\n",
       "      <td>1</td>\n",
       "      <td>0</td>\n",
       "      <td>0</td>\n",
       "      <td>1</td>\n",
       "      <td>0</td>\n",
       "    </tr>\n",
       "  </tbody>\n",
       "</table>\n",
       "<p>5 rows × 65 columns</p>\n",
       "</div>"
      ],
      "text/plain": [
       "   Age  Attrition  DistanceFromHome  HourlyRate  MonthlyIncome  \\\n",
       "0   41          1                 1          94           5993   \n",
       "1   49          0                 8          61           5130   \n",
       "2   37          1                 2          92           2090   \n",
       "3   33          0                 3          56           2909   \n",
       "4   27          0                 2          40           3468   \n",
       "\n",
       "   NumCompaniesWorked  PercentSalaryHike  TotalWorkingYears  YearsAtCompany  \\\n",
       "0                   8                 11                  8               6   \n",
       "1                   1                 23                 10              10   \n",
       "2                   6                 15                  7               0   \n",
       "3                   1                 11                  8               8   \n",
       "4                   9                 12                  6               2   \n",
       "\n",
       "   YearsInCurrentRole          ...           OverTime_No  OverTime_Yes  \\\n",
       "0                   4          ...                     0             1   \n",
       "1                   7          ...                     1             0   \n",
       "2                   0          ...                     0             1   \n",
       "3                   7          ...                     0             1   \n",
       "4                   2          ...                     1             0   \n",
       "\n",
       "   RelationshipSatisfaction_High  RelationshipSatisfaction_Low  \\\n",
       "0                              0                             1   \n",
       "1                              0                             0   \n",
       "2                              0                             0   \n",
       "3                              1                             0   \n",
       "4                              0                             0   \n",
       "\n",
       "   RelationshipSatisfaction_Medium  RelationshipSatisfaction_Very High  \\\n",
       "0                                0                                   0   \n",
       "1                                0                                   1   \n",
       "2                                1                                   0   \n",
       "3                                0                                   0   \n",
       "4                                0                                   1   \n",
       "\n",
       "   WorkLifeBalance_Bad  WorkLifeBalance_Best  WorkLifeBalance_Better  \\\n",
       "0                    1                     0                       0   \n",
       "1                    0                     0                       1   \n",
       "2                    0                     0                       1   \n",
       "3                    0                     0                       1   \n",
       "4                    0                     0                       1   \n",
       "\n",
       "   WorkLifeBalance_Good  \n",
       "0                     0  \n",
       "1                     0  \n",
       "2                     0  \n",
       "3                     0  \n",
       "4                     0  \n",
       "\n",
       "[5 rows x 65 columns]"
      ]
     },
     "execution_count": 39,
     "metadata": {},
     "output_type": "execute_result"
    }
   ],
   "source": [
    "# Creating dummy variables on categorical data for easy interpretation\n",
    "\n",
    "final_data = pd.get_dummies(df2, columns =['BusinessTravel', 'Department', 'Education', 'EducationField', 'EnvironmentSatisfaction',\n",
    "                                     'Gender', 'JobInvolvement', 'JobRole', 'JobSatisfaction', 'MaritalStatus', 'OverTime', \n",
    "                                     'RelationshipSatisfaction', 'WorkLifeBalance'])\n",
    "final_data.head()"
   ]
  },
  {
   "cell_type": "markdown",
   "metadata": {},
   "source": [
    "### Final Data To Build My Model :"
   ]
  },
  {
   "cell_type": "code",
   "execution_count": 40,
   "metadata": {},
   "outputs": [
    {
     "data": {
      "text/html": [
       "<div>\n",
       "<style>\n",
       "    .dataframe thead tr:only-child th {\n",
       "        text-align: right;\n",
       "    }\n",
       "\n",
       "    .dataframe thead th {\n",
       "        text-align: left;\n",
       "    }\n",
       "\n",
       "    .dataframe tbody tr th {\n",
       "        vertical-align: top;\n",
       "    }\n",
       "</style>\n",
       "<table border=\"1\" class=\"dataframe\">\n",
       "  <thead>\n",
       "    <tr style=\"text-align: right;\">\n",
       "      <th></th>\n",
       "      <th>Attrition</th>\n",
       "      <th>Age</th>\n",
       "      <th>DistanceFromHome</th>\n",
       "      <th>HourlyRate</th>\n",
       "      <th>MonthlyIncome</th>\n",
       "      <th>NumCompaniesWorked</th>\n",
       "      <th>PercentSalaryHike</th>\n",
       "      <th>TotalWorkingYears</th>\n",
       "      <th>YearsAtCompany</th>\n",
       "      <th>YearsInCurrentRole</th>\n",
       "      <th>...</th>\n",
       "      <th>OverTime_No</th>\n",
       "      <th>OverTime_Yes</th>\n",
       "      <th>RelationshipSatisfaction_High</th>\n",
       "      <th>RelationshipSatisfaction_Low</th>\n",
       "      <th>RelationshipSatisfaction_Medium</th>\n",
       "      <th>RelationshipSatisfaction_Very High</th>\n",
       "      <th>WorkLifeBalance_Bad</th>\n",
       "      <th>WorkLifeBalance_Best</th>\n",
       "      <th>WorkLifeBalance_Better</th>\n",
       "      <th>WorkLifeBalance_Good</th>\n",
       "    </tr>\n",
       "  </thead>\n",
       "  <tbody>\n",
       "    <tr>\n",
       "      <th>0</th>\n",
       "      <td>1</td>\n",
       "      <td>41</td>\n",
       "      <td>1</td>\n",
       "      <td>94</td>\n",
       "      <td>5993</td>\n",
       "      <td>8</td>\n",
       "      <td>11</td>\n",
       "      <td>8</td>\n",
       "      <td>6</td>\n",
       "      <td>4</td>\n",
       "      <td>...</td>\n",
       "      <td>0</td>\n",
       "      <td>1</td>\n",
       "      <td>0</td>\n",
       "      <td>1</td>\n",
       "      <td>0</td>\n",
       "      <td>0</td>\n",
       "      <td>1</td>\n",
       "      <td>0</td>\n",
       "      <td>0</td>\n",
       "      <td>0</td>\n",
       "    </tr>\n",
       "    <tr>\n",
       "      <th>1</th>\n",
       "      <td>0</td>\n",
       "      <td>49</td>\n",
       "      <td>8</td>\n",
       "      <td>61</td>\n",
       "      <td>5130</td>\n",
       "      <td>1</td>\n",
       "      <td>23</td>\n",
       "      <td>10</td>\n",
       "      <td>10</td>\n",
       "      <td>7</td>\n",
       "      <td>...</td>\n",
       "      <td>1</td>\n",
       "      <td>0</td>\n",
       "      <td>0</td>\n",
       "      <td>0</td>\n",
       "      <td>0</td>\n",
       "      <td>1</td>\n",
       "      <td>0</td>\n",
       "      <td>0</td>\n",
       "      <td>1</td>\n",
       "      <td>0</td>\n",
       "    </tr>\n",
       "    <tr>\n",
       "      <th>2</th>\n",
       "      <td>1</td>\n",
       "      <td>37</td>\n",
       "      <td>2</td>\n",
       "      <td>92</td>\n",
       "      <td>2090</td>\n",
       "      <td>6</td>\n",
       "      <td>15</td>\n",
       "      <td>7</td>\n",
       "      <td>0</td>\n",
       "      <td>0</td>\n",
       "      <td>...</td>\n",
       "      <td>0</td>\n",
       "      <td>1</td>\n",
       "      <td>0</td>\n",
       "      <td>0</td>\n",
       "      <td>1</td>\n",
       "      <td>0</td>\n",
       "      <td>0</td>\n",
       "      <td>0</td>\n",
       "      <td>1</td>\n",
       "      <td>0</td>\n",
       "    </tr>\n",
       "    <tr>\n",
       "      <th>3</th>\n",
       "      <td>0</td>\n",
       "      <td>33</td>\n",
       "      <td>3</td>\n",
       "      <td>56</td>\n",
       "      <td>2909</td>\n",
       "      <td>1</td>\n",
       "      <td>11</td>\n",
       "      <td>8</td>\n",
       "      <td>8</td>\n",
       "      <td>7</td>\n",
       "      <td>...</td>\n",
       "      <td>0</td>\n",
       "      <td>1</td>\n",
       "      <td>1</td>\n",
       "      <td>0</td>\n",
       "      <td>0</td>\n",
       "      <td>0</td>\n",
       "      <td>0</td>\n",
       "      <td>0</td>\n",
       "      <td>1</td>\n",
       "      <td>0</td>\n",
       "    </tr>\n",
       "    <tr>\n",
       "      <th>4</th>\n",
       "      <td>0</td>\n",
       "      <td>27</td>\n",
       "      <td>2</td>\n",
       "      <td>40</td>\n",
       "      <td>3468</td>\n",
       "      <td>9</td>\n",
       "      <td>12</td>\n",
       "      <td>6</td>\n",
       "      <td>2</td>\n",
       "      <td>2</td>\n",
       "      <td>...</td>\n",
       "      <td>1</td>\n",
       "      <td>0</td>\n",
       "      <td>0</td>\n",
       "      <td>0</td>\n",
       "      <td>0</td>\n",
       "      <td>1</td>\n",
       "      <td>0</td>\n",
       "      <td>0</td>\n",
       "      <td>1</td>\n",
       "      <td>0</td>\n",
       "    </tr>\n",
       "  </tbody>\n",
       "</table>\n",
       "<p>5 rows × 65 columns</p>\n",
       "</div>"
      ],
      "text/plain": [
       "   Attrition  Age  DistanceFromHome  HourlyRate  MonthlyIncome  \\\n",
       "0          1   41                 1          94           5993   \n",
       "1          0   49                 8          61           5130   \n",
       "2          1   37                 2          92           2090   \n",
       "3          0   33                 3          56           2909   \n",
       "4          0   27                 2          40           3468   \n",
       "\n",
       "   NumCompaniesWorked  PercentSalaryHike  TotalWorkingYears  YearsAtCompany  \\\n",
       "0                   8                 11                  8               6   \n",
       "1                   1                 23                 10              10   \n",
       "2                   6                 15                  7               0   \n",
       "3                   1                 11                  8               8   \n",
       "4                   9                 12                  6               2   \n",
       "\n",
       "   YearsInCurrentRole          ...           OverTime_No  OverTime_Yes  \\\n",
       "0                   4          ...                     0             1   \n",
       "1                   7          ...                     1             0   \n",
       "2                   0          ...                     0             1   \n",
       "3                   7          ...                     0             1   \n",
       "4                   2          ...                     1             0   \n",
       "\n",
       "   RelationshipSatisfaction_High  RelationshipSatisfaction_Low  \\\n",
       "0                              0                             1   \n",
       "1                              0                             0   \n",
       "2                              0                             0   \n",
       "3                              1                             0   \n",
       "4                              0                             0   \n",
       "\n",
       "   RelationshipSatisfaction_Medium  RelationshipSatisfaction_Very High  \\\n",
       "0                                0                                   0   \n",
       "1                                0                                   1   \n",
       "2                                1                                   0   \n",
       "3                                0                                   0   \n",
       "4                                0                                   1   \n",
       "\n",
       "   WorkLifeBalance_Bad  WorkLifeBalance_Best  WorkLifeBalance_Better  \\\n",
       "0                    1                     0                       0   \n",
       "1                    0                     0                       1   \n",
       "2                    0                     0                       1   \n",
       "3                    0                     0                       1   \n",
       "4                    0                     0                       1   \n",
       "\n",
       "   WorkLifeBalance_Good  \n",
       "0                     0  \n",
       "1                     0  \n",
       "2                     0  \n",
       "3                     0  \n",
       "4                     0  \n",
       "\n",
       "[5 rows x 65 columns]"
      ]
     },
     "execution_count": 40,
     "metadata": {},
     "output_type": "execute_result"
    }
   ],
   "source": [
    "# Move the reponse variable \"Attrition\" to the front of the table\n",
    "\n",
    "front = final_data['Attrition']\n",
    "final_data.drop(labels=['Attrition'], axis=1, inplace = True)\n",
    "final_data.insert(0, 'Attrition', front)\n",
    "final_data.head()"
   ]
  },
  {
   "cell_type": "code",
   "execution_count": 41,
   "metadata": {},
   "outputs": [
    {
     "name": "stdout",
     "output_type": "stream",
     "text": [
      "X:  <class 'numpy.ndarray'> (1470, 64)\n"
     ]
    }
   ],
   "source": [
    "from sklearn.model_selection import train_test_split\n",
    "from sklearn.linear_model import LogisticRegression\n",
    "from sklearn.metrics import accuracy_score\n",
    "from sklearn.preprocessing import scale\n",
    "\n",
    "# Defining the first parameter \n",
    "\n",
    "X = final_data.iloc[:, 1:65].values\n",
    "print(\"X: \", type(X), X.shape)"
   ]
  },
  {
   "cell_type": "code",
   "execution_count": 42,
   "metadata": {},
   "outputs": [
    {
     "name": "stdout",
     "output_type": "stream",
     "text": [
      "y:  <class 'numpy.ndarray'> (1470,)\n"
     ]
    }
   ],
   "source": [
    "# Defining the second parameter \n",
    "\n",
    "y = final_data.iloc[:, 0].values\n",
    "print(\"y: \", type(y), y.shape)"
   ]
  },
  {
   "cell_type": "markdown",
   "metadata": {},
   "source": [
    "**Note:** All classification problems can be represented, as shown above, with a matrix X and a vector y."
   ]
  },
  {
   "cell_type": "code",
   "execution_count": 44,
   "metadata": {},
   "outputs": [
    {
     "data": {
      "text/plain": [
       "0    1233\n",
       "1     237\n",
       "Name: Attrition, dtype: int64"
      ]
     },
     "execution_count": 44,
     "metadata": {},
     "output_type": "execute_result"
    }
   ],
   "source": [
    "final_data['Attrition'].value_counts()"
   ]
  },
  {
   "cell_type": "markdown",
   "metadata": {},
   "source": [
    "## Training and Test Datasets\n",
    "When fitting models, we would like to ensure two things:\n",
    "\n",
    "* We have found the best model (in terms of model parameters).\n",
    "* The model is highly likely to generalize i.e. perform well on unseen data."
   ]
  },
  {
   "cell_type": "markdown",
   "metadata": {},
   "source": [
    "I will try first by building logistic regression base line model using 'L1' and 'L2' regularization by :\n",
    "* Splitting the data into a training and test (hold-out) set\n",
    "* Train on the training set, and test for accuracy on the testing set"
   ]
  },
  {
   "cell_type": "markdown",
   "metadata": {},
   "source": [
    "### Logistic Regression Base Line Model using 'L2' regularization"
   ]
  },
  {
   "cell_type": "code",
   "execution_count": 47,
   "metadata": {},
   "outputs": [
    {
     "data": {
      "text/plain": [
       "LogisticRegression(C=1.0, class_weight=None, dual=False, fit_intercept=True,\n",
       "          intercept_scaling=1, max_iter=100, multi_class='ovr', n_jobs=1,\n",
       "          penalty='l2', random_state=None, solver='liblinear', tol=0.0001,\n",
       "          verbose=0, warm_start=False)"
      ]
     },
     "execution_count": 47,
     "metadata": {},
     "output_type": "execute_result"
    }
   ],
   "source": [
    "# Split the data into training and test sets\n",
    "# Stratify parameter makes a split so that proportion of values in the sample produced will be same as proportion of values\n",
    "# provided to parameter stratify.\n",
    "X_train, X_test, y_train, y_test = train_test_split(X, y, random_state=50, stratify=y)\n",
    "\n",
    "# Build the Logistic Regression Model using default 'L2' regularization\n",
    "\n",
    "classifier = LogisticRegression()\n",
    "\n",
    "# Fit the model on the trainng data.\n",
    "classifier.fit(X_train, y_train)"
   ]
  },
  {
   "cell_type": "code",
   "execution_count": 48,
   "metadata": {},
   "outputs": [
    {
     "name": "stdout",
     "output_type": "stream",
     "text": [
      "\n",
      "\n",
      "[Test] Accuracy score: 0.872282608696\n",
      "\n",
      "\n",
      "[Training] Accuracy score: 0.895644283122\n"
     ]
    }
   ],
   "source": [
    "# Print the accuracy from the testing data.\n",
    "y_predict_test = classifier.predict(X_test)\n",
    "print(\"\\n\")\n",
    "print(\"[Test] Accuracy score:\" ,accuracy_score(y_predict_test, y_test))\n",
    "\n",
    "# Print the accuracy from the training data.\n",
    "y_predict_train = classifier.predict(X_train)\n",
    "print(\"\\n\")\n",
    "print(\"[Training] Accuracy score:\" ,accuracy_score(y_predict_train, y_train))"
   ]
  },
  {
   "cell_type": "code",
   "execution_count": 49,
   "metadata": {},
   "outputs": [
    {
     "name": "stdout",
     "output_type": "stream",
     "text": [
      "[Training Classification Report:]\n",
      "             precision    recall  f1-score   support\n",
      "\n",
      "          0       0.90      0.98      0.94       924\n",
      "          1       0.82      0.46      0.58       178\n",
      "\n",
      "avg / total       0.89      0.90      0.88      1102\n",
      "\n",
      "[Test Classification Report:]\n",
      "             precision    recall  f1-score   support\n",
      "\n",
      "          0       0.89      0.96      0.93       309\n",
      "          1       0.68      0.39      0.49        59\n",
      "\n",
      "avg / total       0.86      0.87      0.86       368\n",
      "\n"
     ]
    }
   ],
   "source": [
    "# Classification report using 'L2' regularization \n",
    "\n",
    "from sklearn.metrics import classification_report\n",
    "# ref: http://scikit-learn.org/stable/modules/generated/sklearn.metrics.classification_report.html#sklearn.metrics.classification_report\n",
    "\n",
    "print(\"[Training Classification Report:]\")\n",
    "print(classification_report(y_train, y_predict_train))\n",
    "\n",
    "print(\"[Test Classification Report:]\")\n",
    "print(classification_report(y_test, y_predict_test))"
   ]
  },
  {
   "cell_type": "markdown",
   "metadata": {},
   "source": [
    "### Logistic Regression Base Line Model using 'L1' regularization"
   ]
  },
  {
   "cell_type": "code",
   "execution_count": 50,
   "metadata": {},
   "outputs": [
    {
     "data": {
      "text/plain": [
       "LogisticRegression(C=1.0, class_weight=None, dual=False, fit_intercept=True,\n",
       "          intercept_scaling=1, max_iter=100, multi_class='ovr', n_jobs=1,\n",
       "          penalty='l1', random_state=None, solver='liblinear', tol=0.0001,\n",
       "          verbose=0, warm_start=False)"
      ]
     },
     "execution_count": 50,
     "metadata": {},
     "output_type": "execute_result"
    }
   ],
   "source": [
    "# Build the Logistic Regression Model using 'L1' regularization\n",
    "# ref: http://scikit-learn.org/stable/modules/generated/sklearn.linear_model.LogisticRegression.html\n",
    "\n",
    "classifier_1 = LogisticRegression(penalty = 'l1')\n",
    "\n",
    "# Fit the model on the trainng data.\n",
    "classifier_1.fit(X_train, y_train)"
   ]
  },
  {
   "cell_type": "code",
   "execution_count": 51,
   "metadata": {},
   "outputs": [
    {
     "name": "stdout",
     "output_type": "stream",
     "text": [
      "\n",
      "\n",
      "[Test] Accuracy score: 0.872282608696\n",
      "\n",
      "\n",
      "[Training] Accuracy score: 0.893829401089\n"
     ]
    }
   ],
   "source": [
    "# Checking the model's accuracy from the testing data.\n",
    "y_predict_test_1 = classifier_1.predict(X_test)\n",
    "print(\"\\n\")\n",
    "print(\"[Test] Accuracy score:\" ,accuracy_score(y_predict_test_1, y_test))\n",
    "\n",
    "# Checking the model's accuracy from the training data.\n",
    "y_predict_train_1 = classifier_1.predict(X_train)\n",
    "print(\"\\n\")\n",
    "print(\"[Training] Accuracy score:\" ,accuracy_score(y_predict_train_1, y_train))"
   ]
  },
  {
   "cell_type": "code",
   "execution_count": 52,
   "metadata": {},
   "outputs": [
    {
     "name": "stdout",
     "output_type": "stream",
     "text": [
      "[Training Classification Report:]\n",
      "             precision    recall  f1-score   support\n",
      "\n",
      "          0       0.90      0.98      0.94       924\n",
      "          1       0.82      0.44      0.57       178\n",
      "\n",
      "avg / total       0.89      0.89      0.88      1102\n",
      "\n",
      "[Test Classification Report:]\n",
      "             precision    recall  f1-score   support\n",
      "\n",
      "          0       0.89      0.96      0.93       309\n",
      "          1       0.68      0.39      0.49        59\n",
      "\n",
      "avg / total       0.86      0.87      0.86       368\n",
      "\n"
     ]
    }
   ],
   "source": [
    "# Classification report using 'L1' regularization \n",
    "\n",
    "from sklearn.metrics import classification_report\n",
    "# ref: http://scikit-learn.org/stable/modules/generated/sklearn.metrics.classification_report.html#sklearn.metrics.classification_report\n",
    "\n",
    "print(\"[Training Classification Report:]\")\n",
    "print(classification_report(y_train, y_predict_train_1))\n",
    "\n",
    "print(\"[Test Classification Report:]\")\n",
    "print(classification_report(y_test, y_predict_test_1))"
   ]
  },
  {
   "cell_type": "markdown",
   "metadata": {},
   "source": [
    "## Tuning the Model\n",
    "\n",
    "*In Logistic Regression, the most important parameter to tune is the *regularization parameter* `C`. For tuning the parameters of my  model, I will use **Grid Search** which is very important, because we need to make sure that our model is general and it works beyond our data sets. In other words it should ideally work on data it has never seen.*"
   ]
  },
  {
   "cell_type": "markdown",
   "metadata": {},
   "source": [
    "### Finding resulting model \"M\"  using best hyper-parameter and corresponding penalty"
   ]
  },
  {
   "cell_type": "markdown",
   "metadata": {},
   "source": [
    "*From the Logistic Regression Base Line Model using 'L1' and 'L2' regularization done earlier, we see in classification report that the performance metric using penalty 'L1' is more or less same of 'L2' but while comparing recall value we see that 'L2' is better as it has slightly higher recall value than 'L1' in training data classification report.*\n",
    "\n",
    "*So, we choose penalty 'L2' which is default one for Logistic Regression and further tune the model using best hyperparameter.*"
   ]
  },
  {
   "cell_type": "markdown",
   "metadata": {},
   "source": [
    "#### Best Hyperparameter Tuning using GridSearchCV in scikit-learn using 'L2' "
   ]
  },
  {
   "cell_type": "code",
   "execution_count": 54,
   "metadata": {},
   "outputs": [
    {
     "name": "stdout",
     "output_type": "stream",
     "text": [
      "{'C': [0.001, 0.1, 1, 10, 100]}\n"
     ]
    }
   ],
   "source": [
    "# Trying to estimate how this model will predict on unseen data by tuning the model\n",
    "\n",
    "from sklearn.grid_search import GridSearchCV\n",
    "Cs = [0.001, 0.1, 1, 10, 100]\n",
    "param_grid = dict(C=Cs)\n",
    "print(param_grid)"
   ]
  },
  {
   "cell_type": "code",
   "execution_count": 55,
   "metadata": {
    "collapsed": true
   },
   "outputs": [],
   "source": [
    "# instantiate the grid\n",
    "classifier_gcv = LogisticRegression()\n",
    "grid = GridSearchCV(classifier_gcv, param_grid, scoring='accuracy')"
   ]
  },
  {
   "cell_type": "code",
   "execution_count": 56,
   "metadata": {},
   "outputs": [
    {
     "data": {
      "text/plain": [
       "GridSearchCV(cv=None, error_score='raise',\n",
       "       estimator=LogisticRegression(C=1.0, class_weight=None, dual=False, fit_intercept=True,\n",
       "          intercept_scaling=1, max_iter=100, multi_class='ovr', n_jobs=1,\n",
       "          penalty='l2', random_state=None, solver='liblinear', tol=0.0001,\n",
       "          verbose=0, warm_start=False),\n",
       "       fit_params={}, iid=True, n_jobs=1,\n",
       "       param_grid={'C': [0.001, 0.1, 1, 10, 100]}, pre_dispatch='2*n_jobs',\n",
       "       refit=True, scoring='accuracy', verbose=0)"
      ]
     },
     "execution_count": 56,
     "metadata": {},
     "output_type": "execute_result"
    }
   ],
   "source": [
    "# Fit the model on the trainng data.\n",
    "grid.fit(X_train, y_train)"
   ]
  },
  {
   "cell_type": "code",
   "execution_count": 57,
   "metadata": {},
   "outputs": [
    {
     "data": {
      "text/plain": [
       "[mean: 0.83938, std: 0.00205, params: {'C': 0.001},\n",
       " mean: 0.86298, std: 0.01018, params: {'C': 0.1},\n",
       " mean: 0.86751, std: 0.00902, params: {'C': 1},\n",
       " mean: 0.86570, std: 0.00937, params: {'C': 10},\n",
       " mean: 0.86661, std: 0.01164, params: {'C': 100}]"
      ]
     },
     "execution_count": 57,
     "metadata": {},
     "output_type": "execute_result"
    }
   ],
   "source": [
    "grid.grid_scores_"
   ]
  },
  {
   "cell_type": "code",
   "execution_count": 58,
   "metadata": {},
   "outputs": [
    {
     "name": "stdout",
     "output_type": "stream",
     "text": [
      "0.867513611615245\n",
      "{'C': 1}\n",
      "LogisticRegression(C=1, class_weight=None, dual=False, fit_intercept=True,\n",
      "          intercept_scaling=1, max_iter=100, multi_class='ovr', n_jobs=1,\n",
      "          penalty='l2', random_state=None, solver='liblinear', tol=0.0001,\n",
      "          verbose=0, warm_start=False)\n"
     ]
    }
   ],
   "source": [
    "# examine the best model\n",
    "print(grid.best_score_)\n",
    "print(grid.best_params_)\n",
    "print(grid.best_estimator_)"
   ]
  },
  {
   "cell_type": "markdown",
   "metadata": {},
   "source": [
    "*After analyzing the performance of L1 and L2 regularization and applying best hyper-parameter found using GridSearch, we create **resulting model 'M'** which identify the best combination of **penalty = 'L2'** (default) and the value of **C = '1'**.*"
   ]
  },
  {
   "cell_type": "code",
   "execution_count": 59,
   "metadata": {},
   "outputs": [
    {
     "name": "stdout",
     "output_type": "stream",
     "text": [
      "0.872282608696\n"
     ]
    }
   ],
   "source": [
    "M = LogisticRegression(C=1)\n",
    "M.fit(X_train, y_train)\n",
    "print(accuracy_score(M.predict(X_test), y_test))"
   ]
  },
  {
   "cell_type": "code",
   "execution_count": 60,
   "metadata": {},
   "outputs": [
    {
     "name": "stdout",
     "output_type": "stream",
     "text": [
      "[Training Classification Report:]\n",
      "             precision    recall  f1-score   support\n",
      "\n",
      "          0       0.90      0.98      0.94       924\n",
      "          1       0.82      0.46      0.58       178\n",
      "\n",
      "avg / total       0.89      0.90      0.88      1102\n",
      "\n",
      "[Test Classification Report:]\n",
      "             precision    recall  f1-score   support\n",
      "\n",
      "          0       0.89      0.96      0.93       309\n",
      "          1       0.68      0.39      0.49        59\n",
      "\n",
      "avg / total       0.86      0.87      0.86       368\n",
      "\n"
     ]
    }
   ],
   "source": [
    "# Classification report using 'L2' regularization \n",
    "\n",
    "from sklearn.metrics import classification_report\n",
    "# ref: http://scikit-learn.org/stable/modules/generated/sklearn.metrics.classification_report.html#sklearn.metrics.classification_report\n",
    "\n",
    "print(\"[Training Classification Report:]\")\n",
    "print(classification_report(y_train, M.predict(X_train)))\n",
    "\n",
    "print(\"[Test Classification Report:]\")\n",
    "print(classification_report(y_test, M.predict(X_test)))"
   ]
  },
  {
   "cell_type": "markdown",
   "metadata": {},
   "source": [
    "## Trying Different Algorithms "
   ]
  },
  {
   "cell_type": "markdown",
   "metadata": {},
   "source": [
    "### 1. Using Random Forest Classifier"
   ]
  },
  {
   "cell_type": "code",
   "execution_count": 61,
   "metadata": {},
   "outputs": [
    {
     "name": "stdout",
     "output_type": "stream",
     "text": [
      "Random Forest Accuracy: 0.85\n"
     ]
    }
   ],
   "source": [
    "from sklearn.ensemble import RandomForestClassifier\n",
    "rf = RandomForestClassifier()\n",
    "rf.fit(X_train, y_train)\n",
    "# Print the accuracy from the testing data.\n",
    "print('Random Forest Accuracy: {:.2f}'.format(accuracy_score(y_test, rf.predict(X_test))))"
   ]
  },
  {
   "cell_type": "markdown",
   "metadata": {},
   "source": [
    "### 2. Using Decision Tree Classifier (CART)"
   ]
  },
  {
   "cell_type": "code",
   "execution_count": 62,
   "metadata": {},
   "outputs": [
    {
     "name": "stdout",
     "output_type": "stream",
     "text": [
      "Decision Tree Accuracy(CART): 0.80\n"
     ]
    }
   ],
   "source": [
    "from sklearn.tree import DecisionTreeClassifier\n",
    "dtree = DecisionTreeClassifier()\n",
    "dtree.fit(X_train, y_train)\n",
    "# Print the accuracy from the testing data.\n",
    "print('Decision Tree Accuracy(CART): {:.2f}'.format(accuracy_score(y_test, dtree.predict(X_test))))"
   ]
  },
  {
   "cell_type": "markdown",
   "metadata": {},
   "source": [
    "### 3. Using AdaBoost Classifier"
   ]
  },
  {
   "cell_type": "code",
   "execution_count": 63,
   "metadata": {},
   "outputs": [
    {
     "name": "stdout",
     "output_type": "stream",
     "text": [
      "AdaBoost Accuracy: 0.87\n"
     ]
    }
   ],
   "source": [
    "from sklearn.ensemble import AdaBoostClassifier\n",
    "ada = AdaBoostClassifier()\n",
    "ada.fit(X_train, y_train)\n",
    "# Print the accuracy from the testing data.\n",
    "print('AdaBoost Accuracy: {:.2f}'.format(accuracy_score(y_test, ada.predict(X_test))))"
   ]
  },
  {
   "cell_type": "markdown",
   "metadata": {},
   "source": [
    "#### Preparing Comparison Table Results using different Algorithms"
   ]
  },
  {
   "cell_type": "code",
   "execution_count": 64,
   "metadata": {},
   "outputs": [
    {
     "name": "stdout",
     "output_type": "stream",
     "text": [
      "All Results across Models on Test Dataset\n",
      "-------------------------------------------------------------------------------\n",
      "Name    Class     Precision             Recall                Fscore    Support\n",
      "LR   : Class 0 0.8922155688622755 0.9644012944983819 0.9269051321928461 309 \n",
      "LR   : Class 1 0.6764705882352942 0.3898305084745763 0.49462365591397844 59 \n",
      "\n",
      "\n",
      "ADA  : Class 0 0.9012345679012346 0.9449838187702265 0.9225908372827805 309 \n",
      "ADA  : Class 1 0.6136363636363636 0.4576271186440678 0.5242718446601942 59 \n",
      "\n",
      "\n",
      "DTREE: Class 0 0.8823529411764706 0.8737864077669902 0.8780487804878048 309 \n",
      "DTREE: Class 1 0.3709677419354839 0.3898305084745763 0.3801652892561984 59 \n",
      "\n",
      "\n",
      "RF   : Class 0 0.8571428571428571 0.9902912621359223 0.9189189189189189 309 \n",
      "RF   : Class 1 0.7272727272727273 0.13559322033898305 0.2285714285714286 59 \n",
      "\n",
      "\n"
     ]
    }
   ],
   "source": [
    "from sklearn.metrics import precision_recall_fscore_support as score\n",
    "\n",
    "print('All Results across Models on Test Dataset')\n",
    "print('-------------------------------------------------------------------------------')\n",
    "print('Name    Class     Precision             Recall                Fscore    Support')\n",
    "report = []\n",
    "report.append(('LR   ',M))\n",
    "report.append(('ADA  ',ada))\n",
    "report.append(('DTREE',dtree))\n",
    "report.append(('RF   ',rf))\n",
    "\n",
    "for name, model in report:\n",
    "    precision, recall, fscore, support = score(y_test, model.predict(X_test))\n",
    "    message = \"%s: %s %s %s %s %s \" % (name, 'Class 0', format(precision[0]), format(recall[0]), format(fscore[0]), format(support[0]))\n",
    "    message_1 = \"%s: %s %s %s %s %s \" % (name, 'Class 1', format(precision[1]), format(recall[1]), format(fscore[1]), format(support[1]))\n",
    "    print(message)\n",
    "    print(message_1)\n",
    "    print('\\n')"
   ]
  },
  {
   "cell_type": "markdown",
   "metadata": {},
   "source": [
    "## ROC Graph using Different Models"
   ]
  },
  {
   "cell_type": "code",
   "execution_count": 65,
   "metadata": {},
   "outputs": [
    {
     "data": {
      "image/png": "[encoded data removed]",
      "text/plain": [
       "<matplotlib.figure.Figure at 0x20d84805978>"
      ]
     },
     "metadata": {},
     "output_type": "display_data"
    }
   ],
   "source": [
    "from sklearn.metrics import roc_auc_score\n",
    "from sklearn.metrics import roc_curve\n",
    "\n",
    "logit_roc_auc = roc_auc_score(y_test, M.predict(X_test))\n",
    "fpr, tpr, thresholds = roc_curve(y_test, M.predict_proba(X_test)[:,1])\n",
    "\n",
    "rf_roc_auc = roc_auc_score(y_test, rf.predict(X_test))\n",
    "rf_fpr, rf_tpr, rf_thresholds = roc_curve(y_test, rf.predict_proba(X_test)[:,1])\n",
    "\n",
    "\n",
    "dtree_roc_auc = roc_auc_score(y_test, dtree.predict(X_test))\n",
    "dt_fpr, dt_tpr, dt_thresholds = roc_curve(y_test, dtree.predict_proba(X_test)[:,1])\n",
    "\n",
    "ada_roc_auc = roc_auc_score(y_test, ada.predict(X_test))\n",
    "ada_fpr, ada_tpr, ada_thresholds = roc_curve(y_test, ada.predict_proba(X_test)[:,1])\n",
    "\n",
    "\n",
    "plt.figure()\n",
    "plt.plot(fpr, tpr, label='Logistic Regression (area = %0.2f)' % logit_roc_auc)\n",
    "plt.plot(rf_fpr, rf_tpr, label='Random Forest (area = %0.2f)' % rf_roc_auc)\n",
    "plt.plot(dt_fpr, dt_tpr, label='Decision Tree (area = %0.2f)' % dtree_roc_auc)\n",
    "plt.plot(ada_fpr, ada_tpr, label='AdaBoost (area = %0.2f)' % ada_roc_auc)\n",
    "\n",
    "plt.plot([0, 1], [0, 1],'r--')\n",
    "plt.xlim([0.0, 1.0])\n",
    "plt.ylim([0.0, 1.05])\n",
    "plt.xlabel('False Positive Rate')\n",
    "plt.ylabel('True Positive Rate')\n",
    "plt.title('Receiver operating characteristic')\n",
    "plt.legend(loc=\"lower right\")\n",
    "plt.savefig('ROC')\n",
    "plt.show()"
   ]
  },
  {
   "cell_type": "markdown",
   "metadata": {},
   "source": [
    "*From the above ROC Graph, we see **AdaBoost Model** has highest area under curve value of 0.70 and it is closest to the top left corner which is one of the criteria for a good model. Next good model as per ROC curve is the Logistic Regression model.*"
   ]
  },
  {
   "cell_type": "markdown",
   "metadata": {},
   "source": [
    "#### Why recall score in classification report has been given more importance?"
   ]
  },
  {
   "cell_type": "code",
   "execution_count": 66,
   "metadata": {},
   "outputs": [
    {
     "name": "stdout",
     "output_type": "stream",
     "text": [
      "Recall Results across Models\n",
      "----------------------------\n",
      "LR   :                 0.389831 \n",
      "ADA  :                 0.457627 \n",
      "DTREE:                 0.389831 \n",
      "RF   :                 0.135593 \n"
     ]
    }
   ],
   "source": [
    "# Comparing Recall scores of different Models\n",
    "from sklearn.metrics import recall_score\n",
    "print('Recall Results across Models')\n",
    "print('----------------------------')\n",
    "report = []\n",
    "report.append(('LR   ',M))\n",
    "report.append(('ADA  ',ada))\n",
    "report.append(('DTREE',dtree))\n",
    "report.append(('RF   ',rf))\n",
    "\n",
    "for name, model in report:\n",
    "    message = \"%s:                 %f \" % (name, recall_score(y_test, model.predict(X_test)))\n",
    "    print (message)\n",
    "#print(recall_score(y_test, ada.predict(X_test)))"
   ]
  },
  {
   "cell_type": "markdown",
   "metadata": {},
   "source": [
    "*Based on the above results across different models, we see that the AdaBoost has the highest recall score.When an employee left the company, how often the model predict that correctly depends on the \"recall\" score.*\n",
    "\n",
    "*High recall score means when employees left the company, model predicted correctly most of the time.*\n",
    "\n",
    "**Note: A good recall score is important to avoid unpredicted loss of the employees in the company.**"
   ]
  },
  {
   "cell_type": "markdown",
   "metadata": {},
   "source": [
    "## Feature Importance\n",
    "\n",
    "Here, I am trying to compute the relative importance of each attribute by finding highest positive and negative coefficient by absolute value. These importance values can be further used to inform a feature selection process."
   ]
  },
  {
   "cell_type": "markdown",
   "metadata": {},
   "source": [
    "### Feature Importance using resulting logistic regression model 'M'"
   ]
  },
  {
   "cell_type": "code",
   "execution_count": 67,
   "metadata": {},
   "outputs": [
    {
     "name": "stdout",
     "output_type": "stream",
     "text": [
      "                                    Coefficient\n",
      "OverTime_Yes                           1.105801\n",
      "JobInvolvement_Low                     0.965035\n",
      "MaritalStatus_Single                   0.874477\n",
      "EnvironmentSatisfaction_Low            0.869302\n",
      "RelationshipSatisfaction_Low           0.850258\n",
      "JobSatisfaction_Low                    0.761273\n",
      "BusinessTravel_Travel_Frequently       0.669466\n",
      "JobRole_Sales Representative           0.650355\n",
      "WorkLifeBalance_Bad                    0.648171\n",
      "JobRole_Laboratory Technician          0.575997\n",
      "EducationField_Technical Degree        0.521560\n",
      "Education_Bachelor                     0.342879\n",
      "JobRole_Human Resources                0.320819\n",
      "EducationField_Marketing               0.302172\n",
      "Gender_Male                            0.296724\n",
      "EducationField_Human Resources         0.279759\n",
      "Department_Human Resources             0.268402\n",
      "Department_Sales                       0.222793\n",
      "NumCompaniesWorked                     0.194319\n",
      "YearsSinceLastPromotion                0.154059\n",
      "JobSatisfaction_High                   0.130657\n",
      "WorkLifeBalance_Good                   0.114052\n",
      "BusinessTravel_Travel_Rarely           0.101301\n",
      "JobInvolvement_Medium                  0.095263\n",
      "DistanceFromHome                       0.050782\n",
      "YearsAtCompany                         0.043137\n",
      "Education_College                      0.033602\n",
      "Education_Master                       0.024474\n",
      "HourlyRate                             0.003387\n",
      "MonthlyIncome                         -0.000049\n",
      "...                                         ...\n",
      "TotalWorkingYears                     -0.046968\n",
      "JobSatisfaction_Medium                -0.049474\n",
      "Age                                   -0.051411\n",
      "Education_Below College               -0.067336\n",
      "YearsWithCurrManager                  -0.090638\n",
      "YearsInCurrentRole                    -0.097716\n",
      "JobRole_Research Director             -0.127463\n",
      "EnvironmentSatisfaction_Medium        -0.151773\n",
      "Gender_Female                         -0.156111\n",
      "RelationshipSatisfaction_High         -0.157447\n",
      "Education_Doctor                      -0.193006\n",
      "MaritalStatus_Married                 -0.204409\n",
      "RelationshipSatisfaction_Very High    -0.238129\n",
      "EducationField_Other                  -0.257240\n",
      "EducationField_Life Sciences          -0.265846\n",
      "EnvironmentSatisfaction_High          -0.274514\n",
      "EnvironmentSatisfaction_Very High     -0.302402\n",
      "JobInvolvement_High                   -0.313536\n",
      "RelationshipSatisfaction_Medium       -0.314069\n",
      "Department_Research & Development     -0.350582\n",
      "JobRole_Research Scientist            -0.356283\n",
      "JobRole_Sales Executive               -0.412796\n",
      "EducationField_Medical                -0.439793\n",
      "JobRole_Healthcare Representative     -0.479865\n",
      "MaritalStatus_Divorced                -0.529455\n",
      "WorkLifeBalance_Better                -0.584350\n",
      "JobInvolvement_Very High              -0.606149\n",
      "BusinessTravel_Non-Travel             -0.630154\n",
      "JobSatisfaction_Very High             -0.701842\n",
      "OverTime_No                           -0.965188\n",
      "\n",
      "[64 rows x 1 columns]\n"
     ]
    }
   ],
   "source": [
    "# Using Scikit-Learn to find Coefficient with indices\n",
    "df_coefs = pd.DataFrame(M.coef_[0], index= final_data.iloc[:, 1:65].columns, columns=['Coefficient'])\n",
    "# Sorting Coefficient in descending order\n",
    "df_sorted = df_coefs.sort_values('Coefficient', ascending= False)\n",
    "print(df_sorted)"
   ]
  },
  {
   "cell_type": "code",
   "execution_count": 68,
   "metadata": {
    "collapsed": true
   },
   "outputs": [],
   "source": [
    "# Separate and sort the positive and negative ones coefficients by absolute value\n",
    "\n",
    "# Function for seperating positive and negative Coefficient\n",
    "# Ref: https://pandas.pydata.org/pandas-docs/stable/generated/pandas.Series.map.html \n",
    "\n",
    "def positive(value):\n",
    "    return max(value, 0)\n",
    "\n",
    "def negative(value):\n",
    "    return min(value, 0)\n",
    "# Map value of 'df_sorted' using input function 'positive'\n",
    "df_sorted['positive'] = df_sorted['Coefficient'].map(positive)\n",
    "# Map value of 'df_sorted' using input function 'negative'\n",
    "df_sorted['negative'] = df_sorted['Coefficient'].map(negative)\n",
    "# Get absolute value of negative coefficients \n",
    "df_sorted['negative_abs'] = df_sorted['negative'].abs()"
   ]
  },
  {
   "cell_type": "code",
   "execution_count": 69,
   "metadata": {},
   "outputs": [
    {
     "data": {
      "text/plain": [
       "OverTime_Yes                    1.105801\n",
       "JobInvolvement_Low              0.965035\n",
       "MaritalStatus_Single            0.874477\n",
       "EnvironmentSatisfaction_Low     0.869302\n",
       "RelationshipSatisfaction_Low    0.850258\n",
       "Name: positive, dtype: float64"
      ]
     },
     "execution_count": 69,
     "metadata": {},
     "output_type": "execute_result"
    }
   ],
   "source": [
    "# Top 5 positive coefficients\n",
    "df_positive_top_5 = df_sorted.nlargest(5,'positive')\n",
    "df_positive_top_5_filter = df_positive_top_5['positive']\n",
    "df_positive_top_5_filter"
   ]
  },
  {
   "cell_type": "code",
   "execution_count": 70,
   "metadata": {},
   "outputs": [
    {
     "data": {
      "text/plain": [
       "OverTime_No                  0.965188\n",
       "JobSatisfaction_Very High    0.701842\n",
       "BusinessTravel_Non-Travel    0.630154\n",
       "JobInvolvement_Very High     0.606149\n",
       "WorkLifeBalance_Better       0.584350\n",
       "Name: negative_abs, dtype: float64"
      ]
     },
     "execution_count": 70,
     "metadata": {},
     "output_type": "execute_result"
    }
   ],
   "source": [
    "# Top 5 negative coefficients\n",
    "df_negative_top_5 = df_sorted.nlargest(5,'negative_abs')\n",
    "df_negative_top_5_filter = df_negative_top_5['negative_abs']\n",
    "df_negative_top_5_filter"
   ]
  },
  {
   "cell_type": "markdown",
   "metadata": {},
   "source": [
    "*From the above feature importance analysis report, we see that features like OverTime_Yes, JobInvolvement_Low with the high positive coefficients (towards attrition) makes some sense and are somewhat correlated to the things which influence employees to leave the company in short duration of time.*\n",
    "\n",
    "*On the other hands, we also see that the features like OverTime_No, JobSatisfaction_Very High, JobInvolvement_Very High with high (absolute value) negative coefficients (towards non-attrition) makes sense too and are somewhat correlated to the things which influence employees to stay at the company for the longer duration of time.*\n",
    "\n",
    "#### *In short, we can say that model has good understandability.*\n",
    "\n",
    "#### Note:-  Feature Importance\n",
    "\n",
    "Ref: https://www.ncbi.nlm.nih.gov/pmc/articles/PMC3648438/\n",
    "        \n",
    "**Based on the referral, I decided to find feature importance on Imbalanced dataset before applying SMOTE as one says that \"Oversampling the minority class with SMOTE violates the independence assumption\".** \n",
    "\n",
    "**1.**The one with the negative coefficient having the highest absolute weighted value will contribute the most important    feature as belonging to class 0 (employees who have not left the company).\n",
    "\n",
    "**2.**The one with the positive coefficient having the highest absolute weighted value  will contribute the most important feature as belonging to class 1 (employees who have left the company)."
   ]
  },
  {
   "cell_type": "markdown",
   "metadata": {},
   "source": [
    "### Summary Report for Imbalanced Dataset :-"
   ]
  },
  {
   "cell_type": "markdown",
   "metadata": {},
   "source": [
    "*From the above work done, I can say that AdaBoost Classifier model with recall score of 0.46 is one of the best model among all. Also, the training performance is better than test performance which does indicate that model is neither over-fitting nor erroneous.*\n",
    "\n",
    "*Logistic Regression Model 'M' also has same accuracy but the AdaBoost Model has better area under curve and Recall score so I have considered AdaBoost Classifier as the best model for this imbalanced Dataset.* \n",
    "\n",
    "*However, Class 1 (minority class) recall and F1 score are not so good when compared to Class 0 (majority) recall and F1 score. This means that Class 0 (majority class) data has overinfluenced the model.*\n",
    "\n",
    "*So, to combat **Imbalanced Classes**, I am going to try **Synthetic Samples (SMOTE)** by randomly sampling the attributes from instances in the minority class.*"
   ]
  },
  {
   "cell_type": "markdown",
   "metadata": {},
   "source": [
    "## Generate synthetic samples using SMOTE (Synthetic Minority Over-sampling Technique)\n",
    "\n",
    "*Next I will use SMOTE(Synthetic Minority Over-sampling Technique) algorithm to combat **Imbalanced Classes** in my Machine Learning Dataset and test the model based on the modified data sample.*"
   ]
  },
  {
   "cell_type": "code",
   "execution_count": 71,
   "metadata": {},
   "outputs": [
    {
     "name": "stdout",
     "output_type": "stream",
     "text": [
      "Rebalanced Dataset Counter({0: 924, 1: 924})\n"
     ]
    }
   ],
   "source": [
    "# Count the number of occurrence of the list items\n",
    "\n",
    "from collections import Counter\n",
    "from imblearn.over_sampling import SMOTE\n",
    "sm = SMOTE()\n",
    "X_train_sm, y_train_sm = sm.fit_sample(X_train,y_train)\n",
    "print('Rebalanced Dataset {}'.format(Counter(y_train_sm)))"
   ]
  },
  {
   "cell_type": "markdown",
   "metadata": {},
   "source": [
    "### Logistic Regression on Balance Dataset using 'L2' regularization"
   ]
  },
  {
   "cell_type": "code",
   "execution_count": 72,
   "metadata": {},
   "outputs": [
    {
     "name": "stdout",
     "output_type": "stream",
     "text": [
      "[Train Classification Report:]\n",
      "             precision    recall  f1-score   support\n",
      "\n",
      "          0       0.83      0.81      0.82       924\n",
      "          1       0.81      0.83      0.82       924\n",
      "\n",
      "avg / total       0.82      0.82      0.82      1848\n",
      "\n",
      "[Test Classification Report:]\n",
      "             precision    recall  f1-score   support\n",
      "\n",
      "          0       0.95      0.79      0.86       309\n",
      "          1       0.41      0.76      0.53        59\n",
      "\n",
      "avg / total       0.86      0.78      0.81       368\n",
      "\n"
     ]
    }
   ],
   "source": [
    "# Logistic Regression on Balance Dataset\n",
    "classifier_sm = LogisticRegression()\n",
    "classifier_sm.fit(X_train_sm, y_train_sm)\n",
    "\n",
    "print(\"[Train Classification Report:]\")\n",
    "print(classification_report(y_train_sm, classifier_sm.predict(X_train_sm)))\n",
    "print(\"[Test Classification Report:]\")\n",
    "print(classification_report(y_test, classifier_sm.predict(X_test)))"
   ]
  },
  {
   "cell_type": "markdown",
   "metadata": {},
   "source": [
    "### Logistic Regression on Balance Dataset using 'L1' regularization"
   ]
  },
  {
   "cell_type": "code",
   "execution_count": 73,
   "metadata": {},
   "outputs": [
    {
     "name": "stdout",
     "output_type": "stream",
     "text": [
      "[Train Classification Report:]\n",
      "             precision    recall  f1-score   support\n",
      "\n",
      "          0       0.83      0.80      0.82       924\n",
      "          1       0.81      0.84      0.82       924\n",
      "\n",
      "avg / total       0.82      0.82      0.82      1848\n",
      "\n",
      "[Test Classification Report:]\n",
      "             precision    recall  f1-score   support\n",
      "\n",
      "          0       0.95      0.79      0.86       309\n",
      "          1       0.41      0.76      0.54        59\n",
      "\n",
      "avg / total       0.86      0.79      0.81       368\n",
      "\n"
     ]
    }
   ],
   "source": [
    "# Logistic Regression on Balance Dataset\n",
    "classifier_sm_1 = LogisticRegression(penalty = 'l1')\n",
    "classifier_sm_1.fit(X_train_sm, y_train_sm)\n",
    "\n",
    "print(\"[Train Classification Report:]\")\n",
    "print(classification_report(y_train_sm, classifier_sm_1.predict(X_train_sm)))\n",
    "print(\"[Test Classification Report:]\")\n",
    "print(classification_report(y_test, classifier_sm_1.predict(X_test)))"
   ]
  },
  {
   "cell_type": "markdown",
   "metadata": {},
   "source": [
    "*From the above performance metric report, 'L1' regularization has better recall and overall precissn than 'L2' regularization.\n",
    "Now based on above score , I will apply hyper-parameter tuning using GridSearchCV on balanced dataset.*\n",
    "\n",
    "**Note:**\n",
    "\n",
    "As seen from above analysis report, Logistic Regression model uisng 'L2' regularization on balanced dataset shows better recall score than the model trained on imbalanced dataset.\n",
    "\n",
    "###  Finding resulting model \"M1\"  using best hyper-parameter and corresponding penalty\n",
    "\n",
    "*From the Logistic Regression Base Line Model using 'L1' and 'L2' regularization done earlier, we see in classification report that the performance metric using penalty 'L1' is more or less same of 'L2' but while comparing recall value we see that 'L1' is better as it has slightly higher recall value than 'L2' in training data classification report. So, we choose penalty 'L1' which for Logistic Regression and further tune the model using best hyperparameter.*\n",
    "\n",
    "**Best Hyperparameter Tuning using GridSearchCV in scikit-learn using 'L1'**"
   ]
  },
  {
   "cell_type": "code",
   "execution_count": 76,
   "metadata": {},
   "outputs": [
    {
     "name": "stdout",
     "output_type": "stream",
     "text": [
      "{'C': [0.001, 0.1, 1, 10, 100]}\n"
     ]
    },
    {
     "data": {
      "text/plain": [
       "GridSearchCV(cv=None, error_score='raise',\n",
       "       estimator=LogisticRegression(C=1.0, class_weight=None, dual=False, fit_intercept=True,\n",
       "          intercept_scaling=1, max_iter=100, multi_class='ovr', n_jobs=1,\n",
       "          penalty='l1', random_state=None, solver='liblinear', tol=0.0001,\n",
       "          verbose=0, warm_start=False),\n",
       "       fit_params={}, iid=True, n_jobs=1,\n",
       "       param_grid={'C': [0.001, 0.1, 1, 10, 100]}, pre_dispatch='2*n_jobs',\n",
       "       refit=True, scoring='accuracy', verbose=0)"
      ]
     },
     "execution_count": 76,
     "metadata": {},
     "output_type": "execute_result"
    }
   ],
   "source": [
    "# Trying to estimate how this model will predict on unseen data by tuning the model\n",
    "from sklearn.grid_search import GridSearchCV\n",
    "Cs = [0.001, 0.1, 1, 10, 100]\n",
    "param_grid = dict(C=Cs)\n",
    "print(param_grid)\n",
    "\n",
    "# instantiate the grid\n",
    "classifier_gcv = LogisticRegression(penalty = 'l1')\n",
    "grid_sm = GridSearchCV(classifier_gcv, param_grid, scoring='accuracy')\n",
    "\n",
    "# Fit the model on the trainng data using SMOTE\n",
    "grid_sm.fit(X_train_sm, y_train_sm)"
   ]
  },
  {
   "cell_type": "code",
   "execution_count": 77,
   "metadata": {},
   "outputs": [
    {
     "data": {
      "text/plain": [
       "[mean: 0.60552, std: 0.01613, params: {'C': 0.001},\n",
       " mean: 0.77760, std: 0.01692, params: {'C': 0.1},\n",
       " mean: 0.79816, std: 0.01657, params: {'C': 1},\n",
       " mean: 0.79924, std: 0.01203, params: {'C': 10},\n",
       " mean: 0.79978, std: 0.01063, params: {'C': 100}]"
      ]
     },
     "execution_count": 77,
     "metadata": {},
     "output_type": "execute_result"
    }
   ],
   "source": [
    "grid_sm.grid_scores_"
   ]
  },
  {
   "cell_type": "code",
   "execution_count": 78,
   "metadata": {},
   "outputs": [
    {
     "name": "stdout",
     "output_type": "stream",
     "text": [
      "0.7997835497835498\n",
      "{'C': 100}\n",
      "LogisticRegression(C=100, class_weight=None, dual=False, fit_intercept=True,\n",
      "          intercept_scaling=1, max_iter=100, multi_class='ovr', n_jobs=1,\n",
      "          penalty='l1', random_state=None, solver='liblinear', tol=0.0001,\n",
      "          verbose=0, warm_start=False)\n"
     ]
    }
   ],
   "source": [
    "# examine the best model\n",
    "print(grid_sm.best_score_)\n",
    "print(grid_sm.best_params_)\n",
    "print(grid_sm.best_estimator_)"
   ]
  },
  {
   "cell_type": "markdown",
   "metadata": {},
   "source": [
    "*After analyzing the performance of L1 and L2 regularization and applying best hyper-parameter found using GridSearch on balanced dataset using SMOTe, we create **resulting model 'M1'** which identify the best combination of **penalty = 'L1'** (default) and the value of **C = '10'**.*"
   ]
  },
  {
   "cell_type": "code",
   "execution_count": 79,
   "metadata": {},
   "outputs": [
    {
     "name": "stdout",
     "output_type": "stream",
     "text": [
      "[Training Classification Report:]\n",
      "             precision    recall  f1-score   support\n",
      "\n",
      "          0       0.83      0.81      0.82       924\n",
      "          1       0.81      0.83      0.82       924\n",
      "\n",
      "avg / total       0.82      0.82      0.82      1848\n",
      "\n",
      "[Test Classification Report:]\n",
      "             precision    recall  f1-score   support\n",
      "\n",
      "          0       0.95      0.80      0.86       309\n",
      "          1       0.42      0.76      0.54        59\n",
      "\n",
      "avg / total       0.86      0.79      0.81       368\n",
      "\n"
     ]
    }
   ],
   "source": [
    "M1 = LogisticRegression(penalty = 'l1', C=10)\n",
    "M1.fit(X_train_sm, y_train_sm)\n",
    "\n",
    "# Classification report using 'L1' regularization \n",
    "\n",
    "from sklearn.metrics import classification_report\n",
    "# ref: http://scikit-learn.org/stable/modules/generated/sklearn.metrics.classification_report.html#sklearn.metrics.classification_report\n",
    "\n",
    "print(\"[Training Classification Report:]\")\n",
    "print(classification_report(y_train_sm, M1.predict(X_train_sm)))\n",
    "\n",
    "print(\"[Test Classification Report:]\")\n",
    "print(classification_report(y_test, M1.predict(X_test)))"
   ]
  },
  {
   "cell_type": "markdown",
   "metadata": {},
   "source": [
    "## Trying Different Algorithms on Balanced Dataset using SMOTE \n",
    "\n",
    "#### 1. Using Random Forest Classifier\n",
    "#### 2. Using Decision Tree Classifier (CART)\n",
    "#### 3. Using AdaBoost Classifier"
   ]
  },
  {
   "cell_type": "code",
   "execution_count": 81,
   "metadata": {},
   "outputs": [
    {
     "name": "stdout",
     "output_type": "stream",
     "text": [
      "Random Forest Accuracy: 0.86\n",
      "Decision Tree Accuracy(CART): 0.79\n",
      "AdaBoost Accuracy: 0.85\n"
     ]
    }
   ],
   "source": [
    "from sklearn.ensemble import RandomForestClassifier\n",
    "rf_sm = RandomForestClassifier()\n",
    "rf_sm.fit(X_train_sm, y_train_sm)\n",
    "# Print the accuracy from the testing data.\n",
    "print('Random Forest Accuracy: {:.2f}'.format(accuracy_score(y_test, rf_sm.predict(X_test))))\n",
    "\n",
    "from sklearn.tree import DecisionTreeClassifier\n",
    "dtree_sm = DecisionTreeClassifier()\n",
    "dtree_sm.fit(X_train_sm, y_train_sm)\n",
    "# Print the accuracy from the testing data.\n",
    "print('Decision Tree Accuracy(CART): {:.2f}'.format(accuracy_score(y_test, dtree_sm.predict(X_test))))\n",
    "\n",
    "from sklearn.ensemble import AdaBoostClassifier\n",
    "ada_sm = AdaBoostClassifier()\n",
    "ada_sm.fit(X_train_sm, y_train_sm)\n",
    "# Print the accuracy from the testing data.\n",
    "print('AdaBoost Accuracy: {:.2f}'.format(accuracy_score(y_test, ada_sm.predict(X_test))))"
   ]
  },
  {
   "cell_type": "markdown",
   "metadata": {},
   "source": [
    "#### Preparing Comparison Table Results using different Algorithms using SMOTE\n"
   ]
  },
  {
   "cell_type": "code",
   "execution_count": 82,
   "metadata": {},
   "outputs": [
    {
     "name": "stdout",
     "output_type": "stream",
     "text": [
      "All Results across Models on Test Dataset using SMOTE\n",
      "-------------------------------------------------------------------------------\n",
      "Name    Class     Precision             Recall                Fscore    Support\n",
      "LR   : Class 0 0.9461538461538461 0.7961165048543689 0.8646748681898067 309 \n",
      "LR   : Class 1 0.4166666666666667 0.7627118644067796 0.5389221556886227 59 \n",
      "\n",
      "\n",
      "ADA  : Class 0 0.9044585987261147 0.919093851132686 0.9117174959871589 309 \n",
      "ADA  : Class 1 0.5370370370370371 0.4915254237288136 0.5132743362831859 59 \n",
      "\n",
      "\n",
      "DTREE: Class 0 0.8794788273615635 0.8737864077669902 0.8766233766233764 309 \n",
      "DTREE: Class 1 0.36065573770491804 0.3728813559322034 0.3666666666666667 59 \n",
      "\n",
      "\n",
      "RF   : Class 0 0.872093023255814 0.970873786407767 0.9188361408882082 309 \n",
      "RF   : Class 1 0.625 0.2542372881355932 0.3614457831325301 59 \n",
      "\n",
      "\n"
     ]
    }
   ],
   "source": [
    "from sklearn.metrics import precision_recall_fscore_support as score\n",
    "\n",
    "print('All Results across Models on Test Dataset using SMOTE')\n",
    "print('-------------------------------------------------------------------------------')\n",
    "print('Name    Class     Precision             Recall                Fscore    Support')\n",
    "report_sm = []\n",
    "report_sm.append(('LR   ',M1))\n",
    "report_sm.append(('ADA  ',ada_sm))\n",
    "report_sm.append(('DTREE',dtree_sm))\n",
    "report_sm.append(('RF   ',rf_sm))\n",
    "\n",
    "for name, model in report_sm:\n",
    "    precision, recall, fscore, support = score(y_test, model.predict(X_test))\n",
    "    message = \"%s: %s %s %s %s %s \" % (name, 'Class 0', format(precision[0]), format(recall[0]), format(fscore[0]), format(support[0]))\n",
    "    message_1 = \"%s: %s %s %s %s %s \" % (name, 'Class 1', format(precision[1]), format(recall[1]), format(fscore[1]), format(support[1]))\n",
    "    print(message)\n",
    "    print(message_1)\n",
    "    print('\\n')"
   ]
  },
  {
   "cell_type": "markdown",
   "metadata": {},
   "source": [
    "## ROC Graph using Different Models using SMOTE"
   ]
  },
  {
   "cell_type": "code",
   "execution_count": 84,
   "metadata": {},
   "outputs": [
    {
     "data": {
      "image/png": "[encoded data removed]",
      "text/plain": [
       "<matplotlib.figure.Figure at 0x20d8493b320>"
      ]
     },
     "metadata": {},
     "output_type": "display_data"
    }
   ],
   "source": [
    "from sklearn.metrics import roc_auc_score\n",
    "from sklearn.metrics import roc_curve\n",
    "\n",
    "logit_roc_auc = roc_auc_score(y_test, M1.predict(X_test))\n",
    "fpr, tpr, thresholds = roc_curve(y_test, M1.predict_proba(X_test)[:,1])\n",
    "\n",
    "rf_roc_auc = roc_auc_score(y_test, rf_sm.predict(X_test))\n",
    "rf_fpr, rf_tpr, rf_thresholds = roc_curve(y_test, rf_sm.predict_proba(X_test)[:,1])\n",
    "\n",
    "\n",
    "dtree_roc_auc = roc_auc_score(y_test, dtree_sm.predict(X_test))\n",
    "dt_fpr, dt_tpr, dt_thresholds = roc_curve(y_test, dtree_sm.predict_proba(X_test)[:,1])\n",
    "\n",
    "ada_roc_auc = roc_auc_score(y_test, ada_sm.predict(X_test))\n",
    "ada_fpr, ada_tpr, ada_thresholds = roc_curve(y_test, ada_sm.predict_proba(X_test)[:,1])\n",
    "\n",
    "\n",
    "plt.figure()\n",
    "plt.plot(fpr, tpr, label='Logistic Regression SM (area = %0.2f)' % logit_roc_auc)\n",
    "plt.plot(rf_fpr, rf_tpr, label='Random Forest SM (area = %0.2f)' % rf_roc_auc)\n",
    "plt.plot(dt_fpr, dt_tpr, label='Decision Tree SM (area = %0.2f)' % dtree_roc_auc)\n",
    "plt.plot(ada_fpr, ada_tpr, label='AdaBoost SM (area = %0.2f)' % ada_roc_auc)\n",
    "\n",
    "plt.plot([0, 1], [0, 1],'r--')\n",
    "plt.xlim([0.0, 1.0])\n",
    "plt.ylim([0.0, 1.05])\n",
    "plt.xlabel('False Positive Rate')\n",
    "plt.ylabel('True Positive Rate')\n",
    "plt.title('Receiver operating characteristic')\n",
    "plt.legend(loc=\"lower right\")\n",
    "plt.savefig('ROC')\n",
    "plt.show()"
   ]
  },
  {
   "cell_type": "markdown",
   "metadata": {},
   "source": [
    "*From the above ROC Graph, we see Logistic Regression Model has highest area under curve value of 0.76 using SMOTE and it is closest to the top left corner which is one of the criteria for a good model.*"
   ]
  },
  {
   "cell_type": "code",
   "execution_count": 85,
   "metadata": {},
   "outputs": [
    {
     "name": "stdout",
     "output_type": "stream",
     "text": [
      "Recall Results across Models on SMOTE train Dataset\n",
      "---------------------------------------------------\n",
      "LR   :                 0.762712 \n",
      "ADA  :                 0.491525 \n",
      "DTREE:                 0.372881 \n",
      "RF   :                 0.254237 \n"
     ]
    }
   ],
   "source": [
    "from sklearn.metrics import recall_score\n",
    "print('Recall Results across Models on SMOTE train Dataset')\n",
    "print('---------------------------------------------------')\n",
    "report_sm = []\n",
    "report_sm.append(('LR   ',M1))\n",
    "report_sm.append(('ADA  ',ada_sm))\n",
    "report_sm.append(('DTREE',dtree_sm))\n",
    "report_sm.append(('RF   ',rf_sm))\n",
    "\n",
    "for name, model in report_sm:\n",
    "    message = \"%s:                 %f \" % (name, recall_score(y_test, model.predict(X_test)))\n",
    "    print (message)\n",
    "#print(recall_score(y_test, ada.predict(X_test)))"
   ]
  },
  {
   "cell_type": "markdown",
   "metadata": {},
   "source": [
    "*Based on the above results across different models, we see that the Logistic Regression has the highest recall score. When an employee left the company, how often the model predict that correctly depends on the \"recall\" score.*\n",
    "\n",
    "*High recall score means when employees left the company, model predicted correctly most of the time.*\n",
    "\n",
    "**Note: A good recall score is important to avoid unpredicted loss of the employees in the company.**\n",
    "\n",
    "### Summary  Report for Balanced Dataset using SMOTE :-\n",
    "\n",
    "*From the above work done based on recall score, I see that best model (AdaBoost) for imbalanced dataset has changed to M1 (Logistic Regression) model with tuning parameter 'C=10'.*\n",
    "\n",
    "*AdaBoost Model which was the best model on **Imbalanced Dataset** is second best model as it has lower recall value when applied on **Balanced Dataset**.*"
   ]
  },
  {
   "cell_type": "markdown",
   "metadata": {
    "collapsed": true
   },
   "source": [
    "### Future work:\n",
    "\n",
    "- Tuning hyper-parameters for all other algorithms I used (except for Logistic Regression).\n",
    "\n",
    "- Apply other resampling techniques."
   ]
  },
  {
   "cell_type": "code",
   "execution_count": null,
   "metadata": {
    "collapsed": true
   },
   "outputs": [],
   "source": []
  }
 ],
 "metadata": {
  "kernelspec": {
   "display_name": "Python [conda root]",
   "language": "python",
   "name": "conda-root-py"
  },
  "language_info": {
   "codemirror_mode": {
    "name": "ipython",
    "version": 3
   },
   "file_extension": ".py",
   "mimetype": "text/x-python",
   "name": "python",
   "nbconvert_exporter": "python",
   "pygments_lexer": "ipython3",
   "version": "3.6.1"
  }
 },
 "nbformat": 4,
 "nbformat_minor": 2
}

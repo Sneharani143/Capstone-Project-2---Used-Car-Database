{
 "cells": [
  {
   "cell_type": "markdown",
   "metadata": {},
   "source": [
    "### Here is a short documentation on data storytelling part of my capstone project on \"*Used Car DataBase*\".\n",
    "\n",
    "I may come up with few interesting questions while doing analysis on my dataset. Before moving to those interesting questions and analysis, I just want to list the columns that this dataset contains. Dataset consists of 371528 rows and 20 columns [ dateCrawled, name, seller, offerType, price, abtest, vehicleType, yearOfRegistration, gearbox, powerPS, model, kilometer, monthOfRegistration, fuelType, brand, notRepairedDamage, dateCreated, nrOfPictures, postalCode, lastSeen ]."
   ]
  },
  {
   "cell_type": "code",
   "execution_count": 22,
   "metadata": {},
   "outputs": [
    {
     "name": "stdout",
     "output_type": "stream",
     "text": [
      "Populating the interactive namespace from numpy and matplotlib\n"
     ]
    },
    {
     "data": {
      "text/html": [
       "<div>\n",
       "<style>\n",
       "    .dataframe thead tr:only-child th {\n",
       "        text-align: right;\n",
       "    }\n",
       "\n",
       "    .dataframe thead th {\n",
       "        text-align: left;\n",
       "    }\n",
       "\n",
       "    .dataframe tbody tr th {\n",
       "        vertical-align: top;\n",
       "    }\n",
       "</style>\n",
       "<table border=\"1\" class=\"dataframe\">\n",
       "  <thead>\n",
       "    <tr style=\"text-align: right;\">\n",
       "      <th></th>\n",
       "      <th>dateCrawled</th>\n",
       "      <th>name</th>\n",
       "      <th>seller</th>\n",
       "      <th>offerType</th>\n",
       "      <th>price</th>\n",
       "      <th>abtest</th>\n",
       "      <th>vehicleType</th>\n",
       "      <th>yearOfRegistration</th>\n",
       "      <th>gearbox</th>\n",
       "      <th>powerPS</th>\n",
       "      <th>model</th>\n",
       "      <th>kilometer</th>\n",
       "      <th>monthOfRegistration</th>\n",
       "      <th>fuelType</th>\n",
       "      <th>brand</th>\n",
       "      <th>notRepairedDamage</th>\n",
       "      <th>dateCreated</th>\n",
       "      <th>nrOfPictures</th>\n",
       "      <th>postalCode</th>\n",
       "      <th>lastSeen</th>\n",
       "    </tr>\n",
       "  </thead>\n",
       "  <tbody>\n",
       "    <tr>\n",
       "      <th>0</th>\n",
       "      <td>2016-03-24 11:52:17</td>\n",
       "      <td>Golf_3_1.6</td>\n",
       "      <td>privat</td>\n",
       "      <td>Angebot</td>\n",
       "      <td>480</td>\n",
       "      <td>test</td>\n",
       "      <td>not-available</td>\n",
       "      <td>1993</td>\n",
       "      <td>manuell</td>\n",
       "      <td>0</td>\n",
       "      <td>golf</td>\n",
       "      <td>150.0</td>\n",
       "      <td>0</td>\n",
       "      <td>benzin</td>\n",
       "      <td>volkswagen</td>\n",
       "      <td>not-available</td>\n",
       "      <td>2016-03-24</td>\n",
       "      <td>0</td>\n",
       "      <td>70435</td>\n",
       "      <td>2016-04-07 03:16:57</td>\n",
       "    </tr>\n",
       "    <tr>\n",
       "      <th>1</th>\n",
       "      <td>2016-03-24 10:58:45</td>\n",
       "      <td>A5_Sportback_2.7_Tdi</td>\n",
       "      <td>privat</td>\n",
       "      <td>Angebot</td>\n",
       "      <td>18300</td>\n",
       "      <td>test</td>\n",
       "      <td>coupe</td>\n",
       "      <td>2011</td>\n",
       "      <td>manuell</td>\n",
       "      <td>190</td>\n",
       "      <td>not-available</td>\n",
       "      <td>125.0</td>\n",
       "      <td>5</td>\n",
       "      <td>diesel</td>\n",
       "      <td>audi</td>\n",
       "      <td>ja</td>\n",
       "      <td>2016-03-24</td>\n",
       "      <td>0</td>\n",
       "      <td>66954</td>\n",
       "      <td>2016-04-07 01:46:50</td>\n",
       "    </tr>\n",
       "    <tr>\n",
       "      <th>2</th>\n",
       "      <td>2016-03-14 12:52:21</td>\n",
       "      <td>Jeep_Grand_Cherokee_\"Overland\"</td>\n",
       "      <td>privat</td>\n",
       "      <td>Angebot</td>\n",
       "      <td>9800</td>\n",
       "      <td>test</td>\n",
       "      <td>suv</td>\n",
       "      <td>2004</td>\n",
       "      <td>automatik</td>\n",
       "      <td>163</td>\n",
       "      <td>grand</td>\n",
       "      <td>125.0</td>\n",
       "      <td>8</td>\n",
       "      <td>diesel</td>\n",
       "      <td>jeep</td>\n",
       "      <td>not-available</td>\n",
       "      <td>2016-03-14</td>\n",
       "      <td>0</td>\n",
       "      <td>90480</td>\n",
       "      <td>2016-04-05 12:47:46</td>\n",
       "    </tr>\n",
       "    <tr>\n",
       "      <th>3</th>\n",
       "      <td>2016-03-17 16:54:04</td>\n",
       "      <td>GOLF_4_1_4__3TÜRER</td>\n",
       "      <td>privat</td>\n",
       "      <td>Angebot</td>\n",
       "      <td>1500</td>\n",
       "      <td>test</td>\n",
       "      <td>kleinwagen</td>\n",
       "      <td>2001</td>\n",
       "      <td>manuell</td>\n",
       "      <td>75</td>\n",
       "      <td>golf</td>\n",
       "      <td>150.0</td>\n",
       "      <td>6</td>\n",
       "      <td>benzin</td>\n",
       "      <td>volkswagen</td>\n",
       "      <td>nein</td>\n",
       "      <td>2016-03-17</td>\n",
       "      <td>0</td>\n",
       "      <td>91074</td>\n",
       "      <td>2016-03-17 17:40:17</td>\n",
       "    </tr>\n",
       "    <tr>\n",
       "      <th>4</th>\n",
       "      <td>2016-03-31 17:25:20</td>\n",
       "      <td>Skoda_Fabia_1.4_TDI_PD_Classic</td>\n",
       "      <td>privat</td>\n",
       "      <td>Angebot</td>\n",
       "      <td>3600</td>\n",
       "      <td>test</td>\n",
       "      <td>kleinwagen</td>\n",
       "      <td>2008</td>\n",
       "      <td>manuell</td>\n",
       "      <td>69</td>\n",
       "      <td>fabia</td>\n",
       "      <td>90.0</td>\n",
       "      <td>7</td>\n",
       "      <td>diesel</td>\n",
       "      <td>skoda</td>\n",
       "      <td>nein</td>\n",
       "      <td>2016-03-31</td>\n",
       "      <td>0</td>\n",
       "      <td>60437</td>\n",
       "      <td>2016-04-06 10:17:21</td>\n",
       "    </tr>\n",
       "  </tbody>\n",
       "</table>\n",
       "</div>"
      ],
      "text/plain": [
       "           dateCrawled                            name  seller offerType  \\\n",
       "0  2016-03-24 11:52:17                      Golf_3_1.6  privat   Angebot   \n",
       "1  2016-03-24 10:58:45            A5_Sportback_2.7_Tdi  privat   Angebot   \n",
       "2  2016-03-14 12:52:21  Jeep_Grand_Cherokee_\"Overland\"  privat   Angebot   \n",
       "3  2016-03-17 16:54:04              GOLF_4_1_4__3TÜRER  privat   Angebot   \n",
       "4  2016-03-31 17:25:20  Skoda_Fabia_1.4_TDI_PD_Classic  privat   Angebot   \n",
       "\n",
       "   price abtest    vehicleType  yearOfRegistration    gearbox  powerPS  \\\n",
       "0    480   test  not-available                1993    manuell        0   \n",
       "1  18300   test          coupe                2011    manuell      190   \n",
       "2   9800   test            suv                2004  automatik      163   \n",
       "3   1500   test     kleinwagen                2001    manuell       75   \n",
       "4   3600   test     kleinwagen                2008    manuell       69   \n",
       "\n",
       "           model  kilometer  monthOfRegistration fuelType       brand  \\\n",
       "0           golf      150.0                    0   benzin  volkswagen   \n",
       "1  not-available      125.0                    5   diesel        audi   \n",
       "2          grand      125.0                    8   diesel        jeep   \n",
       "3           golf      150.0                    6   benzin  volkswagen   \n",
       "4          fabia       90.0                    7   diesel       skoda   \n",
       "\n",
       "  notRepairedDamage dateCreated  nrOfPictures  postalCode             lastSeen  \n",
       "0     not-available  2016-03-24             0       70435  2016-04-07 03:16:57  \n",
       "1                ja  2016-03-24             0       66954  2016-04-07 01:46:50  \n",
       "2     not-available  2016-03-14             0       90480  2016-04-05 12:47:46  \n",
       "3              nein  2016-03-17             0       91074  2016-03-17 17:40:17  \n",
       "4              nein  2016-03-31             0       60437  2016-04-06 10:17:21  "
      ]
     },
     "execution_count": 22,
     "metadata": {},
     "output_type": "execute_result"
    }
   ],
   "source": [
    "# Importing python packages\n",
    "%pylab inline\n",
    "import pandas as pd\n",
    "import numpy as np\n",
    "import matplotlib.pyplot as plt\n",
    "import seaborn as sns\n",
    "import scipy.stats as stats\n",
    "import csv\n",
    "\n",
    "sns.set_context(\"notebook\", font_scale=1.0, rc={\"lines.linewidth\": 2.5})\n",
    "\n",
    "#Importing and reading CSV file\n",
    "file_input = 'C:\\\\Users\\\\Sneha Rani\\\\autos.csv'\n",
    "df1 = pd.read_csv(file_input, encoding='latin-1', index_col=None)\n",
    "\n",
    "# Filling missing values\n",
    "df1['vehicleType'].fillna(value='not-available', inplace=True)\n",
    "df1['gearbox'].fillna(value='not-available', inplace=True)\n",
    "df1['model'].fillna(value='not-available', inplace=True)\n",
    "df1['fuelType'].fillna(value='not-available', inplace=True)\n",
    "df1['notRepairedDamage'].fillna(value='not-available', inplace=True)\n",
    "\n",
    "# Removing the timestamp from a datetime in datadrame\n",
    "df1['dateCreated'] = pd.to_datetime(df1['dateCreated'])\n",
    "\n",
    "      \n",
    "# scaled feature in a 'kilometer' column\n",
    "df1['kilometer'] = df1['kilometer']/1000\n",
    "\n",
    "\n",
    "# Removing records with 'zero' price value\n",
    "df2 = df1[df1['price']!=0].reset_index(drop = True)\n",
    "df2.head()"
   ]
  },
  {
   "cell_type": "code",
   "execution_count": 4,
   "metadata": {},
   "outputs": [
    {
     "data": {
      "text/plain": [
       "dateCrawled            274635\n",
       "name                   225034\n",
       "seller                      2\n",
       "offerType                   2\n",
       "price                    5596\n",
       "abtest                      2\n",
       "vehicleType                 9\n",
       "yearOfRegistration        145\n",
       "gearbox                     3\n",
       "powerPS                   785\n",
       "model                     252\n",
       "kilometer                  13\n",
       "monthOfRegistration        13\n",
       "fuelType                    8\n",
       "brand                      40\n",
       "notRepairedDamage           3\n",
       "dateCreated               114\n",
       "nrOfPictures                1\n",
       "postalCode               8146\n",
       "lastSeen               178250\n",
       "dtype: int64"
      ]
     },
     "execution_count": 4,
     "metadata": {},
     "output_type": "execute_result"
    }
   ],
   "source": [
    "# Count of unique values for each column\n",
    "df2.apply(lambda x: len(x.unique()))"
   ]
  },
  {
   "cell_type": "markdown",
   "metadata": {},
   "source": [
    "**dateCrawled (280500), name (233531), lastSeen (182806)** columns have too many unique values. Challenges with such data are that it will complicate learning model and resulted model may not generalize well on new data."
   ]
  },
  {
   "cell_type": "markdown",
   "metadata": {},
   "source": [
    "### Exploratory Data Analysis on some fields of 'Used Car Database'"
   ]
  },
  {
   "cell_type": "code",
   "execution_count": 5,
   "metadata": {},
   "outputs": [
    {
     "name": "stdout",
     "output_type": "stream",
     "text": [
      "privat        360747\n",
      "gewerblich         3\n",
      "Name: seller, dtype: int64\n"
     ]
    },
    {
     "data": {
      "image/png": "[encoded data removed]",
      "text/plain": [
       "<matplotlib.figure.Figure at 0x1f98ef81fd0>"
      ]
     },
     "metadata": {},
     "output_type": "display_data"
    }
   ],
   "source": [
    "# Plot graph of seller\n",
    "df2['seller'].value_counts().plot(kind='bar')\n",
    "\n",
    "# Total count of unique values\n",
    "print(df2['seller'].value_counts())"
   ]
  },
  {
   "cell_type": "markdown",
   "metadata": {
    "collapsed": true
   },
   "source": [
    "*From the above bar graph of **seller**, this column has 2 unique values and “gewerblich” value has only 3 records. This column has no distinguishing information for the model. So, this column can be dropped as it may not be an influencing feature for the model.*"
   ]
  },
  {
   "cell_type": "code",
   "execution_count": 6,
   "metadata": {},
   "outputs": [
    {
     "name": "stdout",
     "output_type": "stream",
     "text": [
      "Angebot    360744\n",
      "Gesuch          6\n",
      "Name: offerType, dtype: int64\n"
     ]
    },
    {
     "data": {
      "image/png": "[encoded data removed]",
      "text/plain": [
       "<matplotlib.figure.Figure at 0x1f9ec9ca898>"
      ]
     },
     "metadata": {},
     "output_type": "display_data"
    }
   ],
   "source": [
    "# Plot graph of offerType\n",
    "df2['offerType'].value_counts().plot(kind='bar')\n",
    "\n",
    "# Total count of unique values\n",
    "print(df2['offerType'].value_counts())"
   ]
  },
  {
   "cell_type": "markdown",
   "metadata": {},
   "source": [
    "*From the above bar graph of **offerType**, this column has 2 unique values and “gesuch” value has only 12 records which is insignificant when we think of this feature impacting the price of the car. So, this column can be dropped.*"
   ]
  },
  {
   "cell_type": "code",
   "execution_count": 7,
   "metadata": {},
   "outputs": [
    {
     "data": {
      "text/plain": [
       "<matplotlib.axes._subplots.AxesSubplot at 0x1f981e73748>"
      ]
     },
     "execution_count": 7,
     "metadata": {},
     "output_type": "execute_result"
    },
    {
     "data": {
      "image/png": "[encoded data removed]",
      "text/plain": [
       "<matplotlib.figure.Figure at 0x1f981e5b630>"
      ]
     },
     "metadata": {},
     "output_type": "display_data"
    }
   ],
   "source": [
    "# Plot graph of monthOfRegistration\n",
    "df2['monthOfRegistration'].value_counts().plot(kind='bar')"
   ]
  },
  {
   "cell_type": "markdown",
   "metadata": {},
   "source": [
    "**monthOfRegistration** column should have 12 unique values. However, based on bar graph it has 13 unique values which is not correct. Also, dataset has yearOfRegistration column. So, this column can be dropped."
   ]
  },
  {
   "cell_type": "code",
   "execution_count": 8,
   "metadata": {},
   "outputs": [
    {
     "data": {
      "text/plain": [
       "<matplotlib.axes._subplots.AxesSubplot at 0x1f981e5bcf8>"
      ]
     },
     "execution_count": 8,
     "metadata": {},
     "output_type": "execute_result"
    },
    {
     "data": {
      "image/png": "[encoded data removed]",
      "text/plain": [
       "<matplotlib.figure.Figure at 0x1f98d7d3f98>"
      ]
     },
     "metadata": {},
     "output_type": "display_data"
    }
   ],
   "source": [
    "# Plot graph of nrOfPictures\n",
    "df2['nrOfPictures'].hist()"
   ]
  },
  {
   "cell_type": "markdown",
   "metadata": {},
   "source": [
    "*Above histogram of **nrOfPictures** column says that this column has only one value and it has no meaning for model and visualization. This column can be dropped.*"
   ]
  },
  {
   "cell_type": "code",
   "execution_count": 9,
   "metadata": {},
   "outputs": [
    {
     "name": "stdout",
     "output_type": "stream",
     "text": [
      "test       186880\n",
      "control    173870\n",
      "Name: abtest, dtype: int64\n"
     ]
    },
    {
     "data": {
      "image/png": "[encoded data removed]",
      "text/plain": [
       "<matplotlib.figure.Figure at 0x1f981fda828>"
      ]
     },
     "metadata": {},
     "output_type": "display_data"
    }
   ],
   "source": [
    "# Plot graph of abtest\n",
    "df2['abtest'].value_counts().plot(kind='bar')\n",
    "\n",
    "# Total count of unique values\n",
    "print(df2['abtest'].value_counts())"
   ]
  },
  {
   "cell_type": "markdown",
   "metadata": {},
   "source": [
    "*From the above bar graph of **abtest**, this column has two values 'test' and 'control' which does not give any more information on how this feature is related to used car or pricing. It has no relevance for the analysis and can be dropped.*"
   ]
  },
  {
   "cell_type": "code",
   "execution_count": 21,
   "metadata": {},
   "outputs": [
    {
     "data": {
      "text/plain": [
       "114"
      ]
     },
     "execution_count": 21,
     "metadata": {},
     "output_type": "execute_result"
    },
    {
     "data": {
      "image/png": "[encoded data removed]",
      "text/plain": [
       "<matplotlib.figure.Figure at 0x1f9832a74a8>"
      ]
     },
     "metadata": {},
     "output_type": "display_data"
    }
   ],
   "source": [
    "# Plot graph of dateCreated\n",
    "plt.figure(figsize=(16,8))\n",
    "dateCreated_count = df2['dateCreated'].value_counts().plot(kind='bar')\n",
    "dC = dateCreated_count.set_xticklabels(dateCreated_count.get_xticklabels(), rotation=90)\n",
    "# Total count of unique values\n",
    "len(df2['dateCreated'].unique())"
   ]
  },
  {
   "cell_type": "markdown",
   "metadata": {},
   "source": [
    "***dateCreated*** *column has 114 unique values. This column has no distinguishing information for the model. So, this column can be dropped.*"
   ]
  },
  {
   "cell_type": "markdown",
   "metadata": {},
   "source": [
    "#### What is the average price of the car based on vehicleType ?"
   ]
  },
  {
   "cell_type": "code",
   "execution_count": 11,
   "metadata": {},
   "outputs": [
    {
     "name": "stdout",
     "output_type": "stream",
     "text": [
      "                       price\n",
      "vehicleType                 \n",
      "andere         720695.185737\n",
      "bus             10452.253687\n",
      "cabrio          15292.173537\n",
      "coupe           26703.163520\n",
      "kleinwagen       5826.302574\n",
      "kombi            7912.791616\n",
      "limousine       11359.258957\n",
      "not-available   22345.811762\n",
      "suv             13430.022687\n"
     ]
    }
   ],
   "source": [
    "avg_price= df2.pivot_table(values=[\"price\"], index=['vehicleType'], aggfunc=np.mean)\n",
    "print(avg_price)"
   ]
  },
  {
   "cell_type": "markdown",
   "metadata": {},
   "source": [
    "#### Can we find out the min, max and average price of the car of different brands ?"
   ]
  },
  {
   "cell_type": "code",
   "execution_count": 12,
   "metadata": {},
   "outputs": [
    {
     "data": {
      "text/html": [
       "<div>\n",
       "<style>\n",
       "    .dataframe thead tr:only-child th {\n",
       "        text-align: right;\n",
       "    }\n",
       "\n",
       "    .dataframe thead th {\n",
       "        text-align: left;\n",
       "    }\n",
       "\n",
       "    .dataframe tbody tr th {\n",
       "        vertical-align: top;\n",
       "    }\n",
       "</style>\n",
       "<table border=\"1\" class=\"dataframe\">\n",
       "  <thead>\n",
       "    <tr style=\"text-align: right;\">\n",
       "      <th></th>\n",
       "      <th>price_min</th>\n",
       "      <th>price_max</th>\n",
       "      <th>price_mean</th>\n",
       "    </tr>\n",
       "    <tr>\n",
       "      <th>brand</th>\n",
       "      <th></th>\n",
       "      <th></th>\n",
       "      <th></th>\n",
       "    </tr>\n",
       "  </thead>\n",
       "  <tbody>\n",
       "    <tr>\n",
       "      <th>alfa_romeo</th>\n",
       "      <td>1</td>\n",
       "      <td>74185296</td>\n",
       "      <td>36999.409713</td>\n",
       "    </tr>\n",
       "    <tr>\n",
       "      <th>audi</th>\n",
       "      <td>1</td>\n",
       "      <td>99999999</td>\n",
       "      <td>16306.013191</td>\n",
       "    </tr>\n",
       "    <tr>\n",
       "      <th>bmw</th>\n",
       "      <td>1</td>\n",
       "      <td>99999999</td>\n",
       "      <td>15263.303998</td>\n",
       "    </tr>\n",
       "    <tr>\n",
       "      <th>chevrolet</th>\n",
       "      <td>1</td>\n",
       "      <td>999999</td>\n",
       "      <td>7655.222841</td>\n",
       "    </tr>\n",
       "    <tr>\n",
       "      <th>chrysler</th>\n",
       "      <td>1</td>\n",
       "      <td>37500</td>\n",
       "      <td>4117.356264</td>\n",
       "    </tr>\n",
       "    <tr>\n",
       "      <th>citroen</th>\n",
       "      <td>1</td>\n",
       "      <td>27322222</td>\n",
       "      <td>9089.353743</td>\n",
       "    </tr>\n",
       "    <tr>\n",
       "      <th>dacia</th>\n",
       "      <td>1</td>\n",
       "      <td>19990</td>\n",
       "      <td>5905.268539</td>\n",
       "    </tr>\n",
       "    <tr>\n",
       "      <th>daewoo</th>\n",
       "      <td>1</td>\n",
       "      <td>4200</td>\n",
       "      <td>1034.998124</td>\n",
       "    </tr>\n",
       "    <tr>\n",
       "      <th>daihatsu</th>\n",
       "      <td>1</td>\n",
       "      <td>12850</td>\n",
       "      <td>1761.402581</td>\n",
       "    </tr>\n",
       "    <tr>\n",
       "      <th>fiat</th>\n",
       "      <td>1</td>\n",
       "      <td>12345678</td>\n",
       "      <td>5503.193059</td>\n",
       "    </tr>\n",
       "    <tr>\n",
       "      <th>ford</th>\n",
       "      <td>1</td>\n",
       "      <td>99999999</td>\n",
       "      <td>8708.254527</td>\n",
       "    </tr>\n",
       "    <tr>\n",
       "      <th>honda</th>\n",
       "      <td>1</td>\n",
       "      <td>48500</td>\n",
       "      <td>3946.573153</td>\n",
       "    </tr>\n",
       "    <tr>\n",
       "      <th>hyundai</th>\n",
       "      <td>1</td>\n",
       "      <td>35999</td>\n",
       "      <td>5496.463808</td>\n",
       "    </tr>\n",
       "    <tr>\n",
       "      <th>jaguar</th>\n",
       "      <td>1</td>\n",
       "      <td>466000</td>\n",
       "      <td>14508.440066</td>\n",
       "    </tr>\n",
       "    <tr>\n",
       "      <th>jeep</th>\n",
       "      <td>1</td>\n",
       "      <td>999999</td>\n",
       "      <td>12299.251269</td>\n",
       "    </tr>\n",
       "    <tr>\n",
       "      <th>kia</th>\n",
       "      <td>1</td>\n",
       "      <td>43900</td>\n",
       "      <td>5787.964357</td>\n",
       "    </tr>\n",
       "    <tr>\n",
       "      <th>lada</th>\n",
       "      <td>99</td>\n",
       "      <td>12390</td>\n",
       "      <td>3208.568075</td>\n",
       "    </tr>\n",
       "    <tr>\n",
       "      <th>lancia</th>\n",
       "      <td>1</td>\n",
       "      <td>64000</td>\n",
       "      <td>3260.053191</td>\n",
       "    </tr>\n",
       "    <tr>\n",
       "      <th>land_rover</th>\n",
       "      <td>25</td>\n",
       "      <td>120000</td>\n",
       "      <td>16949.698287</td>\n",
       "    </tr>\n",
       "    <tr>\n",
       "      <th>mazda</th>\n",
       "      <td>1</td>\n",
       "      <td>10000000</td>\n",
       "      <td>5834.022904</td>\n",
       "    </tr>\n",
       "    <tr>\n",
       "      <th>mercedes_benz</th>\n",
       "      <td>1</td>\n",
       "      <td>99999999</td>\n",
       "      <td>17586.740129</td>\n",
       "    </tr>\n",
       "    <tr>\n",
       "      <th>mini</th>\n",
       "      <td>1</td>\n",
       "      <td>45000</td>\n",
       "      <td>9954.957105</td>\n",
       "    </tr>\n",
       "    <tr>\n",
       "      <th>mitsubishi</th>\n",
       "      <td>1</td>\n",
       "      <td>130000</td>\n",
       "      <td>3378.758597</td>\n",
       "    </tr>\n",
       "    <tr>\n",
       "      <th>nissan</th>\n",
       "      <td>1</td>\n",
       "      <td>99999</td>\n",
       "      <td>4651.248623</td>\n",
       "    </tr>\n",
       "    <tr>\n",
       "      <th>opel</th>\n",
       "      <td>1</td>\n",
       "      <td>12345678</td>\n",
       "      <td>3340.199747</td>\n",
       "    </tr>\n",
       "    <tr>\n",
       "      <th>peugeot</th>\n",
       "      <td>1</td>\n",
       "      <td>31500</td>\n",
       "      <td>3230.555597</td>\n",
       "    </tr>\n",
       "    <tr>\n",
       "      <th>porsche</th>\n",
       "      <td>1</td>\n",
       "      <td>9999999</td>\n",
       "      <td>51649.490644</td>\n",
       "    </tr>\n",
       "    <tr>\n",
       "      <th>renault</th>\n",
       "      <td>1</td>\n",
       "      <td>110000</td>\n",
       "      <td>2406.442857</td>\n",
       "    </tr>\n",
       "    <tr>\n",
       "      <th>rover</th>\n",
       "      <td>1</td>\n",
       "      <td>28900</td>\n",
       "      <td>1585.688841</td>\n",
       "    </tr>\n",
       "    <tr>\n",
       "      <th>saab</th>\n",
       "      <td>1</td>\n",
       "      <td>29900</td>\n",
       "      <td>3901.005780</td>\n",
       "    </tr>\n",
       "    <tr>\n",
       "      <th>seat</th>\n",
       "      <td>1</td>\n",
       "      <td>154651</td>\n",
       "      <td>4477.170935</td>\n",
       "    </tr>\n",
       "    <tr>\n",
       "      <th>skoda</th>\n",
       "      <td>1</td>\n",
       "      <td>145000</td>\n",
       "      <td>6485.919297</td>\n",
       "    </tr>\n",
       "    <tr>\n",
       "      <th>smart</th>\n",
       "      <td>1</td>\n",
       "      <td>100000</td>\n",
       "      <td>3582.753962</td>\n",
       "    </tr>\n",
       "    <tr>\n",
       "      <th>sonstige_autos</th>\n",
       "      <td>1</td>\n",
       "      <td>2147483647</td>\n",
       "      <td>709553.933430</td>\n",
       "    </tr>\n",
       "    <tr>\n",
       "      <th>subaru</th>\n",
       "      <td>1</td>\n",
       "      <td>38333</td>\n",
       "      <td>4401.503989</td>\n",
       "    </tr>\n",
       "    <tr>\n",
       "      <th>suzuki</th>\n",
       "      <td>1</td>\n",
       "      <td>1000000</td>\n",
       "      <td>4467.637840</td>\n",
       "    </tr>\n",
       "    <tr>\n",
       "      <th>toyota</th>\n",
       "      <td>1</td>\n",
       "      <td>160000</td>\n",
       "      <td>5311.871107</td>\n",
       "    </tr>\n",
       "    <tr>\n",
       "      <th>trabant</th>\n",
       "      <td>1</td>\n",
       "      <td>11111111</td>\n",
       "      <td>24131.636000</td>\n",
       "    </tr>\n",
       "    <tr>\n",
       "      <th>volkswagen</th>\n",
       "      <td>1</td>\n",
       "      <td>99999999</td>\n",
       "      <td>15024.177650</td>\n",
       "    </tr>\n",
       "    <tr>\n",
       "      <th>volvo</th>\n",
       "      <td>1</td>\n",
       "      <td>12345678</td>\n",
       "      <td>9012.384995</td>\n",
       "    </tr>\n",
       "  </tbody>\n",
       "</table>\n",
       "</div>"
      ],
      "text/plain": [
       "                price_min   price_max     price_mean\n",
       "brand                                               \n",
       "alfa_romeo              1    74185296   36999.409713\n",
       "audi                    1    99999999   16306.013191\n",
       "bmw                     1    99999999   15263.303998\n",
       "chevrolet               1      999999    7655.222841\n",
       "chrysler                1       37500    4117.356264\n",
       "citroen                 1    27322222    9089.353743\n",
       "dacia                   1       19990    5905.268539\n",
       "daewoo                  1        4200    1034.998124\n",
       "daihatsu                1       12850    1761.402581\n",
       "fiat                    1    12345678    5503.193059\n",
       "ford                    1    99999999    8708.254527\n",
       "honda                   1       48500    3946.573153\n",
       "hyundai                 1       35999    5496.463808\n",
       "jaguar                  1      466000   14508.440066\n",
       "jeep                    1      999999   12299.251269\n",
       "kia                     1       43900    5787.964357\n",
       "lada                   99       12390    3208.568075\n",
       "lancia                  1       64000    3260.053191\n",
       "land_rover             25      120000   16949.698287\n",
       "mazda                   1    10000000    5834.022904\n",
       "mercedes_benz           1    99999999   17586.740129\n",
       "mini                    1       45000    9954.957105\n",
       "mitsubishi              1      130000    3378.758597\n",
       "nissan                  1       99999    4651.248623\n",
       "opel                    1    12345678    3340.199747\n",
       "peugeot                 1       31500    3230.555597\n",
       "porsche                 1     9999999   51649.490644\n",
       "renault                 1      110000    2406.442857\n",
       "rover                   1       28900    1585.688841\n",
       "saab                    1       29900    3901.005780\n",
       "seat                    1      154651    4477.170935\n",
       "skoda                   1      145000    6485.919297\n",
       "smart                   1      100000    3582.753962\n",
       "sonstige_autos          1  2147483647  709553.933430\n",
       "subaru                  1       38333    4401.503989\n",
       "suzuki                  1     1000000    4467.637840\n",
       "toyota                  1      160000    5311.871107\n",
       "trabant                 1    11111111   24131.636000\n",
       "volkswagen              1    99999999   15024.177650\n",
       "volvo                   1    12345678    9012.384995"
      ]
     },
     "execution_count": 12,
     "metadata": {},
     "output_type": "execute_result"
    }
   ],
   "source": [
    "group_brands = df2.groupby('brand').agg({\"price\": [min, max, mean]}) \n",
    "# Using ravel, and a string join, we can create better names for the columns:\n",
    "group_brands.columns = [\"_\".join(x) for x in group_brands.columns.ravel()]\n",
    "group_brands"
   ]
  },
  {
   "cell_type": "markdown",
   "metadata": {},
   "source": [
    "*As we see car prices vary from **1 to 99999999** and has varied average price. Prices as low as **1** and as high as **999999999** does not define well for the model. It needs to be cleaned further and we need to filter out the better price range data.* "
   ]
  },
  {
   "cell_type": "markdown",
   "metadata": {
    "collapsed": true
   },
   "source": [
    "#### How many cars are having invalid registration year ?"
   ]
  },
  {
   "cell_type": "code",
   "execution_count": 15,
   "metadata": {},
   "outputs": [
    {
     "name": "stdout",
     "output_type": "stream",
     "text": [
      "Number of listed cars with invalid registration year:  113\n"
     ]
    },
    {
     "data": {
      "text/html": [
       "<div>\n",
       "<style>\n",
       "    .dataframe thead tr:only-child th {\n",
       "        text-align: right;\n",
       "    }\n",
       "\n",
       "    .dataframe thead th {\n",
       "        text-align: left;\n",
       "    }\n",
       "\n",
       "    .dataframe tbody tr th {\n",
       "        vertical-align: top;\n",
       "    }\n",
       "</style>\n",
       "<table border=\"1\" class=\"dataframe\">\n",
       "  <thead>\n",
       "    <tr style=\"text-align: right;\">\n",
       "      <th></th>\n",
       "      <th>yearOfRegistration</th>\n",
       "      <th>brand</th>\n",
       "    </tr>\n",
       "  </thead>\n",
       "  <tbody>\n",
       "    <tr>\n",
       "      <th>0</th>\n",
       "      <td>1993</td>\n",
       "      <td>volkswagen</td>\n",
       "    </tr>\n",
       "    <tr>\n",
       "      <th>1</th>\n",
       "      <td>2011</td>\n",
       "      <td>audi</td>\n",
       "    </tr>\n",
       "    <tr>\n",
       "      <th>2</th>\n",
       "      <td>2004</td>\n",
       "      <td>jeep</td>\n",
       "    </tr>\n",
       "    <tr>\n",
       "      <th>3</th>\n",
       "      <td>2001</td>\n",
       "      <td>volkswagen</td>\n",
       "    </tr>\n",
       "    <tr>\n",
       "      <th>4</th>\n",
       "      <td>2008</td>\n",
       "      <td>skoda</td>\n",
       "    </tr>\n",
       "  </tbody>\n",
       "</table>\n",
       "</div>"
      ],
      "text/plain": [
       "   yearOfRegistration       brand\n",
       "0                1993  volkswagen\n",
       "1                2011        audi\n",
       "2                2004        jeep\n",
       "3                2001  volkswagen\n",
       "4                2008       skoda"
      ]
     },
     "execution_count": 15,
     "metadata": {},
     "output_type": "execute_result"
    }
   ],
   "source": [
    "invalid_reg_car = df2[(df2['yearOfRegistration']>2018)]\n",
    "print('Number of listed cars with invalid registration year: ', invalid_reg_car['brand'].count()) \n",
    "df2[['yearOfRegistration','brand']].head()"
   ]
  },
  {
   "cell_type": "markdown",
   "metadata": {},
   "source": [
    "#### Which is the most popular brand among used car in the market ?"
   ]
  },
  {
   "cell_type": "code",
   "execution_count": 16,
   "metadata": {},
   "outputs": [
    {
     "data": {
      "image/png": "[encoded data removed]",
      "text/plain": [
       "<matplotlib.figure.Figure at 0x1f982f81a90>"
      ]
     },
     "metadata": {},
     "output_type": "display_data"
    }
   ],
   "source": [
    "plt.figure(figsize=(16,8))\n",
    "plt.title('BRANDS DISTRIBUTION')\n",
    "# Order categories by count\n",
    "brand_count = sns.countplot(x = 'brand',\n",
    "              data = df2,\n",
    "              order = df2['brand'].value_counts().index)\n",
    "brand = brand_count.set_xticklabels(brand_count.get_xticklabels(), rotation=90)"
   ]
  },
  {
   "cell_type": "markdown",
   "metadata": {},
   "source": [
    "*Based on the above visualization, this column has 40 different brands having consistent records which can be useful for the model. **Volkswagen** is the most popular one and **BMW** is the next popular brand to be considered among all.*"
   ]
  },
  {
   "cell_type": "markdown",
   "metadata": {},
   "source": [
    "#### What is the average price of Volkswagen ? How many cars of 'Volkswagen' brand are on sale ? "
   ]
  },
  {
   "cell_type": "code",
   "execution_count": 17,
   "metadata": {},
   "outputs": [
    {
     "name": "stdout",
     "output_type": "stream",
     "text": [
      "Number of Volkswagen cars on sale is: 77039 and the mean price is 15024 Euros.\n"
     ]
    }
   ],
   "source": [
    "volkswagen_cars = df2[df2.brand =='volkswagen']\n",
    "print('Number of Volkswagen cars on sale is:',len(volkswagen_cars),'and the mean price is',\n",
    "       int(np.mean(volkswagen_cars.price)), 'Euros.')"
   ]
  },
  {
   "cell_type": "markdown",
   "metadata": {},
   "source": [
    "#### Which is the most running model in Volkswagen ? "
   ]
  },
  {
   "cell_type": "code",
   "execution_count": 18,
   "metadata": {},
   "outputs": [
    {
     "data": {
      "image/png": "[encoded data removed]",
      "text/plain": [
       "<matplotlib.figure.Figure at 0x1f983a7add8>"
      ]
     },
     "metadata": {},
     "output_type": "display_data"
    }
   ],
   "source": [
    "plt.figure(figsize=(16,8))\n",
    "plt.title('MODELS DISTRIBUTION FOR VOLKSWAGEN BRAND')\n",
    "model_count = sns.countplot(volkswagen_cars['model'])\n",
    "model = model_count.set_xticklabels(model_count.get_xticklabels(), rotation=90)"
   ]
  },
  {
   "cell_type": "markdown",
   "metadata": {},
   "source": [
    "*From the above 'MODELS DISTRIBUTION FOR VOLKSWAGEN BRAND', we can see that **golf** is the most popular and running model in  Volkswagen. Next, we can see is **polo** which the second competitor model.*"
   ]
  },
  {
   "cell_type": "markdown",
   "metadata": {},
   "source": [
    "#### Which vehicle type has maximum number of automatic transmission ?"
   ]
  },
  {
   "cell_type": "code",
   "execution_count": 19,
   "metadata": {},
   "outputs": [
    {
     "data": {
      "image/png": "[encoded data removed]",
      "text/plain": [
       "<matplotlib.figure.Figure at 0x1f983140588>"
      ]
     },
     "metadata": {},
     "output_type": "display_data"
    }
   ],
   "source": [
    "plt.figure(figsize=(16,8))\n",
    "vT_gb = sns.countplot(x='vehicleType', hue='gearbox', data=df2)\n",
    "vg = vT_gb.set_xticklabels(vT_gb.get_xticklabels(), rotation=90)"
   ]
  },
  {
   "cell_type": "markdown",
   "metadata": {},
   "source": [
    "*Based on the above graph, we can say that **Limousine** shows the maximum number of automatic transmission as compared with **Kombi**.*"
   ]
  },
  {
   "cell_type": "markdown",
   "metadata": {},
   "source": [
    "#### What is the min, max and average horse power of different vehichle type ?"
   ]
  },
  {
   "cell_type": "code",
   "execution_count": 20,
   "metadata": {},
   "outputs": [
    {
     "data": {
      "text/html": [
       "<div>\n",
       "<style>\n",
       "    .dataframe thead tr:only-child th {\n",
       "        text-align: right;\n",
       "    }\n",
       "\n",
       "    .dataframe thead th {\n",
       "        text-align: left;\n",
       "    }\n",
       "\n",
       "    .dataframe tbody tr th {\n",
       "        vertical-align: top;\n",
       "    }\n",
       "</style>\n",
       "<table border=\"1\" class=\"dataframe\">\n",
       "  <thead>\n",
       "    <tr style=\"text-align: right;\">\n",
       "      <th></th>\n",
       "      <th>powerPS_min</th>\n",
       "      <th>powerPS_max</th>\n",
       "      <th>powerPS_mean</th>\n",
       "    </tr>\n",
       "    <tr>\n",
       "      <th>vehicleType</th>\n",
       "      <th></th>\n",
       "      <th></th>\n",
       "      <th></th>\n",
       "    </tr>\n",
       "  </thead>\n",
       "  <tbody>\n",
       "    <tr>\n",
       "      <th>andere</th>\n",
       "      <td>0</td>\n",
       "      <td>12684</td>\n",
       "      <td>102.846910</td>\n",
       "    </tr>\n",
       "    <tr>\n",
       "      <th>bus</th>\n",
       "      <td>0</td>\n",
       "      <td>12512</td>\n",
       "      <td>114.009271</td>\n",
       "    </tr>\n",
       "    <tr>\n",
       "      <th>cabrio</th>\n",
       "      <td>0</td>\n",
       "      <td>16312</td>\n",
       "      <td>145.921410</td>\n",
       "    </tr>\n",
       "    <tr>\n",
       "      <th>coupe</th>\n",
       "      <td>0</td>\n",
       "      <td>20000</td>\n",
       "      <td>174.278791</td>\n",
       "    </tr>\n",
       "    <tr>\n",
       "      <th>kleinwagen</th>\n",
       "      <td>0</td>\n",
       "      <td>15020</td>\n",
       "      <td>68.992328</td>\n",
       "    </tr>\n",
       "    <tr>\n",
       "      <th>kombi</th>\n",
       "      <td>0</td>\n",
       "      <td>19312</td>\n",
       "      <td>136.838470</td>\n",
       "    </tr>\n",
       "    <tr>\n",
       "      <th>limousine</th>\n",
       "      <td>0</td>\n",
       "      <td>19211</td>\n",
       "      <td>132.636122</td>\n",
       "    </tr>\n",
       "    <tr>\n",
       "      <th>not-available</th>\n",
       "      <td>0</td>\n",
       "      <td>16011</td>\n",
       "      <td>73.757670</td>\n",
       "    </tr>\n",
       "    <tr>\n",
       "      <th>suv</th>\n",
       "      <td>0</td>\n",
       "      <td>17322</td>\n",
       "      <td>166.731899</td>\n",
       "    </tr>\n",
       "  </tbody>\n",
       "</table>\n",
       "</div>"
      ],
      "text/plain": [
       "               powerPS_min  powerPS_max  powerPS_mean\n",
       "vehicleType                                          \n",
       "andere                   0        12684    102.846910\n",
       "bus                      0        12512    114.009271\n",
       "cabrio                   0        16312    145.921410\n",
       "coupe                    0        20000    174.278791\n",
       "kleinwagen               0        15020     68.992328\n",
       "kombi                    0        19312    136.838470\n",
       "limousine                0        19211    132.636122\n",
       "not-available            0        16011     73.757670\n",
       "suv                      0        17322    166.731899"
      ]
     },
     "execution_count": 20,
     "metadata": {},
     "output_type": "execute_result"
    }
   ],
   "source": [
    "group_vT = df2.groupby('vehicleType').agg({\"powerPS\": [min, max, mean]}) \n",
    "# Using ravel, and a string join, we can create better names for the columns:\n",
    "group_vT.columns = [\"_\".join(x) for x in group_vT.columns.ravel()]\n",
    "group_vT"
   ]
  },
  {
   "cell_type": "markdown",
   "metadata": {
    "collapsed": true
   },
   "source": [
    "PowerPS_min with zero is not a valid value for the feature. So, rows having 0 powerPS can be removed to have better data understanding."
   ]
  }
 ],
 "metadata": {
  "kernelspec": {
   "display_name": "Python [conda root]",
   "language": "python",
   "name": "conda-root-py"
  },
  "language_info": {
   "codemirror_mode": {
    "name": "ipython",
    "version": 3
   },
   "file_extension": ".py",
   "mimetype": "text/x-python",
   "name": "python",
   "nbconvert_exporter": "python",
   "pygments_lexer": "ipython3",
   "version": "3.6.1"
  }
 },
 "nbformat": 4,
 "nbformat_minor": 2
}
